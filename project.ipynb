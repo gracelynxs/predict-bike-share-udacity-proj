{
 "cells": [
  {
   "cell_type": "code",
   "execution_count": 2,
   "outputs": [],
   "source": [
    "import kaggle\n",
    "from kaggle.api.kaggle_api_extended import KaggleApi\n",
    "api = KaggleApi()\n",
    "api.authenticate()"
   ],
   "metadata": {
    "collapsed": false,
    "pycharm": {
     "name": "#%%\n"
    }
   }
  },
  {
   "cell_type": "code",
   "execution_count": 3,
   "outputs": [],
   "source": [
    "import pandas as pd\n",
    "from autogluon.tabular import TabularPredictor"
   ],
   "metadata": {
    "collapsed": false,
    "pycharm": {
     "name": "#%%\n"
    }
   }
  },
  {
   "cell_type": "markdown",
   "source": [
    "### Data"
   ],
   "metadata": {
    "collapsed": false,
    "pycharm": {
     "name": "#%% md\n"
    }
   }
  },
  {
   "cell_type": "markdown",
   "source": [
    "datetime - hourly date + timestamp\n",
    "season -  1 = spring, 2 = summer, 3 = fall, 4 = winter\n",
    "holiday - whether the day is considered a holiday\n",
    "workingday - whether the day is neither a weekend nor holiday\n",
    "weather - 1: Clear, Few clouds, Partly cloudy, Partly cloudy\n",
    "2: Mist + Cloudy, Mist + Broken clouds, Mist + Few clouds, Mist\n",
    "3: Light Snow, Light Rain + Thunderstorm + Scattered clouds, Light Rain + Scattered clouds\n",
    "4: Heavy Rain + Ice Pallets + Thunderstorm + Mist, Snow + Fog\n",
    "temp - temperature in Celsius\n",
    "atemp - \"feels like\" temperature in Celsius\n",
    "humidity - relative humidity\n",
    "windspeed - wind speed\n",
    "casual - number of non-registered user rentals initiated\n",
    "registered - number of registered user rentals initiated\n",
    "count - number of total rentals"
   ],
   "metadata": {
    "collapsed": false,
    "pycharm": {
     "name": "#%% md\n"
    }
   }
  },
  {
   "cell_type": "code",
   "execution_count": 41,
   "outputs": [
    {
     "data": {
      "text/plain": "             datetime  season  holiday  workingday  weather  temp   atemp  \\\n0 2011-01-01 00:00:00       1        0           0        1  9.84  14.395   \n1 2011-01-01 01:00:00       1        0           0        1  9.02  13.635   \n2 2011-01-01 02:00:00       1        0           0        1  9.02  13.635   \n3 2011-01-01 03:00:00       1        0           0        1  9.84  14.395   \n4 2011-01-01 04:00:00       1        0           0        1  9.84  14.395   \n\n   humidity  windspeed  casual  registered  count  \n0        81        0.0       3          13     16  \n1        80        0.0       8          32     40  \n2        80        0.0       5          27     32  \n3        75        0.0       3          10     13  \n4        75        0.0       0           1      1  ",
      "text/html": "<div>\n<style scoped>\n    .dataframe tbody tr th:only-of-type {\n        vertical-align: middle;\n    }\n\n    .dataframe tbody tr th {\n        vertical-align: top;\n    }\n\n    .dataframe thead th {\n        text-align: right;\n    }\n</style>\n<table border=\"1\" class=\"dataframe\">\n  <thead>\n    <tr style=\"text-align: right;\">\n      <th></th>\n      <th>datetime</th>\n      <th>season</th>\n      <th>holiday</th>\n      <th>workingday</th>\n      <th>weather</th>\n      <th>temp</th>\n      <th>atemp</th>\n      <th>humidity</th>\n      <th>windspeed</th>\n      <th>casual</th>\n      <th>registered</th>\n      <th>count</th>\n    </tr>\n  </thead>\n  <tbody>\n    <tr>\n      <th>0</th>\n      <td>2011-01-01 00:00:00</td>\n      <td>1</td>\n      <td>0</td>\n      <td>0</td>\n      <td>1</td>\n      <td>9.84</td>\n      <td>14.395</td>\n      <td>81</td>\n      <td>0.0</td>\n      <td>3</td>\n      <td>13</td>\n      <td>16</td>\n    </tr>\n    <tr>\n      <th>1</th>\n      <td>2011-01-01 01:00:00</td>\n      <td>1</td>\n      <td>0</td>\n      <td>0</td>\n      <td>1</td>\n      <td>9.02</td>\n      <td>13.635</td>\n      <td>80</td>\n      <td>0.0</td>\n      <td>8</td>\n      <td>32</td>\n      <td>40</td>\n    </tr>\n    <tr>\n      <th>2</th>\n      <td>2011-01-01 02:00:00</td>\n      <td>1</td>\n      <td>0</td>\n      <td>0</td>\n      <td>1</td>\n      <td>9.02</td>\n      <td>13.635</td>\n      <td>80</td>\n      <td>0.0</td>\n      <td>5</td>\n      <td>27</td>\n      <td>32</td>\n    </tr>\n    <tr>\n      <th>3</th>\n      <td>2011-01-01 03:00:00</td>\n      <td>1</td>\n      <td>0</td>\n      <td>0</td>\n      <td>1</td>\n      <td>9.84</td>\n      <td>14.395</td>\n      <td>75</td>\n      <td>0.0</td>\n      <td>3</td>\n      <td>10</td>\n      <td>13</td>\n    </tr>\n    <tr>\n      <th>4</th>\n      <td>2011-01-01 04:00:00</td>\n      <td>1</td>\n      <td>0</td>\n      <td>0</td>\n      <td>1</td>\n      <td>9.84</td>\n      <td>14.395</td>\n      <td>75</td>\n      <td>0.0</td>\n      <td>0</td>\n      <td>1</td>\n      <td>1</td>\n    </tr>\n  </tbody>\n</table>\n</div>"
     },
     "execution_count": 41,
     "metadata": {},
     "output_type": "execute_result"
    }
   ],
   "source": [
    "# Create the train dataset in pandas by reading the csv\n",
    "# Set the parsing of the datetime column so you can use some of the `dt` features in pandas later\n",
    "train = pd.read_csv(\"./Data/train.csv\")\n",
    "train['datetime'] = pd.to_datetime(train['datetime'])\n",
    "train.head(5)"
   ],
   "metadata": {
    "collapsed": false,
    "pycharm": {
     "name": "#%%\n"
    }
   }
  },
  {
   "cell_type": "code",
   "execution_count": 42,
   "outputs": [
    {
     "data": {
      "text/plain": "             season       holiday    workingday       weather         temp  \\\ncount  10886.000000  10886.000000  10886.000000  10886.000000  10886.00000   \nmean       2.506614      0.028569      0.680875      1.418427     20.23086   \nstd        1.116174      0.166599      0.466159      0.633839      7.79159   \nmin        1.000000      0.000000      0.000000      1.000000      0.82000   \n25%        2.000000      0.000000      0.000000      1.000000     13.94000   \n50%        3.000000      0.000000      1.000000      1.000000     20.50000   \n75%        4.000000      0.000000      1.000000      2.000000     26.24000   \nmax        4.000000      1.000000      1.000000      4.000000     41.00000   \n\n              atemp      humidity     windspeed        casual    registered  \\\ncount  10886.000000  10886.000000  10886.000000  10886.000000  10886.000000   \nmean      23.655084     61.886460     12.799395     36.021955    155.552177   \nstd        8.474601     19.245033      8.164537     49.960477    151.039033   \nmin        0.760000      0.000000      0.000000      0.000000      0.000000   \n25%       16.665000     47.000000      7.001500      4.000000     36.000000   \n50%       24.240000     62.000000     12.998000     17.000000    118.000000   \n75%       31.060000     77.000000     16.997900     49.000000    222.000000   \nmax       45.455000    100.000000     56.996900    367.000000    886.000000   \n\n              count  \ncount  10886.000000  \nmean     191.574132  \nstd      181.144454  \nmin        1.000000  \n25%       42.000000  \n50%      145.000000  \n75%      284.000000  \nmax      977.000000  ",
      "text/html": "<div>\n<style scoped>\n    .dataframe tbody tr th:only-of-type {\n        vertical-align: middle;\n    }\n\n    .dataframe tbody tr th {\n        vertical-align: top;\n    }\n\n    .dataframe thead th {\n        text-align: right;\n    }\n</style>\n<table border=\"1\" class=\"dataframe\">\n  <thead>\n    <tr style=\"text-align: right;\">\n      <th></th>\n      <th>season</th>\n      <th>holiday</th>\n      <th>workingday</th>\n      <th>weather</th>\n      <th>temp</th>\n      <th>atemp</th>\n      <th>humidity</th>\n      <th>windspeed</th>\n      <th>casual</th>\n      <th>registered</th>\n      <th>count</th>\n    </tr>\n  </thead>\n  <tbody>\n    <tr>\n      <th>count</th>\n      <td>10886.000000</td>\n      <td>10886.000000</td>\n      <td>10886.000000</td>\n      <td>10886.000000</td>\n      <td>10886.00000</td>\n      <td>10886.000000</td>\n      <td>10886.000000</td>\n      <td>10886.000000</td>\n      <td>10886.000000</td>\n      <td>10886.000000</td>\n      <td>10886.000000</td>\n    </tr>\n    <tr>\n      <th>mean</th>\n      <td>2.506614</td>\n      <td>0.028569</td>\n      <td>0.680875</td>\n      <td>1.418427</td>\n      <td>20.23086</td>\n      <td>23.655084</td>\n      <td>61.886460</td>\n      <td>12.799395</td>\n      <td>36.021955</td>\n      <td>155.552177</td>\n      <td>191.574132</td>\n    </tr>\n    <tr>\n      <th>std</th>\n      <td>1.116174</td>\n      <td>0.166599</td>\n      <td>0.466159</td>\n      <td>0.633839</td>\n      <td>7.79159</td>\n      <td>8.474601</td>\n      <td>19.245033</td>\n      <td>8.164537</td>\n      <td>49.960477</td>\n      <td>151.039033</td>\n      <td>181.144454</td>\n    </tr>\n    <tr>\n      <th>min</th>\n      <td>1.000000</td>\n      <td>0.000000</td>\n      <td>0.000000</td>\n      <td>1.000000</td>\n      <td>0.82000</td>\n      <td>0.760000</td>\n      <td>0.000000</td>\n      <td>0.000000</td>\n      <td>0.000000</td>\n      <td>0.000000</td>\n      <td>1.000000</td>\n    </tr>\n    <tr>\n      <th>25%</th>\n      <td>2.000000</td>\n      <td>0.000000</td>\n      <td>0.000000</td>\n      <td>1.000000</td>\n      <td>13.94000</td>\n      <td>16.665000</td>\n      <td>47.000000</td>\n      <td>7.001500</td>\n      <td>4.000000</td>\n      <td>36.000000</td>\n      <td>42.000000</td>\n    </tr>\n    <tr>\n      <th>50%</th>\n      <td>3.000000</td>\n      <td>0.000000</td>\n      <td>1.000000</td>\n      <td>1.000000</td>\n      <td>20.50000</td>\n      <td>24.240000</td>\n      <td>62.000000</td>\n      <td>12.998000</td>\n      <td>17.000000</td>\n      <td>118.000000</td>\n      <td>145.000000</td>\n    </tr>\n    <tr>\n      <th>75%</th>\n      <td>4.000000</td>\n      <td>0.000000</td>\n      <td>1.000000</td>\n      <td>2.000000</td>\n      <td>26.24000</td>\n      <td>31.060000</td>\n      <td>77.000000</td>\n      <td>16.997900</td>\n      <td>49.000000</td>\n      <td>222.000000</td>\n      <td>284.000000</td>\n    </tr>\n    <tr>\n      <th>max</th>\n      <td>4.000000</td>\n      <td>1.000000</td>\n      <td>1.000000</td>\n      <td>4.000000</td>\n      <td>41.00000</td>\n      <td>45.455000</td>\n      <td>100.000000</td>\n      <td>56.996900</td>\n      <td>367.000000</td>\n      <td>886.000000</td>\n      <td>977.000000</td>\n    </tr>\n  </tbody>\n</table>\n</div>"
     },
     "execution_count": 42,
     "metadata": {},
     "output_type": "execute_result"
    }
   ],
   "source": [
    "train.describe()"
   ],
   "metadata": {
    "collapsed": false,
    "pycharm": {
     "name": "#%%\n"
    }
   }
  },
  {
   "cell_type": "code",
   "execution_count": 43,
   "outputs": [
    {
     "data": {
      "text/plain": "              datetime  season  holiday  workingday  weather   temp   atemp  \\\n0  2011-01-20 00:00:00       1        0           1        1  10.66  11.365   \n1  2011-01-20 01:00:00       1        0           1        1  10.66  13.635   \n2  2011-01-20 02:00:00       1        0           1        1  10.66  13.635   \n3  2011-01-20 03:00:00       1        0           1        1  10.66  12.880   \n4  2011-01-20 04:00:00       1        0           1        1  10.66  12.880   \n\n   humidity  windspeed  \n0        56    26.0027  \n1        56     0.0000  \n2        56     0.0000  \n3        56    11.0014  \n4        56    11.0014  ",
      "text/html": "<div>\n<style scoped>\n    .dataframe tbody tr th:only-of-type {\n        vertical-align: middle;\n    }\n\n    .dataframe tbody tr th {\n        vertical-align: top;\n    }\n\n    .dataframe thead th {\n        text-align: right;\n    }\n</style>\n<table border=\"1\" class=\"dataframe\">\n  <thead>\n    <tr style=\"text-align: right;\">\n      <th></th>\n      <th>datetime</th>\n      <th>season</th>\n      <th>holiday</th>\n      <th>workingday</th>\n      <th>weather</th>\n      <th>temp</th>\n      <th>atemp</th>\n      <th>humidity</th>\n      <th>windspeed</th>\n    </tr>\n  </thead>\n  <tbody>\n    <tr>\n      <th>0</th>\n      <td>2011-01-20 00:00:00</td>\n      <td>1</td>\n      <td>0</td>\n      <td>1</td>\n      <td>1</td>\n      <td>10.66</td>\n      <td>11.365</td>\n      <td>56</td>\n      <td>26.0027</td>\n    </tr>\n    <tr>\n      <th>1</th>\n      <td>2011-01-20 01:00:00</td>\n      <td>1</td>\n      <td>0</td>\n      <td>1</td>\n      <td>1</td>\n      <td>10.66</td>\n      <td>13.635</td>\n      <td>56</td>\n      <td>0.0000</td>\n    </tr>\n    <tr>\n      <th>2</th>\n      <td>2011-01-20 02:00:00</td>\n      <td>1</td>\n      <td>0</td>\n      <td>1</td>\n      <td>1</td>\n      <td>10.66</td>\n      <td>13.635</td>\n      <td>56</td>\n      <td>0.0000</td>\n    </tr>\n    <tr>\n      <th>3</th>\n      <td>2011-01-20 03:00:00</td>\n      <td>1</td>\n      <td>0</td>\n      <td>1</td>\n      <td>1</td>\n      <td>10.66</td>\n      <td>12.880</td>\n      <td>56</td>\n      <td>11.0014</td>\n    </tr>\n    <tr>\n      <th>4</th>\n      <td>2011-01-20 04:00:00</td>\n      <td>1</td>\n      <td>0</td>\n      <td>1</td>\n      <td>1</td>\n      <td>10.66</td>\n      <td>12.880</td>\n      <td>56</td>\n      <td>11.0014</td>\n    </tr>\n  </tbody>\n</table>\n</div>"
     },
     "execution_count": 43,
     "metadata": {},
     "output_type": "execute_result"
    }
   ],
   "source": [
    "# Create the test pandas dataframe in pandas by reading the csv, remember to parse the datetime!\n",
    "test = pd.read_csv(\"./Data/test.csv\")\n",
    "test.head()"
   ],
   "metadata": {
    "collapsed": false,
    "pycharm": {
     "name": "#%%\n"
    }
   }
  },
  {
   "cell_type": "code",
   "execution_count": 63,
   "outputs": [
    {
     "data": {
      "text/plain": "            season      holiday   workingday      weather         temp  \\\ncount  6493.000000  6493.000000  6493.000000  6493.000000  6493.000000   \nmean      2.493300     0.029108     0.685815     1.436778    20.620607   \nstd       1.091258     0.168123     0.464226     0.648390     8.059583   \nmin       1.000000     0.000000     0.000000     1.000000     0.820000   \n25%       2.000000     0.000000     0.000000     1.000000    13.940000   \n50%       3.000000     0.000000     1.000000     1.000000    21.320000   \n75%       3.000000     0.000000     1.000000     2.000000    27.060000   \nmax       4.000000     1.000000     1.000000     4.000000    40.180000   \n\n             atemp     humidity    windspeed  \ncount  6493.000000  6493.000000  6493.000000  \nmean     24.012865    64.125212    12.631157  \nstd       8.782741    19.293391     8.250151  \nmin       0.000000    16.000000     0.000000  \n25%      16.665000    49.000000     7.001500  \n50%      25.000000    65.000000    11.001400  \n75%      31.060000    81.000000    16.997900  \nmax      50.000000   100.000000    55.998600  ",
      "text/html": "<div>\n<style scoped>\n    .dataframe tbody tr th:only-of-type {\n        vertical-align: middle;\n    }\n\n    .dataframe tbody tr th {\n        vertical-align: top;\n    }\n\n    .dataframe thead th {\n        text-align: right;\n    }\n</style>\n<table border=\"1\" class=\"dataframe\">\n  <thead>\n    <tr style=\"text-align: right;\">\n      <th></th>\n      <th>season</th>\n      <th>holiday</th>\n      <th>workingday</th>\n      <th>weather</th>\n      <th>temp</th>\n      <th>atemp</th>\n      <th>humidity</th>\n      <th>windspeed</th>\n    </tr>\n  </thead>\n  <tbody>\n    <tr>\n      <th>count</th>\n      <td>6493.000000</td>\n      <td>6493.000000</td>\n      <td>6493.000000</td>\n      <td>6493.000000</td>\n      <td>6493.000000</td>\n      <td>6493.000000</td>\n      <td>6493.000000</td>\n      <td>6493.000000</td>\n    </tr>\n    <tr>\n      <th>mean</th>\n      <td>2.493300</td>\n      <td>0.029108</td>\n      <td>0.685815</td>\n      <td>1.436778</td>\n      <td>20.620607</td>\n      <td>24.012865</td>\n      <td>64.125212</td>\n      <td>12.631157</td>\n    </tr>\n    <tr>\n      <th>std</th>\n      <td>1.091258</td>\n      <td>0.168123</td>\n      <td>0.464226</td>\n      <td>0.648390</td>\n      <td>8.059583</td>\n      <td>8.782741</td>\n      <td>19.293391</td>\n      <td>8.250151</td>\n    </tr>\n    <tr>\n      <th>min</th>\n      <td>1.000000</td>\n      <td>0.000000</td>\n      <td>0.000000</td>\n      <td>1.000000</td>\n      <td>0.820000</td>\n      <td>0.000000</td>\n      <td>16.000000</td>\n      <td>0.000000</td>\n    </tr>\n    <tr>\n      <th>25%</th>\n      <td>2.000000</td>\n      <td>0.000000</td>\n      <td>0.000000</td>\n      <td>1.000000</td>\n      <td>13.940000</td>\n      <td>16.665000</td>\n      <td>49.000000</td>\n      <td>7.001500</td>\n    </tr>\n    <tr>\n      <th>50%</th>\n      <td>3.000000</td>\n      <td>0.000000</td>\n      <td>1.000000</td>\n      <td>1.000000</td>\n      <td>21.320000</td>\n      <td>25.000000</td>\n      <td>65.000000</td>\n      <td>11.001400</td>\n    </tr>\n    <tr>\n      <th>75%</th>\n      <td>3.000000</td>\n      <td>0.000000</td>\n      <td>1.000000</td>\n      <td>2.000000</td>\n      <td>27.060000</td>\n      <td>31.060000</td>\n      <td>81.000000</td>\n      <td>16.997900</td>\n    </tr>\n    <tr>\n      <th>max</th>\n      <td>4.000000</td>\n      <td>1.000000</td>\n      <td>1.000000</td>\n      <td>4.000000</td>\n      <td>40.180000</td>\n      <td>50.000000</td>\n      <td>100.000000</td>\n      <td>55.998600</td>\n    </tr>\n  </tbody>\n</table>\n</div>"
     },
     "execution_count": 63,
     "metadata": {},
     "output_type": "execute_result"
    }
   ],
   "source": [
    "test.describe()"
   ],
   "metadata": {
    "collapsed": false,
    "pycharm": {
     "name": "#%%\n"
    }
   }
  },
  {
   "cell_type": "code",
   "execution_count": 44,
   "outputs": [
    {
     "data": {
      "text/plain": "              datetime  count\n0  2011-01-20 00:00:00      0\n1  2011-01-20 01:00:00      0\n2  2011-01-20 02:00:00      0\n3  2011-01-20 03:00:00      0\n4  2011-01-20 04:00:00      0",
      "text/html": "<div>\n<style scoped>\n    .dataframe tbody tr th:only-of-type {\n        vertical-align: middle;\n    }\n\n    .dataframe tbody tr th {\n        vertical-align: top;\n    }\n\n    .dataframe thead th {\n        text-align: right;\n    }\n</style>\n<table border=\"1\" class=\"dataframe\">\n  <thead>\n    <tr style=\"text-align: right;\">\n      <th></th>\n      <th>datetime</th>\n      <th>count</th>\n    </tr>\n  </thead>\n  <tbody>\n    <tr>\n      <th>0</th>\n      <td>2011-01-20 00:00:00</td>\n      <td>0</td>\n    </tr>\n    <tr>\n      <th>1</th>\n      <td>2011-01-20 01:00:00</td>\n      <td>0</td>\n    </tr>\n    <tr>\n      <th>2</th>\n      <td>2011-01-20 02:00:00</td>\n      <td>0</td>\n    </tr>\n    <tr>\n      <th>3</th>\n      <td>2011-01-20 03:00:00</td>\n      <td>0</td>\n    </tr>\n    <tr>\n      <th>4</th>\n      <td>2011-01-20 04:00:00</td>\n      <td>0</td>\n    </tr>\n  </tbody>\n</table>\n</div>"
     },
     "execution_count": 44,
     "metadata": {},
     "output_type": "execute_result"
    }
   ],
   "source": [
    "# Same thing as train and test dataset\n",
    "submission = pd.read_csv(\"./Data/sampleSubmission.csv\")\n",
    "submission.head()"
   ],
   "metadata": {
    "collapsed": false,
    "pycharm": {
     "name": "#%%\n"
    }
   }
  },
  {
   "cell_type": "code",
   "execution_count": 64,
   "outputs": [
    {
     "data": {
      "text/plain": "             count\ncount  6493.000000\nmean    100.389969\nstd      89.943405\nmin       3.319188\n25%      19.963657\n50%      63.284554\n75%     169.917923\nmax     364.556915",
      "text/html": "<div>\n<style scoped>\n    .dataframe tbody tr th:only-of-type {\n        vertical-align: middle;\n    }\n\n    .dataframe tbody tr th {\n        vertical-align: top;\n    }\n\n    .dataframe thead th {\n        text-align: right;\n    }\n</style>\n<table border=\"1\" class=\"dataframe\">\n  <thead>\n    <tr style=\"text-align: right;\">\n      <th></th>\n      <th>count</th>\n    </tr>\n  </thead>\n  <tbody>\n    <tr>\n      <th>count</th>\n      <td>6493.000000</td>\n    </tr>\n    <tr>\n      <th>mean</th>\n      <td>100.389969</td>\n    </tr>\n    <tr>\n      <th>std</th>\n      <td>89.943405</td>\n    </tr>\n    <tr>\n      <th>min</th>\n      <td>3.319188</td>\n    </tr>\n    <tr>\n      <th>25%</th>\n      <td>19.963657</td>\n    </tr>\n    <tr>\n      <th>50%</th>\n      <td>63.284554</td>\n    </tr>\n    <tr>\n      <th>75%</th>\n      <td>169.917923</td>\n    </tr>\n    <tr>\n      <th>max</th>\n      <td>364.556915</td>\n    </tr>\n  </tbody>\n</table>\n</div>"
     },
     "execution_count": 64,
     "metadata": {},
     "output_type": "execute_result"
    }
   ],
   "source": [
    "submission.describe()"
   ],
   "metadata": {
    "collapsed": false,
    "pycharm": {
     "name": "#%%\n"
    }
   }
  },
  {
   "cell_type": "markdown",
   "source": [
    "### Model"
   ],
   "metadata": {
    "collapsed": false,
    "pycharm": {
     "name": "#%% md\n"
    }
   }
  },
  {
   "cell_type": "markdown",
   "source": [
    "Requirements:\n",
    "- We are predicting count, so it is the label we are setting.\n",
    "- Ignore casual and registered columns as they are also not present in the test dataset.\n",
    "- Use the root_mean_squared_error as the metric to use for evaluation.\n",
    "- Set a time limit of 10 minutes (600 seconds).\n",
    "- Use the preset best_quality to focus on creating the best model."
   ],
   "metadata": {
    "collapsed": false,
    "pycharm": {
     "name": "#%% md\n"
    }
   }
  },
  {
   "cell_type": "code",
   "execution_count": 45,
   "outputs": [],
   "source": [
    "train = train.drop(columns=['casual', 'registered'])"
   ],
   "metadata": {
    "collapsed": false,
    "pycharm": {
     "name": "#%%\n"
    }
   }
  },
  {
   "cell_type": "code",
   "execution_count": 69,
   "outputs": [
    {
     "data": {
      "text/plain": "              datetime  season  holiday  workingday  weather  temp   atemp  \\\n0  2011-01-01 00:00:00       1        0           0        1  9.84  14.395   \n1  2011-01-01 01:00:00       1        0           0        1  9.02  13.635   \n2  2011-01-01 02:00:00       1        0           0        1  9.02  13.635   \n3  2011-01-01 03:00:00       1        0           0        1  9.84  14.395   \n4  2011-01-01 04:00:00       1        0           0        1  9.84  14.395   \n..                 ...     ...      ...         ...      ...   ...     ...   \n95 2011-01-05 04:00:00       1        0           1        1  9.84  11.365   \n96 2011-01-05 05:00:00       1        0           1        1  9.02  11.365   \n97 2011-01-05 06:00:00       1        0           1        1  8.20   9.850   \n98 2011-01-05 07:00:00       1        0           1        1  7.38   9.090   \n99 2011-01-05 08:00:00       1        0           1        1  8.20   9.090   \n\n    humidity  windspeed  count  \n0         81     0.0000     16  \n1         80     0.0000     40  \n2         80     0.0000     32  \n3         75     0.0000     13  \n4         75     0.0000      1  \n..       ...        ...    ...  \n95        48    15.0013      2  \n96        47    11.0014      3  \n97        47    15.0013     33  \n98        43    12.9980     88  \n99        40    19.9995    195  \n\n[100 rows x 10 columns]",
      "text/html": "<div>\n<style scoped>\n    .dataframe tbody tr th:only-of-type {\n        vertical-align: middle;\n    }\n\n    .dataframe tbody tr th {\n        vertical-align: top;\n    }\n\n    .dataframe thead th {\n        text-align: right;\n    }\n</style>\n<table border=\"1\" class=\"dataframe\">\n  <thead>\n    <tr style=\"text-align: right;\">\n      <th></th>\n      <th>datetime</th>\n      <th>season</th>\n      <th>holiday</th>\n      <th>workingday</th>\n      <th>weather</th>\n      <th>temp</th>\n      <th>atemp</th>\n      <th>humidity</th>\n      <th>windspeed</th>\n      <th>count</th>\n    </tr>\n  </thead>\n  <tbody>\n    <tr>\n      <th>0</th>\n      <td>2011-01-01 00:00:00</td>\n      <td>1</td>\n      <td>0</td>\n      <td>0</td>\n      <td>1</td>\n      <td>9.84</td>\n      <td>14.395</td>\n      <td>81</td>\n      <td>0.0000</td>\n      <td>16</td>\n    </tr>\n    <tr>\n      <th>1</th>\n      <td>2011-01-01 01:00:00</td>\n      <td>1</td>\n      <td>0</td>\n      <td>0</td>\n      <td>1</td>\n      <td>9.02</td>\n      <td>13.635</td>\n      <td>80</td>\n      <td>0.0000</td>\n      <td>40</td>\n    </tr>\n    <tr>\n      <th>2</th>\n      <td>2011-01-01 02:00:00</td>\n      <td>1</td>\n      <td>0</td>\n      <td>0</td>\n      <td>1</td>\n      <td>9.02</td>\n      <td>13.635</td>\n      <td>80</td>\n      <td>0.0000</td>\n      <td>32</td>\n    </tr>\n    <tr>\n      <th>3</th>\n      <td>2011-01-01 03:00:00</td>\n      <td>1</td>\n      <td>0</td>\n      <td>0</td>\n      <td>1</td>\n      <td>9.84</td>\n      <td>14.395</td>\n      <td>75</td>\n      <td>0.0000</td>\n      <td>13</td>\n    </tr>\n    <tr>\n      <th>4</th>\n      <td>2011-01-01 04:00:00</td>\n      <td>1</td>\n      <td>0</td>\n      <td>0</td>\n      <td>1</td>\n      <td>9.84</td>\n      <td>14.395</td>\n      <td>75</td>\n      <td>0.0000</td>\n      <td>1</td>\n    </tr>\n    <tr>\n      <th>...</th>\n      <td>...</td>\n      <td>...</td>\n      <td>...</td>\n      <td>...</td>\n      <td>...</td>\n      <td>...</td>\n      <td>...</td>\n      <td>...</td>\n      <td>...</td>\n      <td>...</td>\n    </tr>\n    <tr>\n      <th>95</th>\n      <td>2011-01-05 04:00:00</td>\n      <td>1</td>\n      <td>0</td>\n      <td>1</td>\n      <td>1</td>\n      <td>9.84</td>\n      <td>11.365</td>\n      <td>48</td>\n      <td>15.0013</td>\n      <td>2</td>\n    </tr>\n    <tr>\n      <th>96</th>\n      <td>2011-01-05 05:00:00</td>\n      <td>1</td>\n      <td>0</td>\n      <td>1</td>\n      <td>1</td>\n      <td>9.02</td>\n      <td>11.365</td>\n      <td>47</td>\n      <td>11.0014</td>\n      <td>3</td>\n    </tr>\n    <tr>\n      <th>97</th>\n      <td>2011-01-05 06:00:00</td>\n      <td>1</td>\n      <td>0</td>\n      <td>1</td>\n      <td>1</td>\n      <td>8.20</td>\n      <td>9.850</td>\n      <td>47</td>\n      <td>15.0013</td>\n      <td>33</td>\n    </tr>\n    <tr>\n      <th>98</th>\n      <td>2011-01-05 07:00:00</td>\n      <td>1</td>\n      <td>0</td>\n      <td>1</td>\n      <td>1</td>\n      <td>7.38</td>\n      <td>9.090</td>\n      <td>43</td>\n      <td>12.9980</td>\n      <td>88</td>\n    </tr>\n    <tr>\n      <th>99</th>\n      <td>2011-01-05 08:00:00</td>\n      <td>1</td>\n      <td>0</td>\n      <td>1</td>\n      <td>1</td>\n      <td>8.20</td>\n      <td>9.090</td>\n      <td>40</td>\n      <td>19.9995</td>\n      <td>195</td>\n    </tr>\n  </tbody>\n</table>\n<p>100 rows × 10 columns</p>\n</div>"
     },
     "execution_count": 69,
     "metadata": {},
     "output_type": "execute_result"
    }
   ],
   "source": [
    "train.head(100)"
   ],
   "metadata": {
    "collapsed": false,
    "pycharm": {
     "name": "#%%\n"
    }
   }
  },
  {
   "cell_type": "code",
   "execution_count": 47,
   "outputs": [
    {
     "name": "stderr",
     "output_type": "stream",
     "text": [
      "No path specified. Models will be saved in: \"AutogluonModels/ag-20220718_210448\\\"\n",
      "Presets specified: ['best_quality']\n",
      "Beginning AutoGluon training ... Time limit = 600s\n",
      "AutoGluon will save models to \"AutogluonModels/ag-20220718_210448\\\"\n",
      "AutoGluon Version:  0.5.0\n",
      "Python Version:     3.9.12\n",
      "Operating System:   Windows\n",
      "Train Data Rows:    10886\n",
      "Train Data Columns: 9\n",
      "Label Column: count\n",
      "Preprocessing data ...\n",
      "Using Feature Generators to preprocess the data ...\n",
      "Fitting AutoMLPipelineFeatureGenerator...\n",
      "\tAvailable Memory:                    3483.84 MB\n",
      "\tTrain Data (Original)  Memory Usage: 0.78 MB (0.0% of available memory)\n",
      "\tInferring data type of each feature based on column values. Set feature_metadata_in to manually specify special dtypes of the features.\n",
      "\tStage 1 Generators:\n",
      "\t\tFitting AsTypeFeatureGenerator...\n",
      "\t\t\tNote: Converting 2 features to boolean dtype as they only contain 2 unique values.\n",
      "\tStage 2 Generators:\n",
      "\t\tFitting FillNaFeatureGenerator...\n",
      "\tStage 3 Generators:\n",
      "\t\tFitting IdentityFeatureGenerator...\n",
      "\t\tFitting DatetimeFeatureGenerator...\n",
      "\tStage 4 Generators:\n",
      "\t\tFitting DropUniqueFeatureGenerator...\n",
      "\tTypes of features in original data (raw dtype, special dtypes):\n",
      "\t\t('datetime', []) : 1 | ['datetime']\n",
      "\t\t('float', [])    : 3 | ['temp', 'atemp', 'windspeed']\n",
      "\t\t('int', [])      : 5 | ['season', 'holiday', 'workingday', 'weather', 'humidity']\n",
      "\tTypes of features in processed data (raw dtype, special dtypes):\n",
      "\t\t('float', [])                : 3 | ['temp', 'atemp', 'windspeed']\n",
      "\t\t('int', [])                  : 3 | ['season', 'weather', 'humidity']\n",
      "\t\t('int', ['bool'])            : 2 | ['holiday', 'workingday']\n",
      "\t\t('int', ['datetime_as_int']) : 5 | ['datetime', 'datetime.year', 'datetime.month', 'datetime.day', 'datetime.dayofweek']\n",
      "\t0.1s = Fit runtime\n",
      "\t9 features in original data used to generate 13 features in processed data.\n",
      "\tTrain Data (Processed) Memory Usage: 0.81 MB (0.0% of available memory)\n",
      "Data preprocessing and feature engineering runtime = 0.15s ...\n",
      "AutoGluon will gauge predictive performance using evaluation metric: 'root_mean_squared_error'\n",
      "\tThis metric's sign has been flipped to adhere to being higher_is_better. The metric score can be multiplied by -1 to get the metric value.\n",
      "\tTo change this, specify the eval_metric parameter of Predictor()\n",
      "AutoGluon will fit 2 stack levels (L1 to L2) ...\n",
      "Fitting 11 L1 models ...\n",
      "Fitting model: KNeighborsUnif_BAG_L1 ... Training model for up to 399.8s of the 599.84s of remaining time.\n",
      "\t-101.5882\t = Validation score   (-root_mean_squared_error)\n",
      "\t0.07s\t = Training   runtime\n",
      "\t0.06s\t = Validation runtime\n",
      "Fitting model: KNeighborsDist_BAG_L1 ... Training model for up to 399.56s of the 599.61s of remaining time.\n",
      "\t-84.1464\t = Validation score   (-root_mean_squared_error)\n",
      "\t0.08s\t = Training   runtime\n",
      "\t0.04s\t = Validation runtime\n",
      "Fitting model: LightGBMXT_BAG_L1 ... Training model for up to 399.37s of the 599.42s of remaining time.\n",
      "\tFitting 8 child models (S1F1 - S1F8) | Fitting with ParallelLocalFoldFittingStrategy\n",
      "\t-131.4609\t = Validation score   (-root_mean_squared_error)\n",
      "\t49.56s\t = Training   runtime\n",
      "\t17.02s\t = Validation runtime\n",
      "Fitting model: LightGBM_BAG_L1 ... Training model for up to 337.88s of the 537.93s of remaining time.\n",
      "\tFitting 8 child models (S1F1 - S1F8) | Fitting with ParallelLocalFoldFittingStrategy\n",
      "\t-131.0542\t = Validation score   (-root_mean_squared_error)\n",
      "\t14.9s\t = Training   runtime\n",
      "\t2.96s\t = Validation runtime\n",
      "Fitting model: RandomForestMSE_BAG_L1 ... Training model for up to 311.99s of the 512.03s of remaining time.\n",
      "\t-116.5438\t = Validation score   (-root_mean_squared_error)\n",
      "\t7.98s\t = Training   runtime\n",
      "\t1.37s\t = Validation runtime\n",
      "Fitting model: CatBoost_BAG_L1 ... Training model for up to 301.87s of the 501.91s of remaining time.\n",
      "\tFitting 8 child models (S1F1 - S1F8) | Fitting with ParallelLocalFoldFittingStrategy\n",
      "\t-130.4612\t = Validation score   (-root_mean_squared_error)\n",
      "\t242.59s\t = Training   runtime\n",
      "\t0.28s\t = Validation runtime\n",
      "Fitting model: ExtraTreesMSE_BAG_L1 ... Training model for up to 50.86s of the 250.9s of remaining time.\n",
      "\t-124.594\t = Validation score   (-root_mean_squared_error)\n",
      "\t4.02s\t = Training   runtime\n",
      "\t1.18s\t = Validation runtime\n",
      "Fitting model: NeuralNetFastAI_BAG_L1 ... Training model for up to 44.93s of the 244.97s of remaining time.\n",
      "\tFitting 8 child models (S1F1 - S1F8) | Fitting with ParallelLocalFoldFittingStrategy\n",
      "\t-137.1373\t = Validation score   (-root_mean_squared_error)\n",
      "\t37.84s\t = Training   runtime\n",
      "\t0.46s\t = Validation runtime\n",
      "Completed 1/20 k-fold bagging repeats ...\n",
      "Fitting model: WeightedEnsemble_L2 ... Training model for up to 360.0s of the 198.63s of remaining time.\n",
      "\t-84.1464\t = Validation score   (-root_mean_squared_error)\n",
      "\t0.72s\t = Training   runtime\n",
      "\t0.0s\t = Validation runtime\n",
      "Fitting 9 L2 models ...\n",
      "Fitting model: LightGBMXT_BAG_L2 ... Training model for up to 197.89s of the 197.88s of remaining time.\n",
      "\tFitting 8 child models (S1F1 - S1F8) | Fitting with ParallelLocalFoldFittingStrategy\n",
      "\t-60.4138\t = Validation score   (-root_mean_squared_error)\n",
      "\t35.0s\t = Training   runtime\n",
      "\t7.26s\t = Validation runtime\n",
      "Fitting model: LightGBM_BAG_L2 ... Training model for up to 152.08s of the 152.07s of remaining time.\n",
      "\tFitting 8 child models (S1F1 - S1F8) | Fitting with ParallelLocalFoldFittingStrategy\n",
      "\t-54.7755\t = Validation score   (-root_mean_squared_error)\n",
      "\t13.29s\t = Training   runtime\n",
      "\t0.58s\t = Validation runtime\n",
      "Fitting model: RandomForestMSE_BAG_L2 ... Training model for up to 131.14s of the 131.13s of remaining time.\n",
      "\t-53.2619\t = Validation score   (-root_mean_squared_error)\n",
      "\t18.76s\t = Training   runtime\n",
      "\t1.66s\t = Validation runtime\n",
      "Fitting model: CatBoost_BAG_L2 ... Training model for up to 109.94s of the 109.93s of remaining time.\n",
      "\tFitting 8 child models (S1F1 - S1F8) | Fitting with ParallelLocalFoldFittingStrategy\n",
      "\t-55.4265\t = Validation score   (-root_mean_squared_error)\n",
      "\t44.38s\t = Training   runtime\n",
      "\t0.22s\t = Validation runtime\n",
      "Fitting model: ExtraTreesMSE_BAG_L2 ... Training model for up to 54.39s of the 54.38s of remaining time.\n",
      "\t-53.7154\t = Validation score   (-root_mean_squared_error)\n",
      "\t3.52s\t = Training   runtime\n",
      "\t0.97s\t = Validation runtime\n",
      "Fitting model: NeuralNetFastAI_BAG_L2 ... Training model for up to 49.22s of the 49.22s of remaining time.\n",
      "\tFitting 8 child models (S1F1 - S1F8) | Fitting with ParallelLocalFoldFittingStrategy\n",
      "\tWarning: Exception caused NeuralNetFastAI_BAG_L2 to fail during training... Skipping this model.\n",
      "\t\t\u001B[36mray::_ray_fit()\u001B[39m (pid=83608, ip=127.0.0.1)\n",
      "  File \"python\\ray\\_raylet.pyx\", line 623, in ray._raylet.execute_task\n",
      "  File \"C:\\Users\\grace\\anaconda3\\envs\\myenv\\lib\\site-packages\\ray\\_private\\memory_monitor.py\", line 162, in raise_if_low_memory\n",
      "    raise RayOutOfMemoryError(\n",
      "ray._private.memory_monitor.RayOutOfMemoryError: More than 95% of the memory on node ALFREDO is used (15.14 / 15.84 GB). The top 10 memory consumers are:\n",
      "\n",
      "PID\tMEM\tCOMMAND\n",
      "66736\t2.83GiB\tC:\\Program Files\\JetBrains\\PyCharm 2022.1.2\\bin\\pycharm64.exe\n",
      "38720\t0.82GiB\tC:\\Program Files\\Mozilla Firefox\\firefox.exe -contentproc --channel=66184.896.407748818\\450433558 -c\n",
      "66184\t0.63GiB\tC:\\Program Files\\Mozilla Firefox\\firefox.exe\n",
      "69800\t0.62GiB\tC:\\Program Files\\Mozilla Firefox\\firefox.exe -contentproc --channel=66184.0.1488242687\\1923094303 -p\n",
      "5932\t0.32GiB\tC:\\windows\\Explorer.EXE\n",
      "66904\t0.29GiB\tC:\\Users\\grace\\anaconda3\\envs\\myenv\\python.exe -m ipykernel_launcher -f C:\\Users\\grace\\AppData\\Roami\n",
      "56932\t0.28GiB\tC:\\Program Files\\WindowsApps\\TelegramMessengerLLP.TelegramDesktop_4.0.0.0_x64__t4vj0pshhgkwm\\Telegra\n",
      "81312\t0.27GiB\tC:\\Users\\grace\\anaconda3\\envs\\myenv\\python.exe C:\\Users\\grace\\anaconda3\\envs\\myenv\\lib\\site-packages\n",
      "83072\t0.27GiB\tC:\\Users\\grace\\anaconda3\\envs\\myenv\\python.exe C:\\Users\\grace\\anaconda3\\envs\\myenv\\lib\\site-packages\n",
      "65916\t0.27GiB\tC:\\Users\\grace\\anaconda3\\envs\\myenv\\python.exe C:\\Users\\grace\\anaconda3\\envs\\myenv\\lib\\site-packages\n",
      "\n",
      "In addition, up to 0.0 GiB of shared memory is currently being used by the Ray object store.\n",
      "---\n",
      "--- Tip: Use the `ray memory` command to list active objects in the cluster.\n",
      "--- To disable OOM exceptions, set RAY_DISABLE_MEMORY_MONITOR=1.\n",
      "---\n",
      "Detailed Traceback:\n",
      "Traceback (most recent call last):\n",
      "  File \"C:\\Users\\grace\\anaconda3\\envs\\myenv\\lib\\site-packages\\autogluon\\core\\trainer\\abstract_trainer.py\", line 1086, in _train_and_save\n",
      "    model = self._train_single(X, y, model, X_val, y_val, **model_fit_kwargs)\n",
      "  File \"C:\\Users\\grace\\anaconda3\\envs\\myenv\\lib\\site-packages\\autogluon\\core\\trainer\\abstract_trainer.py\", line 1044, in _train_single\n",
      "    model = model.fit(X=X, y=y, X_val=X_val, y_val=y_val, **model_fit_kwargs)\n",
      "  File \"C:\\Users\\grace\\anaconda3\\envs\\myenv\\lib\\site-packages\\autogluon\\core\\models\\abstract\\abstract_model.py\", line 579, in fit\n",
      "    out = self._fit(**kwargs)\n",
      "  File \"C:\\Users\\grace\\anaconda3\\envs\\myenv\\lib\\site-packages\\autogluon\\core\\models\\ensemble\\stacker_ensemble_model.py\", line 153, in _fit\n",
      "    return super()._fit(X=X, y=y, time_limit=time_limit, **kwargs)\n",
      "  File \"C:\\Users\\grace\\anaconda3\\envs\\myenv\\lib\\site-packages\\autogluon\\core\\models\\ensemble\\bagged_ensemble_model.py\", line 232, in _fit\n",
      "    self._fit_folds(X=X, y=y, model_base=model_base, X_pseudo=X_pseudo, y_pseudo=y_pseudo,\n",
      "  File \"C:\\Users\\grace\\anaconda3\\envs\\myenv\\lib\\site-packages\\autogluon\\core\\models\\ensemble\\bagged_ensemble_model.py\", line 503, in _fit_folds\n",
      "    fold_fitting_strategy.after_all_folds_scheduled()\n",
      "  File \"C:\\Users\\grace\\anaconda3\\envs\\myenv\\lib\\site-packages\\autogluon\\core\\models\\ensemble\\fold_fitting_strategy.py\", line 468, in after_all_folds_scheduled\n",
      "    raise processed_exception\n",
      "  File \"C:\\Users\\grace\\anaconda3\\envs\\myenv\\lib\\site-packages\\autogluon\\core\\models\\ensemble\\fold_fitting_strategy.py\", line 436, in after_all_folds_scheduled\n",
      "    time_end_fit, predict_time, predict_1_time = self.ray.get(finished)\n",
      "  File \"C:\\Users\\grace\\anaconda3\\envs\\myenv\\lib\\site-packages\\ray\\_private\\client_mode_hook.py\", line 105, in wrapper\n",
      "    return func(*args, **kwargs)\n",
      "  File \"C:\\Users\\grace\\anaconda3\\envs\\myenv\\lib\\site-packages\\ray\\worker.py\", line 1831, in get\n",
      "    raise value.as_instanceof_cause()\n",
      "ray.exceptions.RayTaskError(RayOutOfMemoryError): \u001B[36mray::_ray_fit()\u001B[39m (pid=83608, ip=127.0.0.1)\n",
      "  File \"python\\ray\\_raylet.pyx\", line 623, in ray._raylet.execute_task\n",
      "  File \"C:\\Users\\grace\\anaconda3\\envs\\myenv\\lib\\site-packages\\ray\\_private\\memory_monitor.py\", line 162, in raise_if_low_memory\n",
      "    raise RayOutOfMemoryError(\n",
      "ray._private.memory_monitor.RayOutOfMemoryError: More than 95% of the memory on node ALFREDO is used (15.14 / 15.84 GB). The top 10 memory consumers are:\n",
      "\n",
      "PID\tMEM\tCOMMAND\n",
      "66736\t2.83GiB\tC:\\Program Files\\JetBrains\\PyCharm 2022.1.2\\bin\\pycharm64.exe\n",
      "38720\t0.82GiB\tC:\\Program Files\\Mozilla Firefox\\firefox.exe -contentproc --channel=66184.896.407748818\\450433558 -c\n",
      "66184\t0.63GiB\tC:\\Program Files\\Mozilla Firefox\\firefox.exe\n",
      "69800\t0.62GiB\tC:\\Program Files\\Mozilla Firefox\\firefox.exe -contentproc --channel=66184.0.1488242687\\1923094303 -p\n",
      "5932\t0.32GiB\tC:\\windows\\Explorer.EXE\n",
      "66904\t0.29GiB\tC:\\Users\\grace\\anaconda3\\envs\\myenv\\python.exe -m ipykernel_launcher -f C:\\Users\\grace\\AppData\\Roami\n",
      "56932\t0.28GiB\tC:\\Program Files\\WindowsApps\\TelegramMessengerLLP.TelegramDesktop_4.0.0.0_x64__t4vj0pshhgkwm\\Telegra\n",
      "81312\t0.27GiB\tC:\\Users\\grace\\anaconda3\\envs\\myenv\\python.exe C:\\Users\\grace\\anaconda3\\envs\\myenv\\lib\\site-packages\n",
      "83072\t0.27GiB\tC:\\Users\\grace\\anaconda3\\envs\\myenv\\python.exe C:\\Users\\grace\\anaconda3\\envs\\myenv\\lib\\site-packages\n",
      "65916\t0.27GiB\tC:\\Users\\grace\\anaconda3\\envs\\myenv\\python.exe C:\\Users\\grace\\anaconda3\\envs\\myenv\\lib\\site-packages\n",
      "\n",
      "In addition, up to 0.0 GiB of shared memory is currently being used by the Ray object store.\n",
      "---\n",
      "--- Tip: Use the `ray memory` command to list active objects in the cluster.\n",
      "--- To disable OOM exceptions, set RAY_DISABLE_MEMORY_MONITOR=1.\n",
      "---\n",
      "Fitting model: XGBoost_BAG_L2 ... Training model for up to 29.89s of the 29.88s of remaining time.\n",
      "\tFitting 8 child models (S1F1 - S1F8) | Fitting with ParallelLocalFoldFittingStrategy\n",
      "\t-55.1553\t = Validation score   (-root_mean_squared_error)\n",
      "\t8.11s\t = Training   runtime\n",
      "\t0.16s\t = Validation runtime\n",
      "Fitting model: NeuralNetTorch_BAG_L2 ... Training model for up to 9.61s of the 9.6s of remaining time.\n",
      "\tFitting 8 child models (S1F1 - S1F8) | Fitting with ParallelLocalFoldFittingStrategy\n",
      "\tWarning: Exception caused NeuralNetTorch_BAG_L2 to fail during training... Skipping this model.\n",
      "\t\t\u001B[36mray::_ray_fit()\u001B[39m (pid=37124, ip=127.0.0.1)\n",
      "  File \"python\\ray\\_raylet.pyx\", line 623, in ray._raylet.execute_task\n",
      "  File \"C:\\Users\\grace\\anaconda3\\envs\\myenv\\lib\\site-packages\\ray\\_private\\memory_monitor.py\", line 162, in raise_if_low_memory\n",
      "    raise RayOutOfMemoryError(\n",
      "ray._private.memory_monitor.RayOutOfMemoryError: More than 95% of the memory on node ALFREDO is used (15.08 / 15.84 GB). The top 10 memory consumers are:\n",
      "\n",
      "PID\tMEM\tCOMMAND\n",
      "66736\t2.83GiB\tC:\\Program Files\\JetBrains\\PyCharm 2022.1.2\\bin\\pycharm64.exe\n",
      "38720\t0.86GiB\tC:\\Program Files\\Mozilla Firefox\\firefox.exe -contentproc --channel=66184.896.407748818\\450433558 -c\n",
      "66184\t0.62GiB\tC:\\Program Files\\Mozilla Firefox\\firefox.exe\n",
      "69800\t0.6GiB\tC:\\Program Files\\Mozilla Firefox\\firefox.exe -contentproc --channel=66184.0.1488242687\\1923094303 -p\n",
      "5932\t0.32GiB\tC:\\windows\\Explorer.EXE\n",
      "66904\t0.3GiB\tC:\\Users\\grace\\anaconda3\\envs\\myenv\\python.exe -m ipykernel_launcher -f C:\\Users\\grace\\AppData\\Roami\n",
      "56932\t0.28GiB\tC:\\Program Files\\WindowsApps\\TelegramMessengerLLP.TelegramDesktop_4.0.0.0_x64__t4vj0pshhgkwm\\Telegra\n",
      "12828\t0.25GiB\tC:\\Users\\grace\\anaconda3\\envs\\myenv\\python.exe C:\\Users\\grace\\anaconda3\\envs\\myenv\\lib\\site-packages\n",
      "51692\t0.25GiB\tC:\\Users\\grace\\anaconda3\\envs\\myenv\\python.exe C:\\Users\\grace\\anaconda3\\envs\\myenv\\lib\\site-packages\n",
      "65380\t0.25GiB\tC:\\Users\\grace\\anaconda3\\envs\\myenv\\python.exe C:\\Users\\grace\\anaconda3\\envs\\myenv\\lib\\site-packages\n",
      "\n",
      "In addition, up to 0.0 GiB of shared memory is currently being used by the Ray object store.\n",
      "---\n",
      "--- Tip: Use the `ray memory` command to list active objects in the cluster.\n",
      "--- To disable OOM exceptions, set RAY_DISABLE_MEMORY_MONITOR=1.\n",
      "---\n",
      "Detailed Traceback:\n",
      "Traceback (most recent call last):\n",
      "  File \"C:\\Users\\grace\\anaconda3\\envs\\myenv\\lib\\site-packages\\autogluon\\core\\trainer\\abstract_trainer.py\", line 1086, in _train_and_save\n",
      "    model = self._train_single(X, y, model, X_val, y_val, **model_fit_kwargs)\n",
      "  File \"C:\\Users\\grace\\anaconda3\\envs\\myenv\\lib\\site-packages\\autogluon\\core\\trainer\\abstract_trainer.py\", line 1044, in _train_single\n",
      "    model = model.fit(X=X, y=y, X_val=X_val, y_val=y_val, **model_fit_kwargs)\n",
      "  File \"C:\\Users\\grace\\anaconda3\\envs\\myenv\\lib\\site-packages\\autogluon\\core\\models\\abstract\\abstract_model.py\", line 579, in fit\n",
      "    out = self._fit(**kwargs)\n",
      "  File \"C:\\Users\\grace\\anaconda3\\envs\\myenv\\lib\\site-packages\\autogluon\\core\\models\\ensemble\\stacker_ensemble_model.py\", line 153, in _fit\n",
      "    return super()._fit(X=X, y=y, time_limit=time_limit, **kwargs)\n",
      "  File \"C:\\Users\\grace\\anaconda3\\envs\\myenv\\lib\\site-packages\\autogluon\\core\\models\\ensemble\\bagged_ensemble_model.py\", line 232, in _fit\n",
      "    self._fit_folds(X=X, y=y, model_base=model_base, X_pseudo=X_pseudo, y_pseudo=y_pseudo,\n",
      "  File \"C:\\Users\\grace\\anaconda3\\envs\\myenv\\lib\\site-packages\\autogluon\\core\\models\\ensemble\\bagged_ensemble_model.py\", line 503, in _fit_folds\n",
      "    fold_fitting_strategy.after_all_folds_scheduled()\n",
      "  File \"C:\\Users\\grace\\anaconda3\\envs\\myenv\\lib\\site-packages\\autogluon\\core\\models\\ensemble\\fold_fitting_strategy.py\", line 468, in after_all_folds_scheduled\n",
      "    raise processed_exception\n",
      "  File \"C:\\Users\\grace\\anaconda3\\envs\\myenv\\lib\\site-packages\\autogluon\\core\\models\\ensemble\\fold_fitting_strategy.py\", line 436, in after_all_folds_scheduled\n",
      "    time_end_fit, predict_time, predict_1_time = self.ray.get(finished)\n",
      "  File \"C:\\Users\\grace\\anaconda3\\envs\\myenv\\lib\\site-packages\\ray\\_private\\client_mode_hook.py\", line 105, in wrapper\n",
      "    return func(*args, **kwargs)\n",
      "  File \"C:\\Users\\grace\\anaconda3\\envs\\myenv\\lib\\site-packages\\ray\\worker.py\", line 1831, in get\n",
      "    raise value.as_instanceof_cause()\n",
      "ray.exceptions.RayTaskError(RayOutOfMemoryError): \u001B[36mray::_ray_fit()\u001B[39m (pid=37124, ip=127.0.0.1)\n",
      "  File \"python\\ray\\_raylet.pyx\", line 623, in ray._raylet.execute_task\n",
      "  File \"C:\\Users\\grace\\anaconda3\\envs\\myenv\\lib\\site-packages\\ray\\_private\\memory_monitor.py\", line 162, in raise_if_low_memory\n",
      "    raise RayOutOfMemoryError(\n",
      "ray._private.memory_monitor.RayOutOfMemoryError: More than 95% of the memory on node ALFREDO is used (15.08 / 15.84 GB). The top 10 memory consumers are:\n",
      "\n",
      "PID\tMEM\tCOMMAND\n",
      "66736\t2.83GiB\tC:\\Program Files\\JetBrains\\PyCharm 2022.1.2\\bin\\pycharm64.exe\n",
      "38720\t0.86GiB\tC:\\Program Files\\Mozilla Firefox\\firefox.exe -contentproc --channel=66184.896.407748818\\450433558 -c\n",
      "66184\t0.62GiB\tC:\\Program Files\\Mozilla Firefox\\firefox.exe\n",
      "69800\t0.6GiB\tC:\\Program Files\\Mozilla Firefox\\firefox.exe -contentproc --channel=66184.0.1488242687\\1923094303 -p\n",
      "5932\t0.32GiB\tC:\\windows\\Explorer.EXE\n",
      "66904\t0.3GiB\tC:\\Users\\grace\\anaconda3\\envs\\myenv\\python.exe -m ipykernel_launcher -f C:\\Users\\grace\\AppData\\Roami\n",
      "56932\t0.28GiB\tC:\\Program Files\\WindowsApps\\TelegramMessengerLLP.TelegramDesktop_4.0.0.0_x64__t4vj0pshhgkwm\\Telegra\n",
      "12828\t0.25GiB\tC:\\Users\\grace\\anaconda3\\envs\\myenv\\python.exe C:\\Users\\grace\\anaconda3\\envs\\myenv\\lib\\site-packages\n",
      "51692\t0.25GiB\tC:\\Users\\grace\\anaconda3\\envs\\myenv\\python.exe C:\\Users\\grace\\anaconda3\\envs\\myenv\\lib\\site-packages\n",
      "65380\t0.25GiB\tC:\\Users\\grace\\anaconda3\\envs\\myenv\\python.exe C:\\Users\\grace\\anaconda3\\envs\\myenv\\lib\\site-packages\n",
      "\n",
      "In addition, up to 0.0 GiB of shared memory is currently being used by the Ray object store.\n",
      "---\n",
      "--- Tip: Use the `ray memory` command to list active objects in the cluster.\n",
      "--- To disable OOM exceptions, set RAY_DISABLE_MEMORY_MONITOR=1.\n",
      "---\n",
      "Completed 1/20 k-fold bagging repeats ...\n",
      "Fitting model: WeightedEnsemble_L3 ... Training model for up to 360.0s of the -10.78s of remaining time.\n",
      "\t-52.6601\t = Validation score   (-root_mean_squared_error)\n",
      "\t0.42s\t = Training   runtime\n",
      "\t0.0s\t = Validation runtime\n",
      "AutoGluon training complete, total runtime = 611.24s ... Best model: \"WeightedEnsemble_L3\"\n",
      "TabularPredictor saved. To load, use: predictor = TabularPredictor.load(\"AutogluonModels/ag-20220718_210448\\\")\n"
     ]
    }
   ],
   "source": [
    "predictor = TabularPredictor(label=\"count\", problem_type=\"regression\", eval_metric=\"root_mean_squared_error\").fit(\n",
    "    train_data = train,\n",
    "    time_limit = 600,\n",
    "    presets = \"best_quality\"\n",
    ")"
   ],
   "metadata": {
    "collapsed": false,
    "pycharm": {
     "name": "#%%\n"
    }
   }
  },
  {
   "cell_type": "code",
   "execution_count": 51,
   "outputs": [
    {
     "name": "stdout",
     "output_type": "stream",
     "text": [
      "*** Summary of fit() ***\n",
      "Estimated performance of each model:\n",
      "                     model   score_val  pred_time_val    fit_time  pred_time_val_marginal  fit_time_marginal  stack_level  can_infer  fit_order\n",
      "0      WeightedEnsemble_L3  -52.660090      26.574171  393.039987                0.000000           0.419692            3       True         16\n",
      "1   RandomForestMSE_BAG_L2  -53.261897      25.019058  375.809003                1.656839          18.757193            2       True         12\n",
      "2     ExtraTreesMSE_BAG_L2  -53.715353      24.336632  360.576727                0.974414           3.524917            2       True         14\n",
      "3          LightGBM_BAG_L2  -54.775500      23.942918  370.338185                0.580699          13.286374            2       True         11\n",
      "4           XGBoost_BAG_L2  -55.155336      23.520211  365.161487                0.157993           8.109677            2       True         15\n",
      "5          CatBoost_BAG_L2  -55.426486      23.586525  401.432197                0.224307          44.380387            2       True         13\n",
      "6        LightGBMXT_BAG_L2  -60.413755      30.619935  392.050937                7.257716          34.999127            2       True         10\n",
      "7      WeightedEnsemble_L2  -84.146423       0.042376    0.799166                0.000000           0.716123            2       True          9\n",
      "8    KNeighborsDist_BAG_L1  -84.146423       0.042376    0.083044                0.042376           0.083044            1       True          2\n",
      "9    KNeighborsUnif_BAG_L1 -101.588176       0.060575    0.074296                0.060575           0.074296            1       True          1\n",
      "10  RandomForestMSE_BAG_L1 -116.543822       1.367329    7.984645                1.367329           7.984645            1       True          5\n",
      "11    ExtraTreesMSE_BAG_L1 -124.594043       1.177369    4.016575                1.177369           4.016575            1       True          7\n",
      "12         CatBoost_BAG_L1 -130.461205       0.283180  242.594997                0.283180         242.594997            1       True          6\n",
      "13         LightGBM_BAG_L1 -131.054162       2.957699   14.898690                2.957699          14.898690            1       True          4\n",
      "14       LightGBMXT_BAG_L1 -131.460909      17.015678   49.559092               17.015678          49.559092            1       True          3\n",
      "15  NeuralNetFastAI_BAG_L1 -137.137275       0.458013   37.840472                0.458013          37.840472            1       True          8\n",
      "Number of models trained: 16\n",
      "Types of models trained:\n",
      "{'StackerEnsembleModel_CatBoost', 'WeightedEnsembleModel', 'StackerEnsembleModel_XT', 'StackerEnsembleModel_LGB', 'StackerEnsembleModel_NNFastAiTabular', 'StackerEnsembleModel_KNN', 'StackerEnsembleModel_XGBoost', 'StackerEnsembleModel_RF'}\n",
      "Bagging used: True  (with 8 folds)\n",
      "Multi-layer stack-ensembling used: True  (with 3 levels)\n",
      "Feature Metadata (Processed):\n",
      "(raw dtype, special dtypes):\n",
      "('float', [])                : 3 | ['temp', 'atemp', 'windspeed']\n",
      "('int', [])                  : 3 | ['season', 'weather', 'humidity']\n",
      "('int', ['bool'])            : 2 | ['holiday', 'workingday']\n",
      "('int', ['datetime_as_int']) : 5 | ['datetime', 'datetime.year', 'datetime.month', 'datetime.day', 'datetime.dayofweek']\n",
      "Plot summary of models saved to file: AutogluonModels/ag-20220718_210448\\SummaryOfModels.html\n",
      "*** End of fit() summary ***\n"
     ]
    },
    {
     "data": {
      "text/plain": "{'model_types': {'KNeighborsUnif_BAG_L1': 'StackerEnsembleModel_KNN',\n  'KNeighborsDist_BAG_L1': 'StackerEnsembleModel_KNN',\n  'LightGBMXT_BAG_L1': 'StackerEnsembleModel_LGB',\n  'LightGBM_BAG_L1': 'StackerEnsembleModel_LGB',\n  'RandomForestMSE_BAG_L1': 'StackerEnsembleModel_RF',\n  'CatBoost_BAG_L1': 'StackerEnsembleModel_CatBoost',\n  'ExtraTreesMSE_BAG_L1': 'StackerEnsembleModel_XT',\n  'NeuralNetFastAI_BAG_L1': 'StackerEnsembleModel_NNFastAiTabular',\n  'WeightedEnsemble_L2': 'WeightedEnsembleModel',\n  'LightGBMXT_BAG_L2': 'StackerEnsembleModel_LGB',\n  'LightGBM_BAG_L2': 'StackerEnsembleModel_LGB',\n  'RandomForestMSE_BAG_L2': 'StackerEnsembleModel_RF',\n  'CatBoost_BAG_L2': 'StackerEnsembleModel_CatBoost',\n  'ExtraTreesMSE_BAG_L2': 'StackerEnsembleModel_XT',\n  'XGBoost_BAG_L2': 'StackerEnsembleModel_XGBoost',\n  'WeightedEnsemble_L3': 'WeightedEnsembleModel'},\n 'model_performance': {'KNeighborsUnif_BAG_L1': -101.58817625927213,\n  'KNeighborsDist_BAG_L1': -84.14642264302962,\n  'LightGBMXT_BAG_L1': -131.46090891834504,\n  'LightGBM_BAG_L1': -131.054161598899,\n  'RandomForestMSE_BAG_L1': -116.54382177152374,\n  'CatBoost_BAG_L1': -130.46120460893414,\n  'ExtraTreesMSE_BAG_L1': -124.59404339731908,\n  'NeuralNetFastAI_BAG_L1': -137.13727543298802,\n  'WeightedEnsemble_L2': -84.14642264302962,\n  'LightGBMXT_BAG_L2': -60.413754568245224,\n  'LightGBM_BAG_L2': -54.775499891281676,\n  'RandomForestMSE_BAG_L2': -53.261897288056794,\n  'CatBoost_BAG_L2': -55.426486388844644,\n  'ExtraTreesMSE_BAG_L2': -53.715352582353574,\n  'XGBoost_BAG_L2': -55.15533569216429,\n  'WeightedEnsemble_L3': -52.66009004837071},\n 'model_best': 'WeightedEnsemble_L3',\n 'model_paths': {'KNeighborsUnif_BAG_L1': 'AutogluonModels/ag-20220718_210448\\\\models\\\\KNeighborsUnif_BAG_L1\\\\',\n  'KNeighborsDist_BAG_L1': 'AutogluonModels/ag-20220718_210448\\\\models\\\\KNeighborsDist_BAG_L1\\\\',\n  'LightGBMXT_BAG_L1': 'AutogluonModels/ag-20220718_210448\\\\models\\\\LightGBMXT_BAG_L1\\\\',\n  'LightGBM_BAG_L1': 'AutogluonModels/ag-20220718_210448\\\\models\\\\LightGBM_BAG_L1\\\\',\n  'RandomForestMSE_BAG_L1': 'AutogluonModels/ag-20220718_210448\\\\models\\\\RandomForestMSE_BAG_L1\\\\',\n  'CatBoost_BAG_L1': 'AutogluonModels/ag-20220718_210448\\\\models\\\\CatBoost_BAG_L1\\\\',\n  'ExtraTreesMSE_BAG_L1': 'AutogluonModels/ag-20220718_210448\\\\models\\\\ExtraTreesMSE_BAG_L1\\\\',\n  'NeuralNetFastAI_BAG_L1': 'AutogluonModels/ag-20220718_210448\\\\models\\\\NeuralNetFastAI_BAG_L1\\\\',\n  'WeightedEnsemble_L2': 'AutogluonModels/ag-20220718_210448\\\\models\\\\WeightedEnsemble_L2\\\\',\n  'LightGBMXT_BAG_L2': 'AutogluonModels/ag-20220718_210448\\\\models\\\\LightGBMXT_BAG_L2\\\\',\n  'LightGBM_BAG_L2': 'AutogluonModels/ag-20220718_210448\\\\models\\\\LightGBM_BAG_L2\\\\',\n  'RandomForestMSE_BAG_L2': 'AutogluonModels/ag-20220718_210448\\\\models\\\\RandomForestMSE_BAG_L2\\\\',\n  'CatBoost_BAG_L2': 'AutogluonModels/ag-20220718_210448\\\\models\\\\CatBoost_BAG_L2\\\\',\n  'ExtraTreesMSE_BAG_L2': 'AutogluonModels/ag-20220718_210448\\\\models\\\\ExtraTreesMSE_BAG_L2\\\\',\n  'XGBoost_BAG_L2': 'AutogluonModels/ag-20220718_210448\\\\models\\\\XGBoost_BAG_L2\\\\',\n  'WeightedEnsemble_L3': 'AutogluonModels/ag-20220718_210448\\\\models\\\\WeightedEnsemble_L3\\\\'},\n 'model_fit_times': {'KNeighborsUnif_BAG_L1': 0.07429623603820801,\n  'KNeighborsDist_BAG_L1': 0.08304357528686523,\n  'LightGBMXT_BAG_L1': 49.55909204483032,\n  'LightGBM_BAG_L1': 14.898690223693848,\n  'RandomForestMSE_BAG_L1': 7.984644651412964,\n  'CatBoost_BAG_L1': 242.59499716758728,\n  'ExtraTreesMSE_BAG_L1': 4.0165746212005615,\n  'NeuralNetFastAI_BAG_L1': 37.84047174453735,\n  'WeightedEnsemble_L2': 0.7161228656768799,\n  'LightGBMXT_BAG_L2': 34.99912691116333,\n  'LightGBM_BAG_L2': 13.28637433052063,\n  'RandomForestMSE_BAG_L2': 18.757193088531494,\n  'CatBoost_BAG_L2': 44.38038659095764,\n  'ExtraTreesMSE_BAG_L2': 3.5249171257019043,\n  'XGBoost_BAG_L2': 8.109677076339722,\n  'WeightedEnsemble_L3': 0.4196920394897461},\n 'model_pred_times': {'KNeighborsUnif_BAG_L1': 0.06057476997375488,\n  'KNeighborsDist_BAG_L1': 0.042375802993774414,\n  'LightGBMXT_BAG_L1': 17.01567840576172,\n  'LightGBM_BAG_L1': 2.9576988220214844,\n  'RandomForestMSE_BAG_L1': 1.3673288822174072,\n  'CatBoost_BAG_L1': 0.28317975997924805,\n  'ExtraTreesMSE_BAG_L1': 1.1773688793182373,\n  'NeuralNetFastAI_BAG_L1': 0.45801305770874023,\n  'WeightedEnsemble_L2': 0.0,\n  'LightGBMXT_BAG_L2': 7.257716178894043,\n  'LightGBM_BAG_L2': 0.5806994438171387,\n  'RandomForestMSE_BAG_L2': 1.65683913230896,\n  'CatBoost_BAG_L2': 0.22430658340454102,\n  'ExtraTreesMSE_BAG_L2': 0.9744138717651367,\n  'XGBoost_BAG_L2': 0.15799260139465332,\n  'WeightedEnsemble_L3': 0.0},\n 'num_bag_folds': 8,\n 'max_stack_level': 3,\n 'model_hyperparams': {'KNeighborsUnif_BAG_L1': {'use_orig_features': True,\n   'max_base_models': 25,\n   'max_base_models_per_type': 5,\n   'save_bag_folds': True,\n   'use_child_oof': True},\n  'KNeighborsDist_BAG_L1': {'use_orig_features': True,\n   'max_base_models': 25,\n   'max_base_models_per_type': 5,\n   'save_bag_folds': True,\n   'use_child_oof': True},\n  'LightGBMXT_BAG_L1': {'use_orig_features': True,\n   'max_base_models': 25,\n   'max_base_models_per_type': 5,\n   'save_bag_folds': True},\n  'LightGBM_BAG_L1': {'use_orig_features': True,\n   'max_base_models': 25,\n   'max_base_models_per_type': 5,\n   'save_bag_folds': True},\n  'RandomForestMSE_BAG_L1': {'use_orig_features': True,\n   'max_base_models': 25,\n   'max_base_models_per_type': 5,\n   'save_bag_folds': True,\n   'use_child_oof': True},\n  'CatBoost_BAG_L1': {'use_orig_features': True,\n   'max_base_models': 25,\n   'max_base_models_per_type': 5,\n   'save_bag_folds': True},\n  'ExtraTreesMSE_BAG_L1': {'use_orig_features': True,\n   'max_base_models': 25,\n   'max_base_models_per_type': 5,\n   'save_bag_folds': True,\n   'use_child_oof': True},\n  'NeuralNetFastAI_BAG_L1': {'use_orig_features': True,\n   'max_base_models': 25,\n   'max_base_models_per_type': 5,\n   'save_bag_folds': True},\n  'WeightedEnsemble_L2': {'use_orig_features': False,\n   'max_base_models': 25,\n   'max_base_models_per_type': 5,\n   'save_bag_folds': True},\n  'LightGBMXT_BAG_L2': {'use_orig_features': True,\n   'max_base_models': 25,\n   'max_base_models_per_type': 5,\n   'save_bag_folds': True},\n  'LightGBM_BAG_L2': {'use_orig_features': True,\n   'max_base_models': 25,\n   'max_base_models_per_type': 5,\n   'save_bag_folds': True},\n  'RandomForestMSE_BAG_L2': {'use_orig_features': True,\n   'max_base_models': 25,\n   'max_base_models_per_type': 5,\n   'save_bag_folds': True,\n   'use_child_oof': True},\n  'CatBoost_BAG_L2': {'use_orig_features': True,\n   'max_base_models': 25,\n   'max_base_models_per_type': 5,\n   'save_bag_folds': True},\n  'ExtraTreesMSE_BAG_L2': {'use_orig_features': True,\n   'max_base_models': 25,\n   'max_base_models_per_type': 5,\n   'save_bag_folds': True,\n   'use_child_oof': True},\n  'XGBoost_BAG_L2': {'use_orig_features': True,\n   'max_base_models': 25,\n   'max_base_models_per_type': 5,\n   'save_bag_folds': True},\n  'WeightedEnsemble_L3': {'use_orig_features': False,\n   'max_base_models': 25,\n   'max_base_models_per_type': 5,\n   'save_bag_folds': True}},\n 'leaderboard':                      model   score_val  pred_time_val    fit_time  \\\n 0      WeightedEnsemble_L3  -52.660090      26.574171  393.039987   \n 1   RandomForestMSE_BAG_L2  -53.261897      25.019058  375.809003   \n 2     ExtraTreesMSE_BAG_L2  -53.715353      24.336632  360.576727   \n 3          LightGBM_BAG_L2  -54.775500      23.942918  370.338185   \n 4           XGBoost_BAG_L2  -55.155336      23.520211  365.161487   \n 5          CatBoost_BAG_L2  -55.426486      23.586525  401.432197   \n 6        LightGBMXT_BAG_L2  -60.413755      30.619935  392.050937   \n 7      WeightedEnsemble_L2  -84.146423       0.042376    0.799166   \n 8    KNeighborsDist_BAG_L1  -84.146423       0.042376    0.083044   \n 9    KNeighborsUnif_BAG_L1 -101.588176       0.060575    0.074296   \n 10  RandomForestMSE_BAG_L1 -116.543822       1.367329    7.984645   \n 11    ExtraTreesMSE_BAG_L1 -124.594043       1.177369    4.016575   \n 12         CatBoost_BAG_L1 -130.461205       0.283180  242.594997   \n 13         LightGBM_BAG_L1 -131.054162       2.957699   14.898690   \n 14       LightGBMXT_BAG_L1 -131.460909      17.015678   49.559092   \n 15  NeuralNetFastAI_BAG_L1 -137.137275       0.458013   37.840472   \n \n     pred_time_val_marginal  fit_time_marginal  stack_level  can_infer  \\\n 0                 0.000000           0.419692            3       True   \n 1                 1.656839          18.757193            2       True   \n 2                 0.974414           3.524917            2       True   \n 3                 0.580699          13.286374            2       True   \n 4                 0.157993           8.109677            2       True   \n 5                 0.224307          44.380387            2       True   \n 6                 7.257716          34.999127            2       True   \n 7                 0.000000           0.716123            2       True   \n 8                 0.042376           0.083044            1       True   \n 9                 0.060575           0.074296            1       True   \n 10                1.367329           7.984645            1       True   \n 11                1.177369           4.016575            1       True   \n 12                0.283180         242.594997            1       True   \n 13                2.957699          14.898690            1       True   \n 14               17.015678          49.559092            1       True   \n 15                0.458013          37.840472            1       True   \n \n     fit_order  \n 0          16  \n 1          12  \n 2          14  \n 3          11  \n 4          15  \n 5          13  \n 6          10  \n 7           9  \n 8           2  \n 9           1  \n 10          5  \n 11          7  \n 12          6  \n 13          4  \n 14          3  \n 15          8  }"
     },
     "execution_count": 51,
     "metadata": {},
     "output_type": "execute_result"
    }
   ],
   "source": [
    "predictor.fit_summary()"
   ],
   "metadata": {
    "collapsed": false,
    "pycharm": {
     "name": "#%%\n"
    }
   }
  },
  {
   "cell_type": "code",
   "execution_count": 60,
   "outputs": [
    {
     "ename": "AttributeError",
     "evalue": "'Series' object has no attribute 'length'",
     "output_type": "error",
     "traceback": [
      "\u001B[1;31m---------------------------------------------------------------------------\u001B[0m",
      "\u001B[1;31mAttributeError\u001B[0m                            Traceback (most recent call last)",
      "Input \u001B[1;32mIn [60]\u001B[0m, in \u001B[0;36m<cell line: 2>\u001B[1;34m()\u001B[0m\n\u001B[0;32m      1\u001B[0m predictions \u001B[38;5;241m=\u001B[39m predictor\u001B[38;5;241m.\u001B[39mpredict(test)\n\u001B[1;32m----> 2\u001B[0m \u001B[43mpredictions\u001B[49m\u001B[38;5;241;43m.\u001B[39;49m\u001B[43mlength\u001B[49m\n",
      "File \u001B[1;32m~\\anaconda3\\envs\\myenv\\lib\\site-packages\\pandas\\core\\generic.py:5575\u001B[0m, in \u001B[0;36mNDFrame.__getattr__\u001B[1;34m(self, name)\u001B[0m\n\u001B[0;32m   5568\u001B[0m \u001B[38;5;28;01mif\u001B[39;00m (\n\u001B[0;32m   5569\u001B[0m     name \u001B[38;5;129;01mnot\u001B[39;00m \u001B[38;5;129;01min\u001B[39;00m \u001B[38;5;28mself\u001B[39m\u001B[38;5;241m.\u001B[39m_internal_names_set\n\u001B[0;32m   5570\u001B[0m     \u001B[38;5;129;01mand\u001B[39;00m name \u001B[38;5;129;01mnot\u001B[39;00m \u001B[38;5;129;01min\u001B[39;00m \u001B[38;5;28mself\u001B[39m\u001B[38;5;241m.\u001B[39m_metadata\n\u001B[0;32m   5571\u001B[0m     \u001B[38;5;129;01mand\u001B[39;00m name \u001B[38;5;129;01mnot\u001B[39;00m \u001B[38;5;129;01min\u001B[39;00m \u001B[38;5;28mself\u001B[39m\u001B[38;5;241m.\u001B[39m_accessors\n\u001B[0;32m   5572\u001B[0m     \u001B[38;5;129;01mand\u001B[39;00m \u001B[38;5;28mself\u001B[39m\u001B[38;5;241m.\u001B[39m_info_axis\u001B[38;5;241m.\u001B[39m_can_hold_identifiers_and_holds_name(name)\n\u001B[0;32m   5573\u001B[0m ):\n\u001B[0;32m   5574\u001B[0m     \u001B[38;5;28;01mreturn\u001B[39;00m \u001B[38;5;28mself\u001B[39m[name]\n\u001B[1;32m-> 5575\u001B[0m \u001B[38;5;28;01mreturn\u001B[39;00m \u001B[38;5;28;43mobject\u001B[39;49m\u001B[38;5;241;43m.\u001B[39;49m\u001B[38;5;21;43m__getattribute__\u001B[39;49m\u001B[43m(\u001B[49m\u001B[38;5;28;43mself\u001B[39;49m\u001B[43m,\u001B[49m\u001B[43m \u001B[49m\u001B[43mname\u001B[49m\u001B[43m)\u001B[49m\n",
      "\u001B[1;31mAttributeError\u001B[0m: 'Series' object has no attribute 'length'"
     ]
    }
   ],
   "source": [
    "predictions = predictor.predict(test)"
   ],
   "metadata": {
    "collapsed": false,
    "pycharm": {
     "name": "#%%\n"
    }
   }
  },
  {
   "cell_type": "code",
   "execution_count": 62,
   "outputs": [
    {
     "data": {
      "text/plain": "0    24.014580\n1    41.035740\n2    46.139664\n3    48.773586\n4    50.845512\nName: count, dtype: float32"
     },
     "execution_count": 62,
     "metadata": {},
     "output_type": "execute_result"
    }
   ],
   "source": [
    "predictions.head()"
   ],
   "metadata": {
    "collapsed": false,
    "pycharm": {
     "name": "#%%\n"
    }
   }
  },
  {
   "cell_type": "code",
   "execution_count": 56,
   "outputs": [
    {
     "data": {
      "text/plain": "count    6493.000000\nmean      100.389969\nstd        89.943405\nmin         3.319188\n25%        19.963657\n50%        63.284554\n75%       169.917923\nmax       364.556915\nName: count, dtype: float64"
     },
     "execution_count": 56,
     "metadata": {},
     "output_type": "execute_result"
    }
   ],
   "source": [
    "predictions.describe()"
   ],
   "metadata": {
    "collapsed": false,
    "pycharm": {
     "name": "#%%\n"
    }
   }
  },
  {
   "cell_type": "code",
   "execution_count": 65,
   "outputs": [],
   "source": [
    "submission[\"count\"] = predictions\n",
    "submission.to_csv(\"submission.csv\", index=False)"
   ],
   "metadata": {
    "collapsed": false,
    "pycharm": {
     "name": "#%%\n"
    }
   }
  },
  {
   "cell_type": "code",
   "execution_count": 67,
   "outputs": [
    {
     "data": {
      "text/plain": "               datetime      count\n0   2011-01-20 00:00:00  24.014580\n1   2011-01-20 01:00:00  41.035740\n2   2011-01-20 02:00:00  46.139664\n3   2011-01-20 03:00:00  48.773586\n4   2011-01-20 04:00:00  50.845512\n..                  ...        ...\n95  2011-01-24 01:00:00  90.008713\n96  2011-01-24 03:00:00  91.875603\n97  2011-01-24 04:00:00  72.840492\n98  2011-01-24 05:00:00  72.786636\n99  2011-01-24 06:00:00  85.678192\n\n[100 rows x 2 columns]",
      "text/html": "<div>\n<style scoped>\n    .dataframe tbody tr th:only-of-type {\n        vertical-align: middle;\n    }\n\n    .dataframe tbody tr th {\n        vertical-align: top;\n    }\n\n    .dataframe thead th {\n        text-align: right;\n    }\n</style>\n<table border=\"1\" class=\"dataframe\">\n  <thead>\n    <tr style=\"text-align: right;\">\n      <th></th>\n      <th>datetime</th>\n      <th>count</th>\n    </tr>\n  </thead>\n  <tbody>\n    <tr>\n      <th>0</th>\n      <td>2011-01-20 00:00:00</td>\n      <td>24.014580</td>\n    </tr>\n    <tr>\n      <th>1</th>\n      <td>2011-01-20 01:00:00</td>\n      <td>41.035740</td>\n    </tr>\n    <tr>\n      <th>2</th>\n      <td>2011-01-20 02:00:00</td>\n      <td>46.139664</td>\n    </tr>\n    <tr>\n      <th>3</th>\n      <td>2011-01-20 03:00:00</td>\n      <td>48.773586</td>\n    </tr>\n    <tr>\n      <th>4</th>\n      <td>2011-01-20 04:00:00</td>\n      <td>50.845512</td>\n    </tr>\n    <tr>\n      <th>...</th>\n      <td>...</td>\n      <td>...</td>\n    </tr>\n    <tr>\n      <th>95</th>\n      <td>2011-01-24 01:00:00</td>\n      <td>90.008713</td>\n    </tr>\n    <tr>\n      <th>96</th>\n      <td>2011-01-24 03:00:00</td>\n      <td>91.875603</td>\n    </tr>\n    <tr>\n      <th>97</th>\n      <td>2011-01-24 04:00:00</td>\n      <td>72.840492</td>\n    </tr>\n    <tr>\n      <th>98</th>\n      <td>2011-01-24 05:00:00</td>\n      <td>72.786636</td>\n    </tr>\n    <tr>\n      <th>99</th>\n      <td>2011-01-24 06:00:00</td>\n      <td>85.678192</td>\n    </tr>\n  </tbody>\n</table>\n<p>100 rows × 2 columns</p>\n</div>"
     },
     "execution_count": 67,
     "metadata": {},
     "output_type": "execute_result"
    }
   ],
   "source": [
    "submission.head(100)"
   ],
   "metadata": {
    "collapsed": false,
    "pycharm": {
     "name": "#%%\n"
    }
   }
  },
  {
   "cell_type": "code",
   "execution_count": 70,
   "outputs": [
    {
     "name": "stdout",
     "output_type": "stream",
     "text": [
      "Successfully submitted to Bike Sharing Demand\n"
     ]
    },
    {
     "name": "stderr",
     "output_type": "stream",
     "text": [
      "\n",
      "  0%|          | 0.00/195k [00:00<?, ?B/s]\n",
      "100%|##########| 195k/195k [00:00<00:00, 417kB/s]\n"
     ]
    }
   ],
   "source": [
    "!kaggle competitions submit -c bike-sharing-demand -f submission.csv -m \"first raw submission attempt: 2\""
   ],
   "metadata": {
    "collapsed": false,
    "pycharm": {
     "name": "#%%\n"
    }
   }
  },
  {
   "cell_type": "code",
   "execution_count": 59,
   "outputs": [
    {
     "name": "stderr",
     "output_type": "stream",
     "text": [
      "'tail' is not recognized as an internal or external command,\n",
      "operable program or batch file.\n"
     ]
    }
   ],
   "source": [
    "# first raw score of"
   ],
   "metadata": {
    "collapsed": false,
    "pycharm": {
     "name": "#%%\n"
    }
   }
  }
 ],
 "metadata": {
  "kernelspec": {
   "display_name": "Python 3",
   "language": "python",
   "name": "python3"
  },
  "language_info": {
   "codemirror_mode": {
    "name": "ipython",
    "version": 2
   },
   "file_extension": ".py",
   "mimetype": "text/x-python",
   "name": "python",
   "nbconvert_exporter": "python",
   "pygments_lexer": "ipython2",
   "version": "2.7.6"
  }
 },
 "nbformat": 4,
 "nbformat_minor": 0
}