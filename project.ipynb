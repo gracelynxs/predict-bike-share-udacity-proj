{
 "cells": [
  {
   "cell_type": "code",
   "execution_count": 8,
   "outputs": [],
   "source": [
    "import kaggle\n",
    "from kaggle.api.kaggle_api_extended import KaggleApi\n",
    "api = KaggleApi()\n",
    "api.authenticate()"
   ],
   "metadata": {
    "collapsed": false,
    "pycharm": {
     "name": "#%%\n"
    }
   }
  },
  {
   "cell_type": "code",
   "execution_count": 9,
   "outputs": [],
   "source": [
    "import pandas as pd\n",
    "from autogluon.tabular import TabularPredictor"
   ],
   "metadata": {
    "collapsed": false,
    "pycharm": {
     "name": "#%%\n"
    }
   }
  },
  {
   "cell_type": "markdown",
   "source": [
    "### Data"
   ],
   "metadata": {
    "collapsed": false,
    "pycharm": {
     "name": "#%% md\n"
    }
   }
  },
  {
   "cell_type": "markdown",
   "source": [
    "datetime - hourly date + timestamp\n",
    "season -  1 = spring, 2 = summer, 3 = fall, 4 = winter\n",
    "holiday - whether the day is considered a holiday\n",
    "workingday - whether the day is neither a weekend nor holiday\n",
    "weather - 1: Clear, Few clouds, Partly cloudy, Partly cloudy\n",
    "2: Mist + Cloudy, Mist + Broken clouds, Mist + Few clouds, Mist\n",
    "3: Light Snow, Light Rain + Thunderstorm + Scattered clouds, Light Rain + Scattered clouds\n",
    "4: Heavy Rain + Ice Pallets + Thunderstorm + Mist, Snow + Fog\n",
    "temp - temperature in Celsius\n",
    "atemp - \"feels like\" temperature in Celsius\n",
    "humidity - relative humidity\n",
    "windspeed - wind speed\n",
    "casual - number of non-registered user rentals initiated\n",
    "registered - number of registered user rentals initiated\n",
    "count - number of total rentals"
   ],
   "metadata": {
    "collapsed": false,
    "pycharm": {
     "name": "#%% md\n"
    }
   }
  },
  {
   "cell_type": "code",
   "execution_count": 10,
   "outputs": [
    {
     "data": {
      "text/plain": "             datetime  season  holiday  workingday  weather  temp   atemp  \\\n0 2011-01-01 00:00:00       1        0           0        1  9.84  14.395   \n1 2011-01-01 01:00:00       1        0           0        1  9.02  13.635   \n2 2011-01-01 02:00:00       1        0           0        1  9.02  13.635   \n3 2011-01-01 03:00:00       1        0           0        1  9.84  14.395   \n4 2011-01-01 04:00:00       1        0           0        1  9.84  14.395   \n\n   humidity  windspeed  casual  registered  count  \n0        81        0.0       3          13     16  \n1        80        0.0       8          32     40  \n2        80        0.0       5          27     32  \n3        75        0.0       3          10     13  \n4        75        0.0       0           1      1  ",
      "text/html": "<div>\n<style scoped>\n    .dataframe tbody tr th:only-of-type {\n        vertical-align: middle;\n    }\n\n    .dataframe tbody tr th {\n        vertical-align: top;\n    }\n\n    .dataframe thead th {\n        text-align: right;\n    }\n</style>\n<table border=\"1\" class=\"dataframe\">\n  <thead>\n    <tr style=\"text-align: right;\">\n      <th></th>\n      <th>datetime</th>\n      <th>season</th>\n      <th>holiday</th>\n      <th>workingday</th>\n      <th>weather</th>\n      <th>temp</th>\n      <th>atemp</th>\n      <th>humidity</th>\n      <th>windspeed</th>\n      <th>casual</th>\n      <th>registered</th>\n      <th>count</th>\n    </tr>\n  </thead>\n  <tbody>\n    <tr>\n      <th>0</th>\n      <td>2011-01-01 00:00:00</td>\n      <td>1</td>\n      <td>0</td>\n      <td>0</td>\n      <td>1</td>\n      <td>9.84</td>\n      <td>14.395</td>\n      <td>81</td>\n      <td>0.0</td>\n      <td>3</td>\n      <td>13</td>\n      <td>16</td>\n    </tr>\n    <tr>\n      <th>1</th>\n      <td>2011-01-01 01:00:00</td>\n      <td>1</td>\n      <td>0</td>\n      <td>0</td>\n      <td>1</td>\n      <td>9.02</td>\n      <td>13.635</td>\n      <td>80</td>\n      <td>0.0</td>\n      <td>8</td>\n      <td>32</td>\n      <td>40</td>\n    </tr>\n    <tr>\n      <th>2</th>\n      <td>2011-01-01 02:00:00</td>\n      <td>1</td>\n      <td>0</td>\n      <td>0</td>\n      <td>1</td>\n      <td>9.02</td>\n      <td>13.635</td>\n      <td>80</td>\n      <td>0.0</td>\n      <td>5</td>\n      <td>27</td>\n      <td>32</td>\n    </tr>\n    <tr>\n      <th>3</th>\n      <td>2011-01-01 03:00:00</td>\n      <td>1</td>\n      <td>0</td>\n      <td>0</td>\n      <td>1</td>\n      <td>9.84</td>\n      <td>14.395</td>\n      <td>75</td>\n      <td>0.0</td>\n      <td>3</td>\n      <td>10</td>\n      <td>13</td>\n    </tr>\n    <tr>\n      <th>4</th>\n      <td>2011-01-01 04:00:00</td>\n      <td>1</td>\n      <td>0</td>\n      <td>0</td>\n      <td>1</td>\n      <td>9.84</td>\n      <td>14.395</td>\n      <td>75</td>\n      <td>0.0</td>\n      <td>0</td>\n      <td>1</td>\n      <td>1</td>\n    </tr>\n  </tbody>\n</table>\n</div>"
     },
     "execution_count": 10,
     "metadata": {},
     "output_type": "execute_result"
    }
   ],
   "source": [
    "# Create the train dataset in pandas by reading the csv\n",
    "# Set the parsing of the datetime column so you can use some of the `dt` features in pandas later\n",
    "train = pd.read_csv(\"./Data/train.csv\")\n",
    "train['datetime'] = pd.to_datetime(train['datetime'])\n",
    "train.head(5)"
   ],
   "metadata": {
    "collapsed": false,
    "pycharm": {
     "name": "#%%\n"
    }
   }
  },
  {
   "cell_type": "code",
   "execution_count": 11,
   "outputs": [
    {
     "data": {
      "text/plain": "array([[<AxesSubplot:title={'center':'datetime'}>,\n        <AxesSubplot:title={'center':'season'}>,\n        <AxesSubplot:title={'center':'holiday'}>],\n       [<AxesSubplot:title={'center':'workingday'}>,\n        <AxesSubplot:title={'center':'weather'}>,\n        <AxesSubplot:title={'center':'temp'}>],\n       [<AxesSubplot:title={'center':'atemp'}>,\n        <AxesSubplot:title={'center':'humidity'}>,\n        <AxesSubplot:title={'center':'windspeed'}>],\n       [<AxesSubplot:title={'center':'casual'}>,\n        <AxesSubplot:title={'center':'registered'}>,\n        <AxesSubplot:title={'center':'count'}>]], dtype=object)"
     },
     "execution_count": 11,
     "metadata": {},
     "output_type": "execute_result"
    },
    {
     "data": {
      "text/plain": "<Figure size 1440x1080 with 12 Axes>",
      "image/png": "[encoded data removed]"
     },
     "metadata": {
      "needs_background": "light"
     },
     "output_type": "display_data"
    }
   ],
   "source": [
    "# Histogram to show all the data distributions including the target\n",
    "%matplotlib inline\n",
    "\n",
    "train.hist(figsize=(20, 15))"
   ],
   "metadata": {
    "collapsed": false,
    "pycharm": {
     "name": "#%%\n"
    }
   }
  },
  {
   "cell_type": "code",
   "execution_count": 12,
   "outputs": [
    {
     "data": {
      "text/plain": "              season   holiday  workingday   weather      temp     atemp  \\\nseason      1.000000  0.029368   -0.008126  0.008879  0.258689  0.264744   \nholiday     0.029368  1.000000   -0.250491 -0.007074  0.000295 -0.005215   \nworkingday -0.008126 -0.250491    1.000000  0.033772  0.029966  0.024660   \nweather     0.008879 -0.007074    0.033772  1.000000 -0.055035 -0.055376   \ntemp        0.258689  0.000295    0.029966 -0.055035  1.000000  0.984948   \natemp       0.264744 -0.005215    0.024660 -0.055376  0.984948  1.000000   \nhumidity    0.190610  0.001929   -0.010880  0.406244 -0.064949 -0.043536   \nwindspeed  -0.147121  0.008409    0.013373  0.007261 -0.017852 -0.057473   \ncasual      0.096758  0.043799   -0.319111 -0.135918  0.467097  0.462067   \nregistered  0.164011 -0.020956    0.119460 -0.109340  0.318571  0.314635   \ncount       0.163439 -0.005393    0.011594 -0.128655  0.394454  0.389784   \n\n            humidity  windspeed    casual  registered     count  \nseason      0.190610  -0.147121  0.096758    0.164011  0.163439  \nholiday     0.001929   0.008409  0.043799   -0.020956 -0.005393  \nworkingday -0.010880   0.013373 -0.319111    0.119460  0.011594  \nweather     0.406244   0.007261 -0.135918   -0.109340 -0.128655  \ntemp       -0.064949  -0.017852  0.467097    0.318571  0.394454  \natemp      -0.043536  -0.057473  0.462067    0.314635  0.389784  \nhumidity    1.000000  -0.318607 -0.348187   -0.265458 -0.317371  \nwindspeed  -0.318607   1.000000  0.092276    0.091052  0.101369  \ncasual     -0.348187   0.092276  1.000000    0.497250  0.690414  \nregistered -0.265458   0.091052  0.497250    1.000000  0.970948  \ncount      -0.317371   0.101369  0.690414    0.970948  1.000000  ",
      "text/html": "<div>\n<style scoped>\n    .dataframe tbody tr th:only-of-type {\n        vertical-align: middle;\n    }\n\n    .dataframe tbody tr th {\n        vertical-align: top;\n    }\n\n    .dataframe thead th {\n        text-align: right;\n    }\n</style>\n<table border=\"1\" class=\"dataframe\">\n  <thead>\n    <tr style=\"text-align: right;\">\n      <th></th>\n      <th>season</th>\n      <th>holiday</th>\n      <th>workingday</th>\n      <th>weather</th>\n      <th>temp</th>\n      <th>atemp</th>\n      <th>humidity</th>\n      <th>windspeed</th>\n      <th>casual</th>\n      <th>registered</th>\n      <th>count</th>\n    </tr>\n  </thead>\n  <tbody>\n    <tr>\n      <th>season</th>\n      <td>1.000000</td>\n      <td>0.029368</td>\n      <td>-0.008126</td>\n      <td>0.008879</td>\n      <td>0.258689</td>\n      <td>0.264744</td>\n      <td>0.190610</td>\n      <td>-0.147121</td>\n      <td>0.096758</td>\n      <td>0.164011</td>\n      <td>0.163439</td>\n    </tr>\n    <tr>\n      <th>holiday</th>\n      <td>0.029368</td>\n      <td>1.000000</td>\n      <td>-0.250491</td>\n      <td>-0.007074</td>\n      <td>0.000295</td>\n      <td>-0.005215</td>\n      <td>0.001929</td>\n      <td>0.008409</td>\n      <td>0.043799</td>\n      <td>-0.020956</td>\n      <td>-0.005393</td>\n    </tr>\n    <tr>\n      <th>workingday</th>\n      <td>-0.008126</td>\n      <td>-0.250491</td>\n      <td>1.000000</td>\n      <td>0.033772</td>\n      <td>0.029966</td>\n      <td>0.024660</td>\n      <td>-0.010880</td>\n      <td>0.013373</td>\n      <td>-0.319111</td>\n      <td>0.119460</td>\n      <td>0.011594</td>\n    </tr>\n    <tr>\n      <th>weather</th>\n      <td>0.008879</td>\n      <td>-0.007074</td>\n      <td>0.033772</td>\n      <td>1.000000</td>\n      <td>-0.055035</td>\n      <td>-0.055376</td>\n      <td>0.406244</td>\n      <td>0.007261</td>\n      <td>-0.135918</td>\n      <td>-0.109340</td>\n      <td>-0.128655</td>\n    </tr>\n    <tr>\n      <th>temp</th>\n      <td>0.258689</td>\n      <td>0.000295</td>\n      <td>0.029966</td>\n      <td>-0.055035</td>\n      <td>1.000000</td>\n      <td>0.984948</td>\n      <td>-0.064949</td>\n      <td>-0.017852</td>\n      <td>0.467097</td>\n      <td>0.318571</td>\n      <td>0.394454</td>\n    </tr>\n    <tr>\n      <th>atemp</th>\n      <td>0.264744</td>\n      <td>-0.005215</td>\n      <td>0.024660</td>\n      <td>-0.055376</td>\n      <td>0.984948</td>\n      <td>1.000000</td>\n      <td>-0.043536</td>\n      <td>-0.057473</td>\n      <td>0.462067</td>\n      <td>0.314635</td>\n      <td>0.389784</td>\n    </tr>\n    <tr>\n      <th>humidity</th>\n      <td>0.190610</td>\n      <td>0.001929</td>\n      <td>-0.010880</td>\n      <td>0.406244</td>\n      <td>-0.064949</td>\n      <td>-0.043536</td>\n      <td>1.000000</td>\n      <td>-0.318607</td>\n      <td>-0.348187</td>\n      <td>-0.265458</td>\n      <td>-0.317371</td>\n    </tr>\n    <tr>\n      <th>windspeed</th>\n      <td>-0.147121</td>\n      <td>0.008409</td>\n      <td>0.013373</td>\n      <td>0.007261</td>\n      <td>-0.017852</td>\n      <td>-0.057473</td>\n      <td>-0.318607</td>\n      <td>1.000000</td>\n      <td>0.092276</td>\n      <td>0.091052</td>\n      <td>0.101369</td>\n    </tr>\n    <tr>\n      <th>casual</th>\n      <td>0.096758</td>\n      <td>0.043799</td>\n      <td>-0.319111</td>\n      <td>-0.135918</td>\n      <td>0.467097</td>\n      <td>0.462067</td>\n      <td>-0.348187</td>\n      <td>0.092276</td>\n      <td>1.000000</td>\n      <td>0.497250</td>\n      <td>0.690414</td>\n    </tr>\n    <tr>\n      <th>registered</th>\n      <td>0.164011</td>\n      <td>-0.020956</td>\n      <td>0.119460</td>\n      <td>-0.109340</td>\n      <td>0.318571</td>\n      <td>0.314635</td>\n      <td>-0.265458</td>\n      <td>0.091052</td>\n      <td>0.497250</td>\n      <td>1.000000</td>\n      <td>0.970948</td>\n    </tr>\n    <tr>\n      <th>count</th>\n      <td>0.163439</td>\n      <td>-0.005393</td>\n      <td>0.011594</td>\n      <td>-0.128655</td>\n      <td>0.394454</td>\n      <td>0.389784</td>\n      <td>-0.317371</td>\n      <td>0.101369</td>\n      <td>0.690414</td>\n      <td>0.970948</td>\n      <td>1.000000</td>\n    </tr>\n  </tbody>\n</table>\n</div>"
     },
     "execution_count": 12,
     "metadata": {},
     "output_type": "execute_result"
    }
   ],
   "source": [
    "# Investigate to see if any data are correlated positively or negatively\n",
    "train.corr()"
   ],
   "metadata": {
    "collapsed": false,
    "pycharm": {
     "name": "#%%\n"
    }
   }
  },
  {
   "cell_type": "code",
   "execution_count": 13,
   "outputs": [
    {
     "data": {
      "text/plain": "             season       holiday    workingday       weather         temp  \\\ncount  10886.000000  10886.000000  10886.000000  10886.000000  10886.00000   \nmean       2.506614      0.028569      0.680875      1.418427     20.23086   \nstd        1.116174      0.166599      0.466159      0.633839      7.79159   \nmin        1.000000      0.000000      0.000000      1.000000      0.82000   \n25%        2.000000      0.000000      0.000000      1.000000     13.94000   \n50%        3.000000      0.000000      1.000000      1.000000     20.50000   \n75%        4.000000      0.000000      1.000000      2.000000     26.24000   \nmax        4.000000      1.000000      1.000000      4.000000     41.00000   \n\n              atemp      humidity     windspeed        casual    registered  \\\ncount  10886.000000  10886.000000  10886.000000  10886.000000  10886.000000   \nmean      23.655084     61.886460     12.799395     36.021955    155.552177   \nstd        8.474601     19.245033      8.164537     49.960477    151.039033   \nmin        0.760000      0.000000      0.000000      0.000000      0.000000   \n25%       16.665000     47.000000      7.001500      4.000000     36.000000   \n50%       24.240000     62.000000     12.998000     17.000000    118.000000   \n75%       31.060000     77.000000     16.997900     49.000000    222.000000   \nmax       45.455000    100.000000     56.996900    367.000000    886.000000   \n\n              count  \ncount  10886.000000  \nmean     191.574132  \nstd      181.144454  \nmin        1.000000  \n25%       42.000000  \n50%      145.000000  \n75%      284.000000  \nmax      977.000000  ",
      "text/html": "<div>\n<style scoped>\n    .dataframe tbody tr th:only-of-type {\n        vertical-align: middle;\n    }\n\n    .dataframe tbody tr th {\n        vertical-align: top;\n    }\n\n    .dataframe thead th {\n        text-align: right;\n    }\n</style>\n<table border=\"1\" class=\"dataframe\">\n  <thead>\n    <tr style=\"text-align: right;\">\n      <th></th>\n      <th>season</th>\n      <th>holiday</th>\n      <th>workingday</th>\n      <th>weather</th>\n      <th>temp</th>\n      <th>atemp</th>\n      <th>humidity</th>\n      <th>windspeed</th>\n      <th>casual</th>\n      <th>registered</th>\n      <th>count</th>\n    </tr>\n  </thead>\n  <tbody>\n    <tr>\n      <th>count</th>\n      <td>10886.000000</td>\n      <td>10886.000000</td>\n      <td>10886.000000</td>\n      <td>10886.000000</td>\n      <td>10886.00000</td>\n      <td>10886.000000</td>\n      <td>10886.000000</td>\n      <td>10886.000000</td>\n      <td>10886.000000</td>\n      <td>10886.000000</td>\n      <td>10886.000000</td>\n    </tr>\n    <tr>\n      <th>mean</th>\n      <td>2.506614</td>\n      <td>0.028569</td>\n      <td>0.680875</td>\n      <td>1.418427</td>\n      <td>20.23086</td>\n      <td>23.655084</td>\n      <td>61.886460</td>\n      <td>12.799395</td>\n      <td>36.021955</td>\n      <td>155.552177</td>\n      <td>191.574132</td>\n    </tr>\n    <tr>\n      <th>std</th>\n      <td>1.116174</td>\n      <td>0.166599</td>\n      <td>0.466159</td>\n      <td>0.633839</td>\n      <td>7.79159</td>\n      <td>8.474601</td>\n      <td>19.245033</td>\n      <td>8.164537</td>\n      <td>49.960477</td>\n      <td>151.039033</td>\n      <td>181.144454</td>\n    </tr>\n    <tr>\n      <th>min</th>\n      <td>1.000000</td>\n      <td>0.000000</td>\n      <td>0.000000</td>\n      <td>1.000000</td>\n      <td>0.82000</td>\n      <td>0.760000</td>\n      <td>0.000000</td>\n      <td>0.000000</td>\n      <td>0.000000</td>\n      <td>0.000000</td>\n      <td>1.000000</td>\n    </tr>\n    <tr>\n      <th>25%</th>\n      <td>2.000000</td>\n      <td>0.000000</td>\n      <td>0.000000</td>\n      <td>1.000000</td>\n      <td>13.94000</td>\n      <td>16.665000</td>\n      <td>47.000000</td>\n      <td>7.001500</td>\n      <td>4.000000</td>\n      <td>36.000000</td>\n      <td>42.000000</td>\n    </tr>\n    <tr>\n      <th>50%</th>\n      <td>3.000000</td>\n      <td>0.000000</td>\n      <td>1.000000</td>\n      <td>1.000000</td>\n      <td>20.50000</td>\n      <td>24.240000</td>\n      <td>62.000000</td>\n      <td>12.998000</td>\n      <td>17.000000</td>\n      <td>118.000000</td>\n      <td>145.000000</td>\n    </tr>\n    <tr>\n      <th>75%</th>\n      <td>4.000000</td>\n      <td>0.000000</td>\n      <td>1.000000</td>\n      <td>2.000000</td>\n      <td>26.24000</td>\n      <td>31.060000</td>\n      <td>77.000000</td>\n      <td>16.997900</td>\n      <td>49.000000</td>\n      <td>222.000000</td>\n      <td>284.000000</td>\n    </tr>\n    <tr>\n      <th>max</th>\n      <td>4.000000</td>\n      <td>1.000000</td>\n      <td>1.000000</td>\n      <td>4.000000</td>\n      <td>41.00000</td>\n      <td>45.455000</td>\n      <td>100.000000</td>\n      <td>56.996900</td>\n      <td>367.000000</td>\n      <td>886.000000</td>\n      <td>977.000000</td>\n    </tr>\n  </tbody>\n</table>\n</div>"
     },
     "execution_count": 13,
     "metadata": {},
     "output_type": "execute_result"
    }
   ],
   "source": [
    "train.describe()"
   ],
   "metadata": {
    "collapsed": false,
    "pycharm": {
     "name": "#%%\n"
    }
   }
  },
  {
   "cell_type": "code",
   "execution_count": 14,
   "outputs": [
    {
     "data": {
      "text/plain": "              datetime  season  holiday  workingday  weather   temp   atemp  \\\n0  2011-01-20 00:00:00       1        0           1        1  10.66  11.365   \n1  2011-01-20 01:00:00       1        0           1        1  10.66  13.635   \n2  2011-01-20 02:00:00       1        0           1        1  10.66  13.635   \n3  2011-01-20 03:00:00       1        0           1        1  10.66  12.880   \n4  2011-01-20 04:00:00       1        0           1        1  10.66  12.880   \n\n   humidity  windspeed  \n0        56    26.0027  \n1        56     0.0000  \n2        56     0.0000  \n3        56    11.0014  \n4        56    11.0014  ",
      "text/html": "<div>\n<style scoped>\n    .dataframe tbody tr th:only-of-type {\n        vertical-align: middle;\n    }\n\n    .dataframe tbody tr th {\n        vertical-align: top;\n    }\n\n    .dataframe thead th {\n        text-align: right;\n    }\n</style>\n<table border=\"1\" class=\"dataframe\">\n  <thead>\n    <tr style=\"text-align: right;\">\n      <th></th>\n      <th>datetime</th>\n      <th>season</th>\n      <th>holiday</th>\n      <th>workingday</th>\n      <th>weather</th>\n      <th>temp</th>\n      <th>atemp</th>\n      <th>humidity</th>\n      <th>windspeed</th>\n    </tr>\n  </thead>\n  <tbody>\n    <tr>\n      <th>0</th>\n      <td>2011-01-20 00:00:00</td>\n      <td>1</td>\n      <td>0</td>\n      <td>1</td>\n      <td>1</td>\n      <td>10.66</td>\n      <td>11.365</td>\n      <td>56</td>\n      <td>26.0027</td>\n    </tr>\n    <tr>\n      <th>1</th>\n      <td>2011-01-20 01:00:00</td>\n      <td>1</td>\n      <td>0</td>\n      <td>1</td>\n      <td>1</td>\n      <td>10.66</td>\n      <td>13.635</td>\n      <td>56</td>\n      <td>0.0000</td>\n    </tr>\n    <tr>\n      <th>2</th>\n      <td>2011-01-20 02:00:00</td>\n      <td>1</td>\n      <td>0</td>\n      <td>1</td>\n      <td>1</td>\n      <td>10.66</td>\n      <td>13.635</td>\n      <td>56</td>\n      <td>0.0000</td>\n    </tr>\n    <tr>\n      <th>3</th>\n      <td>2011-01-20 03:00:00</td>\n      <td>1</td>\n      <td>0</td>\n      <td>1</td>\n      <td>1</td>\n      <td>10.66</td>\n      <td>12.880</td>\n      <td>56</td>\n      <td>11.0014</td>\n    </tr>\n    <tr>\n      <th>4</th>\n      <td>2011-01-20 04:00:00</td>\n      <td>1</td>\n      <td>0</td>\n      <td>1</td>\n      <td>1</td>\n      <td>10.66</td>\n      <td>12.880</td>\n      <td>56</td>\n      <td>11.0014</td>\n    </tr>\n  </tbody>\n</table>\n</div>"
     },
     "execution_count": 14,
     "metadata": {},
     "output_type": "execute_result"
    }
   ],
   "source": [
    "# Create the test pandas dataframe in pandas by reading the csv, remember to parse the datetime!\n",
    "test = pd.read_csv(\"./Data/test.csv\")\n",
    "test.head()"
   ],
   "metadata": {
    "collapsed": false,
    "pycharm": {
     "name": "#%%\n"
    }
   }
  },
  {
   "cell_type": "code",
   "execution_count": 15,
   "outputs": [
    {
     "data": {
      "text/plain": "            season      holiday   workingday      weather         temp  \\\ncount  6493.000000  6493.000000  6493.000000  6493.000000  6493.000000   \nmean      2.493300     0.029108     0.685815     1.436778    20.620607   \nstd       1.091258     0.168123     0.464226     0.648390     8.059583   \nmin       1.000000     0.000000     0.000000     1.000000     0.820000   \n25%       2.000000     0.000000     0.000000     1.000000    13.940000   \n50%       3.000000     0.000000     1.000000     1.000000    21.320000   \n75%       3.000000     0.000000     1.000000     2.000000    27.060000   \nmax       4.000000     1.000000     1.000000     4.000000    40.180000   \n\n             atemp     humidity    windspeed  \ncount  6493.000000  6493.000000  6493.000000  \nmean     24.012865    64.125212    12.631157  \nstd       8.782741    19.293391     8.250151  \nmin       0.000000    16.000000     0.000000  \n25%      16.665000    49.000000     7.001500  \n50%      25.000000    65.000000    11.001400  \n75%      31.060000    81.000000    16.997900  \nmax      50.000000   100.000000    55.998600  ",
      "text/html": "<div>\n<style scoped>\n    .dataframe tbody tr th:only-of-type {\n        vertical-align: middle;\n    }\n\n    .dataframe tbody tr th {\n        vertical-align: top;\n    }\n\n    .dataframe thead th {\n        text-align: right;\n    }\n</style>\n<table border=\"1\" class=\"dataframe\">\n  <thead>\n    <tr style=\"text-align: right;\">\n      <th></th>\n      <th>season</th>\n      <th>holiday</th>\n      <th>workingday</th>\n      <th>weather</th>\n      <th>temp</th>\n      <th>atemp</th>\n      <th>humidity</th>\n      <th>windspeed</th>\n    </tr>\n  </thead>\n  <tbody>\n    <tr>\n      <th>count</th>\n      <td>6493.000000</td>\n      <td>6493.000000</td>\n      <td>6493.000000</td>\n      <td>6493.000000</td>\n      <td>6493.000000</td>\n      <td>6493.000000</td>\n      <td>6493.000000</td>\n      <td>6493.000000</td>\n    </tr>\n    <tr>\n      <th>mean</th>\n      <td>2.493300</td>\n      <td>0.029108</td>\n      <td>0.685815</td>\n      <td>1.436778</td>\n      <td>20.620607</td>\n      <td>24.012865</td>\n      <td>64.125212</td>\n      <td>12.631157</td>\n    </tr>\n    <tr>\n      <th>std</th>\n      <td>1.091258</td>\n      <td>0.168123</td>\n      <td>0.464226</td>\n      <td>0.648390</td>\n      <td>8.059583</td>\n      <td>8.782741</td>\n      <td>19.293391</td>\n      <td>8.250151</td>\n    </tr>\n    <tr>\n      <th>min</th>\n      <td>1.000000</td>\n      <td>0.000000</td>\n      <td>0.000000</td>\n      <td>1.000000</td>\n      <td>0.820000</td>\n      <td>0.000000</td>\n      <td>16.000000</td>\n      <td>0.000000</td>\n    </tr>\n    <tr>\n      <th>25%</th>\n      <td>2.000000</td>\n      <td>0.000000</td>\n      <td>0.000000</td>\n      <td>1.000000</td>\n      <td>13.940000</td>\n      <td>16.665000</td>\n      <td>49.000000</td>\n      <td>7.001500</td>\n    </tr>\n    <tr>\n      <th>50%</th>\n      <td>3.000000</td>\n      <td>0.000000</td>\n      <td>1.000000</td>\n      <td>1.000000</td>\n      <td>21.320000</td>\n      <td>25.000000</td>\n      <td>65.000000</td>\n      <td>11.001400</td>\n    </tr>\n    <tr>\n      <th>75%</th>\n      <td>3.000000</td>\n      <td>0.000000</td>\n      <td>1.000000</td>\n      <td>2.000000</td>\n      <td>27.060000</td>\n      <td>31.060000</td>\n      <td>81.000000</td>\n      <td>16.997900</td>\n    </tr>\n    <tr>\n      <th>max</th>\n      <td>4.000000</td>\n      <td>1.000000</td>\n      <td>1.000000</td>\n      <td>4.000000</td>\n      <td>40.180000</td>\n      <td>50.000000</td>\n      <td>100.000000</td>\n      <td>55.998600</td>\n    </tr>\n  </tbody>\n</table>\n</div>"
     },
     "execution_count": 15,
     "metadata": {},
     "output_type": "execute_result"
    }
   ],
   "source": [
    "test.describe()"
   ],
   "metadata": {
    "collapsed": false,
    "pycharm": {
     "name": "#%%\n"
    }
   }
  },
  {
   "cell_type": "code",
   "execution_count": 16,
   "outputs": [
    {
     "data": {
      "text/plain": "              datetime  count\n0  2011-01-20 00:00:00      0\n1  2011-01-20 01:00:00      0\n2  2011-01-20 02:00:00      0\n3  2011-01-20 03:00:00      0\n4  2011-01-20 04:00:00      0",
      "text/html": "<div>\n<style scoped>\n    .dataframe tbody tr th:only-of-type {\n        vertical-align: middle;\n    }\n\n    .dataframe tbody tr th {\n        vertical-align: top;\n    }\n\n    .dataframe thead th {\n        text-align: right;\n    }\n</style>\n<table border=\"1\" class=\"dataframe\">\n  <thead>\n    <tr style=\"text-align: right;\">\n      <th></th>\n      <th>datetime</th>\n      <th>count</th>\n    </tr>\n  </thead>\n  <tbody>\n    <tr>\n      <th>0</th>\n      <td>2011-01-20 00:00:00</td>\n      <td>0</td>\n    </tr>\n    <tr>\n      <th>1</th>\n      <td>2011-01-20 01:00:00</td>\n      <td>0</td>\n    </tr>\n    <tr>\n      <th>2</th>\n      <td>2011-01-20 02:00:00</td>\n      <td>0</td>\n    </tr>\n    <tr>\n      <th>3</th>\n      <td>2011-01-20 03:00:00</td>\n      <td>0</td>\n    </tr>\n    <tr>\n      <th>4</th>\n      <td>2011-01-20 04:00:00</td>\n      <td>0</td>\n    </tr>\n  </tbody>\n</table>\n</div>"
     },
     "execution_count": 16,
     "metadata": {},
     "output_type": "execute_result"
    }
   ],
   "source": [
    "# Same thing as train and test dataset\n",
    "submission = pd.read_csv(\"./Data/sampleSubmission.csv\")\n",
    "submission.head()"
   ],
   "metadata": {
    "collapsed": false,
    "pycharm": {
     "name": "#%%\n"
    }
   }
  },
  {
   "cell_type": "code",
   "execution_count": 17,
   "outputs": [
    {
     "data": {
      "text/plain": "        count\ncount  6493.0\nmean      0.0\nstd       0.0\nmin       0.0\n25%       0.0\n50%       0.0\n75%       0.0\nmax       0.0",
      "text/html": "<div>\n<style scoped>\n    .dataframe tbody tr th:only-of-type {\n        vertical-align: middle;\n    }\n\n    .dataframe tbody tr th {\n        vertical-align: top;\n    }\n\n    .dataframe thead th {\n        text-align: right;\n    }\n</style>\n<table border=\"1\" class=\"dataframe\">\n  <thead>\n    <tr style=\"text-align: right;\">\n      <th></th>\n      <th>count</th>\n    </tr>\n  </thead>\n  <tbody>\n    <tr>\n      <th>count</th>\n      <td>6493.0</td>\n    </tr>\n    <tr>\n      <th>mean</th>\n      <td>0.0</td>\n    </tr>\n    <tr>\n      <th>std</th>\n      <td>0.0</td>\n    </tr>\n    <tr>\n      <th>min</th>\n      <td>0.0</td>\n    </tr>\n    <tr>\n      <th>25%</th>\n      <td>0.0</td>\n    </tr>\n    <tr>\n      <th>50%</th>\n      <td>0.0</td>\n    </tr>\n    <tr>\n      <th>75%</th>\n      <td>0.0</td>\n    </tr>\n    <tr>\n      <th>max</th>\n      <td>0.0</td>\n    </tr>\n  </tbody>\n</table>\n</div>"
     },
     "execution_count": 17,
     "metadata": {},
     "output_type": "execute_result"
    }
   ],
   "source": [
    "submission.describe()"
   ],
   "metadata": {
    "collapsed": false,
    "pycharm": {
     "name": "#%%\n"
    }
   }
  },
  {
   "cell_type": "markdown",
   "source": [
    "### Model"
   ],
   "metadata": {
    "collapsed": false,
    "pycharm": {
     "name": "#%% md\n"
    }
   }
  },
  {
   "cell_type": "markdown",
   "source": [
    "Requirements:\n",
    "- We are predicting count, so it is the label we are setting.\n",
    "- Ignore casual and registered columns as they are also not present in the test dataset.\n",
    "- Use the root_mean_squared_error as the metric to use for evaluation.\n",
    "- Set a time limit of 10 minutes (600 seconds).\n",
    "- Use the preset best_quality to focus on creating the best model."
   ],
   "metadata": {
    "collapsed": false,
    "pycharm": {
     "name": "#%% md\n"
    }
   }
  },
  {
   "cell_type": "code",
   "execution_count": 18,
   "outputs": [],
   "source": [
    "learner_kwargs = {\n",
    "    'ignored_columns': ['casual', 'registered']\n",
    "}"
   ],
   "metadata": {
    "collapsed": false,
    "pycharm": {
     "name": "#%%\n"
    }
   }
  },
  {
   "cell_type": "code",
   "execution_count": 72,
   "outputs": [
    {
     "name": "stderr",
     "output_type": "stream",
     "text": [
      "No path specified. Models will be saved in: \"AutogluonModels/ag-20220718_213655\\\"\n",
      "Presets specified: ['best_quality']\n",
      "Beginning AutoGluon training ... Time limit = 600s\n",
      "AutoGluon will save models to \"AutogluonModels/ag-20220718_213655\\\"\n",
      "AutoGluon Version:  0.5.0\n",
      "Python Version:     3.9.12\n",
      "Operating System:   Windows\n",
      "Train Data Rows:    10886\n",
      "Train Data Columns: 9\n",
      "Label Column: count\n",
      "Preprocessing data ...\n",
      "Using Feature Generators to preprocess the data ...\n",
      "Dropping user-specified ignored columns: ['casual', 'registered']\n",
      "Fitting AutoMLPipelineFeatureGenerator...\n",
      "\tAvailable Memory:                    2137.93 MB\n",
      "\tTrain Data (Original)  Memory Usage: 0.78 MB (0.0% of available memory)\n",
      "\tInferring data type of each feature based on column values. Set feature_metadata_in to manually specify special dtypes of the features.\n",
      "\tStage 1 Generators:\n",
      "\t\tFitting AsTypeFeatureGenerator...\n",
      "\t\t\tNote: Converting 2 features to boolean dtype as they only contain 2 unique values.\n",
      "\tStage 2 Generators:\n",
      "\t\tFitting FillNaFeatureGenerator...\n",
      "\tStage 3 Generators:\n",
      "\t\tFitting IdentityFeatureGenerator...\n",
      "\t\tFitting DatetimeFeatureGenerator...\n",
      "\tStage 4 Generators:\n",
      "\t\tFitting DropUniqueFeatureGenerator...\n",
      "\tTypes of features in original data (raw dtype, special dtypes):\n",
      "\t\t('datetime', []) : 1 | ['datetime']\n",
      "\t\t('float', [])    : 3 | ['temp', 'atemp', 'windspeed']\n",
      "\t\t('int', [])      : 5 | ['season', 'holiday', 'workingday', 'weather', 'humidity']\n",
      "\tTypes of features in processed data (raw dtype, special dtypes):\n",
      "\t\t('float', [])                : 3 | ['temp', 'atemp', 'windspeed']\n",
      "\t\t('int', [])                  : 3 | ['season', 'weather', 'humidity']\n",
      "\t\t('int', ['bool'])            : 2 | ['holiday', 'workingday']\n",
      "\t\t('int', ['datetime_as_int']) : 5 | ['datetime', 'datetime.year', 'datetime.month', 'datetime.day', 'datetime.dayofweek']\n",
      "\t0.1s = Fit runtime\n",
      "\t9 features in original data used to generate 13 features in processed data.\n",
      "\tTrain Data (Processed) Memory Usage: 0.81 MB (0.0% of available memory)\n",
      "Data preprocessing and feature engineering runtime = 0.17s ...\n",
      "AutoGluon will gauge predictive performance using evaluation metric: 'root_mean_squared_error'\n",
      "\tThis metric's sign has been flipped to adhere to being higher_is_better. The metric score can be multiplied by -1 to get the metric value.\n",
      "\tTo change this, specify the eval_metric parameter of Predictor()\n",
      "AutoGluon will fit 2 stack levels (L1 to L2) ...\n",
      "Fitting 11 L1 models ...\n",
      "Fitting model: KNeighborsUnif_BAG_L1 ... Training model for up to 399.78s of the 599.82s of remaining time.\n",
      "\t-101.5882\t = Validation score   (-root_mean_squared_error)\n",
      "\t0.05s\t = Training   runtime\n",
      "\t0.04s\t = Validation runtime\n",
      "Fitting model: KNeighborsDist_BAG_L1 ... Training model for up to 399.62s of the 599.66s of remaining time.\n",
      "\t-84.1464\t = Validation score   (-root_mean_squared_error)\n",
      "\t0.05s\t = Training   runtime\n",
      "\t0.03s\t = Validation runtime\n",
      "Fitting model: LightGBMXT_BAG_L1 ... Training model for up to 399.5s of the 599.53s of remaining time.\n",
      "\tFitting 8 child models (S1F1 - S1F8) | Fitting with ParallelLocalFoldFittingStrategy\n",
      "\t-131.4609\t = Validation score   (-root_mean_squared_error)\n",
      "\t44.55s\t = Training   runtime\n",
      "\t17.8s\t = Validation runtime\n",
      "Fitting model: LightGBM_BAG_L1 ... Training model for up to 336.69s of the 536.73s of remaining time.\n",
      "\tFitting 8 child models (S1F1 - S1F8) | Fitting with ParallelLocalFoldFittingStrategy\n",
      "\t-131.0542\t = Validation score   (-root_mean_squared_error)\n",
      "\t8.15s\t = Training   runtime\n",
      "\t1.47s\t = Validation runtime\n",
      "Fitting model: RandomForestMSE_BAG_L1 ... Training model for up to 318.33s of the 518.37s of remaining time.\n",
      "\t-116.5438\t = Validation score   (-root_mean_squared_error)\n",
      "\t3.88s\t = Training   runtime\n",
      "\t0.66s\t = Validation runtime\n",
      "Fitting model: CatBoost_BAG_L1 ... Training model for up to 313.26s of the 513.29s of remaining time.\n",
      "\tFitting 8 child models (S1F1 - S1F8) | Fitting with ParallelLocalFoldFittingStrategy\n",
      "\t-130.4612\t = Validation score   (-root_mean_squared_error)\n",
      "\t250.99s\t = Training   runtime\n",
      "\t0.19s\t = Validation runtime\n",
      "Fitting model: ExtraTreesMSE_BAG_L1 ... Training model for up to 55.88s of the 255.92s of remaining time.\n",
      "\t-124.594\t = Validation score   (-root_mean_squared_error)\n",
      "\t3.68s\t = Training   runtime\n",
      "\t1.46s\t = Validation runtime\n",
      "Fitting model: NeuralNetFastAI_BAG_L1 ... Training model for up to 49.71s of the 249.75s of remaining time.\n",
      "\tFitting 8 child models (S1F1 - S1F8) | Fitting with ParallelLocalFoldFittingStrategy\n",
      "\t-137.3747\t = Validation score   (-root_mean_squared_error)\n",
      "\t38.93s\t = Training   runtime\n",
      "\t0.39s\t = Validation runtime\n",
      "Fitting model: XGBoost_BAG_L1 ... Training model for up to 2.08s of the 202.12s of remaining time.\n",
      "\tFitting 8 child models (S1F1 - S1F8) | Fitting with ParallelLocalFoldFittingStrategy\n",
      "\t-134.7324\t = Validation score   (-root_mean_squared_error)\n",
      "\t4.57s\t = Training   runtime\n",
      "\t0.25s\t = Validation runtime\n",
      "Completed 1/20 k-fold bagging repeats ...\n",
      "Fitting model: WeightedEnsemble_L2 ... Training model for up to 360.0s of the 189.4s of remaining time.\n",
      "\t-84.1464\t = Validation score   (-root_mean_squared_error)\n",
      "\t1.26s\t = Training   runtime\n",
      "\t0.0s\t = Validation runtime\n",
      "Fitting 9 L2 models ...\n",
      "Fitting model: LightGBMXT_BAG_L2 ... Training model for up to 188.09s of the 188.07s of remaining time.\n",
      "\tFitting 8 child models (S1F1 - S1F8) | Fitting with ParallelLocalFoldFittingStrategy\n",
      "\t-60.2197\t = Validation score   (-root_mean_squared_error)\n",
      "\t19.14s\t = Training   runtime\n",
      "\t4.73s\t = Validation runtime\n",
      "Fitting model: LightGBM_BAG_L2 ... Training model for up to 158.31s of the 158.29s of remaining time.\n",
      "\tFitting 8 child models (S1F1 - S1F8) | Fitting with ParallelLocalFoldFittingStrategy\n",
      "\t-54.7302\t = Validation score   (-root_mean_squared_error)\n",
      "\t6.01s\t = Training   runtime\n",
      "\t0.36s\t = Validation runtime\n",
      "Fitting model: RandomForestMSE_BAG_L2 ... Training model for up to 144.47s of the 144.46s of remaining time.\n",
      "\t-53.1924\t = Validation score   (-root_mean_squared_error)\n",
      "\t10.93s\t = Training   runtime\n",
      "\t0.93s\t = Validation runtime\n",
      "Fitting model: CatBoost_BAG_L2 ... Training model for up to 132.06s of the 132.04s of remaining time.\n",
      "\tFitting 8 child models (S1F1 - S1F8) | Fitting with ParallelLocalFoldFittingStrategy\n",
      "\t-55.6557\t = Validation score   (-root_mean_squared_error)\n",
      "\t47.98s\t = Training   runtime\n",
      "\t0.18s\t = Validation runtime\n",
      "Fitting model: ExtraTreesMSE_BAG_L2 ... Training model for up to 76.54s of the 76.52s of remaining time.\n",
      "\t-53.6397\t = Validation score   (-root_mean_squared_error)\n",
      "\t5.34s\t = Training   runtime\n",
      "\t0.73s\t = Validation runtime\n",
      "Fitting model: NeuralNetFastAI_BAG_L2 ... Training model for up to 69.97s of the 69.96s of remaining time.\n",
      "\tFitting 8 child models (S1F1 - S1F8) | Fitting with ParallelLocalFoldFittingStrategy\n",
      "\t-51.5757\t = Validation score   (-root_mean_squared_error)\n",
      "\t53.25s\t = Training   runtime\n",
      "\t1.1s\t = Validation runtime\n",
      "Fitting model: XGBoost_BAG_L2 ... Training model for up to 9.47s of the 9.45s of remaining time.\n",
      "\tFitting 8 child models (S1F1 - S1F8) | Fitting with ParallelLocalFoldFittingStrategy\n",
      "\t-55.2787\t = Validation score   (-root_mean_squared_error)\n",
      "\t11.77s\t = Training   runtime\n",
      "\t0.29s\t = Validation runtime\n",
      "Completed 1/20 k-fold bagging repeats ...\n",
      "Fitting model: WeightedEnsemble_L3 ... Training model for up to 360.0s of the -9.7s of remaining time.\n",
      "\t-50.4283\t = Validation score   (-root_mean_squared_error)\n",
      "\t1.15s\t = Training   runtime\n",
      "\t0.0s\t = Validation runtime\n",
      "AutoGluon training complete, total runtime = 610.91s ... Best model: \"WeightedEnsemble_L3\"\n",
      "TabularPredictor saved. To load, use: predictor = TabularPredictor.load(\"AutogluonModels/ag-20220718_213655\\\")\n"
     ]
    }
   ],
   "source": [
    "predictor = TabularPredictor(label=\"count\", problem_type=\"regression\", eval_metric=\"root_mean_squared_error\", learner_kwargs=learner_kwargs).fit(\n",
    "    train_data = train,\n",
    "    time_limit = 600,\n",
    "    presets = \"best_quality\"\n",
    ")"
   ],
   "metadata": {
    "collapsed": false,
    "pycharm": {
     "name": "#%%\n"
    }
   }
  },
  {
   "cell_type": "code",
   "execution_count": 76,
   "outputs": [
    {
     "name": "stdout",
     "output_type": "stream",
     "text": [
      "*** Summary of fit() ***\n",
      "Estimated performance of each model:\n",
      "                     model   score_val  pred_time_val    fit_time  pred_time_val_marginal  fit_time_marginal  stack_level  can_infer  fit_order\n",
      "0      WeightedEnsemble_L3  -50.428314      25.042783  425.511158                0.000554           1.145018            3       True         18\n",
      "1   NeuralNetFastAI_BAG_L2  -51.575689      23.381067  408.094586                1.104650          53.252690            2       True         16\n",
      "2   RandomForestMSE_BAG_L2  -53.192385      23.210769  365.772005                0.934352          10.930110            2       True         13\n",
      "3     ExtraTreesMSE_BAG_L2  -53.639684      23.003228  360.183340                0.726810           5.341444            2       True         15\n",
      "4          LightGBM_BAG_L2  -54.730151      22.635210  360.856817                0.358792           6.014921            2       True         12\n",
      "5           XGBoost_BAG_L2  -55.278658      22.571365  366.612289                0.294947          11.770393            2       True         17\n",
      "6          CatBoost_BAG_L2  -55.655661      22.456219  402.816979                0.179801          47.975084            2       True         14\n",
      "7        LightGBMXT_BAG_L2  -60.219747      27.007575  373.985172                4.731158          19.143276            2       True         11\n",
      "8    KNeighborsDist_BAG_L1  -84.146423       0.025046    0.047478                0.025046           0.047478            1       True          2\n",
      "9      WeightedEnsemble_L2  -84.146423       0.027326    1.307356                0.002280           1.259878            2       True         10\n",
      "10   KNeighborsUnif_BAG_L1 -101.588176       0.036417    0.052504                0.036417           0.052504            1       True          1\n",
      "11  RandomForestMSE_BAG_L1 -116.543822       0.655945    3.875641                0.655945           3.875641            1       True          5\n",
      "12    ExtraTreesMSE_BAG_L1 -124.594043       1.459890    3.678114                1.459890           3.678114            1       True          7\n",
      "13         CatBoost_BAG_L1 -130.461205       0.188795  250.990747                0.188795         250.990747            1       True          6\n",
      "14         LightGBM_BAG_L1 -131.054162       1.467518    8.152470                1.467518           8.152470            1       True          4\n",
      "15       LightGBMXT_BAG_L1 -131.460909      17.801487   44.551211               17.801487          44.551211            1       True          3\n",
      "16          XGBoost_BAG_L1 -134.732353       0.251050    4.565236                0.251050           4.565236            1       True          9\n",
      "17  NeuralNetFastAI_BAG_L1 -137.374697       0.390270   38.928494                0.390270          38.928494            1       True          8\n",
      "Number of models trained: 18\n",
      "Types of models trained:\n",
      "{'StackerEnsembleModel_CatBoost', 'WeightedEnsembleModel', 'StackerEnsembleModel_XT', 'StackerEnsembleModel_LGB', 'StackerEnsembleModel_NNFastAiTabular', 'StackerEnsembleModel_KNN', 'StackerEnsembleModel_XGBoost', 'StackerEnsembleModel_RF'}\n",
      "Bagging used: True  (with 8 folds)\n",
      "Multi-layer stack-ensembling used: True  (with 3 levels)\n",
      "Feature Metadata (Processed):\n",
      "(raw dtype, special dtypes):\n",
      "('float', [])                : 3 | ['temp', 'atemp', 'windspeed']\n",
      "('int', [])                  : 3 | ['season', 'weather', 'humidity']\n",
      "('int', ['bool'])            : 2 | ['holiday', 'workingday']\n",
      "('int', ['datetime_as_int']) : 5 | ['datetime', 'datetime.year', 'datetime.month', 'datetime.day', 'datetime.dayofweek']\n",
      "Plot summary of models saved to file: AutogluonModels/ag-20220718_213655\\SummaryOfModels.html\n",
      "*** End of fit() summary ***\n"
     ]
    },
    {
     "data": {
      "text/plain": "{'model_types': {'KNeighborsUnif_BAG_L1': 'StackerEnsembleModel_KNN',\n  'KNeighborsDist_BAG_L1': 'StackerEnsembleModel_KNN',\n  'LightGBMXT_BAG_L1': 'StackerEnsembleModel_LGB',\n  'LightGBM_BAG_L1': 'StackerEnsembleModel_LGB',\n  'RandomForestMSE_BAG_L1': 'StackerEnsembleModel_RF',\n  'CatBoost_BAG_L1': 'StackerEnsembleModel_CatBoost',\n  'ExtraTreesMSE_BAG_L1': 'StackerEnsembleModel_XT',\n  'NeuralNetFastAI_BAG_L1': 'StackerEnsembleModel_NNFastAiTabular',\n  'XGBoost_BAG_L1': 'StackerEnsembleModel_XGBoost',\n  'WeightedEnsemble_L2': 'WeightedEnsembleModel',\n  'LightGBMXT_BAG_L2': 'StackerEnsembleModel_LGB',\n  'LightGBM_BAG_L2': 'StackerEnsembleModel_LGB',\n  'RandomForestMSE_BAG_L2': 'StackerEnsembleModel_RF',\n  'CatBoost_BAG_L2': 'StackerEnsembleModel_CatBoost',\n  'ExtraTreesMSE_BAG_L2': 'StackerEnsembleModel_XT',\n  'NeuralNetFastAI_BAG_L2': 'StackerEnsembleModel_NNFastAiTabular',\n  'XGBoost_BAG_L2': 'StackerEnsembleModel_XGBoost',\n  'WeightedEnsemble_L3': 'WeightedEnsembleModel'},\n 'model_performance': {'KNeighborsUnif_BAG_L1': -101.58817625927213,\n  'KNeighborsDist_BAG_L1': -84.14642264302962,\n  'LightGBMXT_BAG_L1': -131.46090891834504,\n  'LightGBM_BAG_L1': -131.054161598899,\n  'RandomForestMSE_BAG_L1': -116.54382177152374,\n  'CatBoost_BAG_L1': -130.46120460893414,\n  'ExtraTreesMSE_BAG_L1': -124.59404339731908,\n  'NeuralNetFastAI_BAG_L1': -137.37469741435447,\n  'XGBoost_BAG_L1': -134.73235344404907,\n  'WeightedEnsemble_L2': -84.14642264302962,\n  'LightGBMXT_BAG_L2': -60.21974716208402,\n  'LightGBM_BAG_L2': -54.73015145303798,\n  'RandomForestMSE_BAG_L2': -53.19238486235221,\n  'CatBoost_BAG_L2': -55.65566123678912,\n  'ExtraTreesMSE_BAG_L2': -53.63968372513477,\n  'NeuralNetFastAI_BAG_L2': -51.575688925722716,\n  'XGBoost_BAG_L2': -55.27865843480522,\n  'WeightedEnsemble_L3': -50.42831385549975},\n 'model_best': 'WeightedEnsemble_L3',\n 'model_paths': {'KNeighborsUnif_BAG_L1': 'AutogluonModels/ag-20220718_213655\\\\models\\\\KNeighborsUnif_BAG_L1\\\\',\n  'KNeighborsDist_BAG_L1': 'AutogluonModels/ag-20220718_213655\\\\models\\\\KNeighborsDist_BAG_L1\\\\',\n  'LightGBMXT_BAG_L1': 'AutogluonModels/ag-20220718_213655\\\\models\\\\LightGBMXT_BAG_L1\\\\',\n  'LightGBM_BAG_L1': 'AutogluonModels/ag-20220718_213655\\\\models\\\\LightGBM_BAG_L1\\\\',\n  'RandomForestMSE_BAG_L1': 'AutogluonModels/ag-20220718_213655\\\\models\\\\RandomForestMSE_BAG_L1\\\\',\n  'CatBoost_BAG_L1': 'AutogluonModels/ag-20220718_213655\\\\models\\\\CatBoost_BAG_L1\\\\',\n  'ExtraTreesMSE_BAG_L1': 'AutogluonModels/ag-20220718_213655\\\\models\\\\ExtraTreesMSE_BAG_L1\\\\',\n  'NeuralNetFastAI_BAG_L1': 'AutogluonModels/ag-20220718_213655\\\\models\\\\NeuralNetFastAI_BAG_L1\\\\',\n  'XGBoost_BAG_L1': 'AutogluonModels/ag-20220718_213655\\\\models\\\\XGBoost_BAG_L1\\\\',\n  'WeightedEnsemble_L2': 'AutogluonModels/ag-20220718_213655\\\\models\\\\WeightedEnsemble_L2\\\\',\n  'LightGBMXT_BAG_L2': 'AutogluonModels/ag-20220718_213655\\\\models\\\\LightGBMXT_BAG_L2\\\\',\n  'LightGBM_BAG_L2': 'AutogluonModels/ag-20220718_213655\\\\models\\\\LightGBM_BAG_L2\\\\',\n  'RandomForestMSE_BAG_L2': 'AutogluonModels/ag-20220718_213655\\\\models\\\\RandomForestMSE_BAG_L2\\\\',\n  'CatBoost_BAG_L2': 'AutogluonModels/ag-20220718_213655\\\\models\\\\CatBoost_BAG_L2\\\\',\n  'ExtraTreesMSE_BAG_L2': 'AutogluonModels/ag-20220718_213655\\\\models\\\\ExtraTreesMSE_BAG_L2\\\\',\n  'NeuralNetFastAI_BAG_L2': 'AutogluonModels/ag-20220718_213655\\\\models\\\\NeuralNetFastAI_BAG_L2\\\\',\n  'XGBoost_BAG_L2': 'AutogluonModels/ag-20220718_213655\\\\models\\\\XGBoost_BAG_L2\\\\',\n  'WeightedEnsemble_L3': 'AutogluonModels/ag-20220718_213655\\\\models\\\\WeightedEnsemble_L3\\\\'},\n 'model_fit_times': {'KNeighborsUnif_BAG_L1': 0.05250382423400879,\n  'KNeighborsDist_BAG_L1': 0.047478437423706055,\n  'LightGBMXT_BAG_L1': 44.55121111869812,\n  'LightGBM_BAG_L1': 8.152469635009766,\n  'RandomForestMSE_BAG_L1': 3.875641345977783,\n  'CatBoost_BAG_L1': 250.99074721336365,\n  'ExtraTreesMSE_BAG_L1': 3.6781139373779297,\n  'NeuralNetFastAI_BAG_L1': 38.928494453430176,\n  'XGBoost_BAG_L1': 4.56523585319519,\n  'WeightedEnsemble_L2': 1.2598779201507568,\n  'LightGBMXT_BAG_L2': 19.14327645301819,\n  'LightGBM_BAG_L2': 6.014921426773071,\n  'RandomForestMSE_BAG_L2': 10.93010950088501,\n  'CatBoost_BAG_L2': 47.97508358955383,\n  'ExtraTreesMSE_BAG_L2': 5.341444492340088,\n  'NeuralNetFastAI_BAG_L2': 53.25269031524658,\n  'XGBoost_BAG_L2': 11.770393371582031,\n  'WeightedEnsemble_L3': 1.1450178623199463},\n 'model_pred_times': {'KNeighborsUnif_BAG_L1': 0.036417245864868164,\n  'KNeighborsDist_BAG_L1': 0.02504563331604004,\n  'LightGBMXT_BAG_L1': 17.80148720741272,\n  'LightGBM_BAG_L1': 1.4675183296203613,\n  'RandomForestMSE_BAG_L1': 0.65594482421875,\n  'CatBoost_BAG_L1': 0.18879485130310059,\n  'ExtraTreesMSE_BAG_L1': 1.4598896503448486,\n  'NeuralNetFastAI_BAG_L1': 0.3902699947357178,\n  'XGBoost_BAG_L1': 0.2510497570037842,\n  'WeightedEnsemble_L2': 0.002279996871948242,\n  'LightGBMXT_BAG_L2': 4.7311577796936035,\n  'LightGBM_BAG_L2': 0.3587923049926758,\n  'RandomForestMSE_BAG_L2': 0.9343516826629639,\n  'CatBoost_BAG_L2': 0.17980122566223145,\n  'ExtraTreesMSE_BAG_L2': 0.7268102169036865,\n  'NeuralNetFastAI_BAG_L2': 1.104649543762207,\n  'XGBoost_BAG_L2': 0.29494738578796387,\n  'WeightedEnsemble_L3': 0.0005540847778320312},\n 'num_bag_folds': 8,\n 'max_stack_level': 3,\n 'model_hyperparams': {'KNeighborsUnif_BAG_L1': {'use_orig_features': True,\n   'max_base_models': 25,\n   'max_base_models_per_type': 5,\n   'save_bag_folds': True,\n   'use_child_oof': True},\n  'KNeighborsDist_BAG_L1': {'use_orig_features': True,\n   'max_base_models': 25,\n   'max_base_models_per_type': 5,\n   'save_bag_folds': True,\n   'use_child_oof': True},\n  'LightGBMXT_BAG_L1': {'use_orig_features': True,\n   'max_base_models': 25,\n   'max_base_models_per_type': 5,\n   'save_bag_folds': True},\n  'LightGBM_BAG_L1': {'use_orig_features': True,\n   'max_base_models': 25,\n   'max_base_models_per_type': 5,\n   'save_bag_folds': True},\n  'RandomForestMSE_BAG_L1': {'use_orig_features': True,\n   'max_base_models': 25,\n   'max_base_models_per_type': 5,\n   'save_bag_folds': True,\n   'use_child_oof': True},\n  'CatBoost_BAG_L1': {'use_orig_features': True,\n   'max_base_models': 25,\n   'max_base_models_per_type': 5,\n   'save_bag_folds': True},\n  'ExtraTreesMSE_BAG_L1': {'use_orig_features': True,\n   'max_base_models': 25,\n   'max_base_models_per_type': 5,\n   'save_bag_folds': True,\n   'use_child_oof': True},\n  'NeuralNetFastAI_BAG_L1': {'use_orig_features': True,\n   'max_base_models': 25,\n   'max_base_models_per_type': 5,\n   'save_bag_folds': True},\n  'XGBoost_BAG_L1': {'use_orig_features': True,\n   'max_base_models': 25,\n   'max_base_models_per_type': 5,\n   'save_bag_folds': True},\n  'WeightedEnsemble_L2': {'use_orig_features': False,\n   'max_base_models': 25,\n   'max_base_models_per_type': 5,\n   'save_bag_folds': True},\n  'LightGBMXT_BAG_L2': {'use_orig_features': True,\n   'max_base_models': 25,\n   'max_base_models_per_type': 5,\n   'save_bag_folds': True},\n  'LightGBM_BAG_L2': {'use_orig_features': True,\n   'max_base_models': 25,\n   'max_base_models_per_type': 5,\n   'save_bag_folds': True},\n  'RandomForestMSE_BAG_L2': {'use_orig_features': True,\n   'max_base_models': 25,\n   'max_base_models_per_type': 5,\n   'save_bag_folds': True,\n   'use_child_oof': True},\n  'CatBoost_BAG_L2': {'use_orig_features': True,\n   'max_base_models': 25,\n   'max_base_models_per_type': 5,\n   'save_bag_folds': True},\n  'ExtraTreesMSE_BAG_L2': {'use_orig_features': True,\n   'max_base_models': 25,\n   'max_base_models_per_type': 5,\n   'save_bag_folds': True,\n   'use_child_oof': True},\n  'NeuralNetFastAI_BAG_L2': {'use_orig_features': True,\n   'max_base_models': 25,\n   'max_base_models_per_type': 5,\n   'save_bag_folds': True},\n  'XGBoost_BAG_L2': {'use_orig_features': True,\n   'max_base_models': 25,\n   'max_base_models_per_type': 5,\n   'save_bag_folds': True},\n  'WeightedEnsemble_L3': {'use_orig_features': False,\n   'max_base_models': 25,\n   'max_base_models_per_type': 5,\n   'save_bag_folds': True}},\n 'leaderboard':                      model   score_val  pred_time_val    fit_time  \\\n 0      WeightedEnsemble_L3  -50.428314      25.042783  425.511158   \n 1   NeuralNetFastAI_BAG_L2  -51.575689      23.381067  408.094586   \n 2   RandomForestMSE_BAG_L2  -53.192385      23.210769  365.772005   \n 3     ExtraTreesMSE_BAG_L2  -53.639684      23.003228  360.183340   \n 4          LightGBM_BAG_L2  -54.730151      22.635210  360.856817   \n 5           XGBoost_BAG_L2  -55.278658      22.571365  366.612289   \n 6          CatBoost_BAG_L2  -55.655661      22.456219  402.816979   \n 7        LightGBMXT_BAG_L2  -60.219747      27.007575  373.985172   \n 8    KNeighborsDist_BAG_L1  -84.146423       0.025046    0.047478   \n 9      WeightedEnsemble_L2  -84.146423       0.027326    1.307356   \n 10   KNeighborsUnif_BAG_L1 -101.588176       0.036417    0.052504   \n 11  RandomForestMSE_BAG_L1 -116.543822       0.655945    3.875641   \n 12    ExtraTreesMSE_BAG_L1 -124.594043       1.459890    3.678114   \n 13         CatBoost_BAG_L1 -130.461205       0.188795  250.990747   \n 14         LightGBM_BAG_L1 -131.054162       1.467518    8.152470   \n 15       LightGBMXT_BAG_L1 -131.460909      17.801487   44.551211   \n 16          XGBoost_BAG_L1 -134.732353       0.251050    4.565236   \n 17  NeuralNetFastAI_BAG_L1 -137.374697       0.390270   38.928494   \n \n     pred_time_val_marginal  fit_time_marginal  stack_level  can_infer  \\\n 0                 0.000554           1.145018            3       True   \n 1                 1.104650          53.252690            2       True   \n 2                 0.934352          10.930110            2       True   \n 3                 0.726810           5.341444            2       True   \n 4                 0.358792           6.014921            2       True   \n 5                 0.294947          11.770393            2       True   \n 6                 0.179801          47.975084            2       True   \n 7                 4.731158          19.143276            2       True   \n 8                 0.025046           0.047478            1       True   \n 9                 0.002280           1.259878            2       True   \n 10                0.036417           0.052504            1       True   \n 11                0.655945           3.875641            1       True   \n 12                1.459890           3.678114            1       True   \n 13                0.188795         250.990747            1       True   \n 14                1.467518           8.152470            1       True   \n 15               17.801487          44.551211            1       True   \n 16                0.251050           4.565236            1       True   \n 17                0.390270          38.928494            1       True   \n \n     fit_order  \n 0          18  \n 1          16  \n 2          13  \n 3          15  \n 4          12  \n 5          17  \n 6          14  \n 7          11  \n 8           2  \n 9          10  \n 10          1  \n 11          5  \n 12          7  \n 13          6  \n 14          4  \n 15          3  \n 16          9  \n 17          8  }"
     },
     "execution_count": 76,
     "metadata": {},
     "output_type": "execute_result"
    }
   ],
   "source": [
    "predictor.fit_summary()"
   ],
   "metadata": {
    "collapsed": false,
    "pycharm": {
     "name": "#%%\n"
    }
   }
  },
  {
   "cell_type": "code",
   "execution_count": 77,
   "outputs": [],
   "source": [
    "predictions = predictor.predict(test)"
   ],
   "metadata": {
    "collapsed": false,
    "pycharm": {
     "name": "#%%\n"
    }
   }
  },
  {
   "cell_type": "code",
   "execution_count": 78,
   "outputs": [
    {
     "data": {
      "text/plain": "0    25.388779\n1    41.943302\n2    46.481602\n3    48.296814\n4    50.782539\nName: count, dtype: float32"
     },
     "execution_count": 78,
     "metadata": {},
     "output_type": "execute_result"
    }
   ],
   "source": [
    "predictions.head()"
   ],
   "metadata": {
    "collapsed": false,
    "pycharm": {
     "name": "#%%\n"
    }
   }
  },
  {
   "cell_type": "code",
   "execution_count": 79,
   "outputs": [
    {
     "data": {
      "text/plain": "count    6493.000000\nmean       99.140678\nstd        88.224846\nmin         0.477703\n25%        20.877464\n50%        66.991837\n75%       165.549103\nmax       351.056091\nName: count, dtype: float64"
     },
     "execution_count": 79,
     "metadata": {},
     "output_type": "execute_result"
    }
   ],
   "source": [
    "predictions.describe()"
   ],
   "metadata": {
    "collapsed": false,
    "pycharm": {
     "name": "#%%\n"
    }
   }
  },
  {
   "cell_type": "code",
   "execution_count": null,
   "outputs": [],
   "source": [
    "submission[\"count\"] = predictions\n",
    "submission.to_csv(\"submission.csv\", index=False)"
   ],
   "metadata": {
    "collapsed": false,
    "pycharm": {
     "name": "#%%\n"
    }
   }
  },
  {
   "cell_type": "code",
   "execution_count": 82,
   "outputs": [
    {
     "data": {
      "text/plain": "               datetime      count\n0   2011-01-20 00:00:00  25.388779\n1   2011-01-20 01:00:00  41.943302\n2   2011-01-20 02:00:00  46.481602\n3   2011-01-20 03:00:00  48.296814\n4   2011-01-20 04:00:00  50.782539\n..                  ...        ...\n95  2011-01-24 01:00:00  71.526871\n96  2011-01-24 03:00:00  71.932152\n97  2011-01-24 04:00:00  60.287888\n98  2011-01-24 05:00:00  60.292976\n99  2011-01-24 06:00:00  69.591652\n\n[100 rows x 2 columns]",
      "text/html": "<div>\n<style scoped>\n    .dataframe tbody tr th:only-of-type {\n        vertical-align: middle;\n    }\n\n    .dataframe tbody tr th {\n        vertical-align: top;\n    }\n\n    .dataframe thead th {\n        text-align: right;\n    }\n</style>\n<table border=\"1\" class=\"dataframe\">\n  <thead>\n    <tr style=\"text-align: right;\">\n      <th></th>\n      <th>datetime</th>\n      <th>count</th>\n    </tr>\n  </thead>\n  <tbody>\n    <tr>\n      <th>0</th>\n      <td>2011-01-20 00:00:00</td>\n      <td>25.388779</td>\n    </tr>\n    <tr>\n      <th>1</th>\n      <td>2011-01-20 01:00:00</td>\n      <td>41.943302</td>\n    </tr>\n    <tr>\n      <th>2</th>\n      <td>2011-01-20 02:00:00</td>\n      <td>46.481602</td>\n    </tr>\n    <tr>\n      <th>3</th>\n      <td>2011-01-20 03:00:00</td>\n      <td>48.296814</td>\n    </tr>\n    <tr>\n      <th>4</th>\n      <td>2011-01-20 04:00:00</td>\n      <td>50.782539</td>\n    </tr>\n    <tr>\n      <th>...</th>\n      <td>...</td>\n      <td>...</td>\n    </tr>\n    <tr>\n      <th>95</th>\n      <td>2011-01-24 01:00:00</td>\n      <td>71.526871</td>\n    </tr>\n    <tr>\n      <th>96</th>\n      <td>2011-01-24 03:00:00</td>\n      <td>71.932152</td>\n    </tr>\n    <tr>\n      <th>97</th>\n      <td>2011-01-24 04:00:00</td>\n      <td>60.287888</td>\n    </tr>\n    <tr>\n      <th>98</th>\n      <td>2011-01-24 05:00:00</td>\n      <td>60.292976</td>\n    </tr>\n    <tr>\n      <th>99</th>\n      <td>2011-01-24 06:00:00</td>\n      <td>69.591652</td>\n    </tr>\n  </tbody>\n</table>\n<p>100 rows × 2 columns</p>\n</div>"
     },
     "execution_count": 82,
     "metadata": {},
     "output_type": "execute_result"
    }
   ],
   "source": [
    "submission.head(100)"
   ],
   "metadata": {
    "collapsed": false,
    "pycharm": {
     "name": "#%%\n"
    }
   }
  },
  {
   "cell_type": "code",
   "execution_count": 84,
   "outputs": [
    {
     "name": "stdout",
     "output_type": "stream",
     "text": [
      "Successfully submitted to Bike Sharing Demand\n"
     ]
    },
    {
     "name": "stderr",
     "output_type": "stream",
     "text": [
      "\n",
      "  0%|          | 0.00/195k [00:00<?, ?B/s]\n",
      "100%|##########| 195k/195k [00:00<00:00, 280kB/s]\n"
     ]
    }
   ],
   "source": [
    "!kaggle competitions submit -c bike-sharing-demand -f submission.csv -m \"first raw submission attempt: 3\""
   ],
   "metadata": {
    "collapsed": false,
    "pycharm": {
     "name": "#%%\n"
    }
   }
  },
  {
   "cell_type": "markdown",
   "source": [
    "## Obtained first raw score of 1.80763"
   ],
   "metadata": {
    "collapsed": false,
    "pycharm": {
     "name": "#%% md\n"
    }
   }
  },
  {
   "cell_type": "markdown",
   "source": [
    "# Feature Engineering"
   ],
   "metadata": {
    "collapsed": false,
    "pycharm": {
     "name": "#%% md\n"
    }
   },
   "execution_count": 73
  },
  {
   "cell_type": "code",
   "execution_count": 19,
   "outputs": [],
   "source": [
    "# First, normalize the features temperature, relative temperature, humidity, and windspeed\n",
    "from sklearn.preprocessing import MinMaxScaler"
   ],
   "metadata": {
    "collapsed": false,
    "pycharm": {
     "name": "#%%\n"
    }
   }
  },
  {
   "cell_type": "code",
   "execution_count": 20,
   "outputs": [],
   "source": [
    "scaler = MinMaxScaler()\n",
    "# transform data (training)\n",
    "temp = train['temp'].values.reshape(-1, 1)\n",
    "atemp = train['atemp'].values.reshape(-1, 1)\n",
    "humidity = train['humidity'].values.reshape(-1, 1)\n",
    "windspeed = train['windspeed'].values.reshape(-1, 1)\n",
    "train['temp'] = scaler.fit_transform(temp)\n",
    "train['atemp'] = scaler.fit_transform(atemp)\n",
    "train['humidity'] = scaler.fit_transform(humidity)\n",
    "train['windspeed'] = scaler.fit_transform(windspeed)"
   ],
   "metadata": {
    "collapsed": false,
    "pycharm": {
     "name": "#%%\n"
    }
   }
  },
  {
   "cell_type": "code",
   "execution_count": 21,
   "outputs": [],
   "source": [
    "# transform test data too for later\n",
    "tempt = test['temp'].values.reshape(-1, 1)\n",
    "atempt = test['atemp'].values.reshape(-1, 1)\n",
    "humidityt = test['humidity'].values.reshape(-1, 1)\n",
    "windspeedt = test['windspeed'].values.reshape(-1, 1)\n",
    "test['temp'] = scaler.fit_transform(tempt)\n",
    "test['atemp'] = scaler.fit_transform(atempt)\n",
    "test['humidity'] = scaler.fit_transform(humidityt)\n",
    "test['windspeed'] = scaler.fit_transform(windspeedt)"
   ],
   "metadata": {
    "collapsed": false,
    "pycharm": {
     "name": "#%%\n"
    }
   }
  },
  {
   "cell_type": "code",
   "execution_count": 101,
   "outputs": [
    {
     "name": "stderr",
     "output_type": "stream",
     "text": [
      "No path specified. Models will be saved in: \"AutogluonModels/ag-20220718_220011\\\"\n",
      "Presets specified: ['best_quality']\n",
      "Beginning AutoGluon training ... Time limit = 100s\n",
      "AutoGluon will save models to \"AutogluonModels/ag-20220718_220011\\\"\n",
      "AutoGluon Version:  0.5.0\n",
      "Python Version:     3.9.12\n",
      "Operating System:   Windows\n",
      "Train Data Rows:    10886\n",
      "Train Data Columns: 9\n",
      "Label Column: count\n",
      "Preprocessing data ...\n",
      "Using Feature Generators to preprocess the data ...\n",
      "Dropping user-specified ignored columns: ['casual', 'registered']\n",
      "Fitting AutoMLPipelineFeatureGenerator...\n",
      "\tAvailable Memory:                    3443.59 MB\n",
      "\tTrain Data (Original)  Memory Usage: 0.78 MB (0.0% of available memory)\n",
      "\tInferring data type of each feature based on column values. Set feature_metadata_in to manually specify special dtypes of the features.\n",
      "\tStage 1 Generators:\n",
      "\t\tFitting AsTypeFeatureGenerator...\n",
      "\t\t\tNote: Converting 2 features to boolean dtype as they only contain 2 unique values.\n",
      "\tStage 2 Generators:\n",
      "\t\tFitting FillNaFeatureGenerator...\n",
      "\tStage 3 Generators:\n",
      "\t\tFitting IdentityFeatureGenerator...\n",
      "\t\tFitting DatetimeFeatureGenerator...\n",
      "\tStage 4 Generators:\n",
      "\t\tFitting DropUniqueFeatureGenerator...\n",
      "\tTypes of features in original data (raw dtype, special dtypes):\n",
      "\t\t('datetime', []) : 1 | ['datetime']\n",
      "\t\t('float', [])    : 4 | ['temp', 'atemp', 'humidity', 'windspeed']\n",
      "\t\t('int', [])      : 4 | ['season', 'holiday', 'workingday', 'weather']\n",
      "\tTypes of features in processed data (raw dtype, special dtypes):\n",
      "\t\t('float', [])                : 4 | ['temp', 'atemp', 'humidity', 'windspeed']\n",
      "\t\t('int', [])                  : 2 | ['season', 'weather']\n",
      "\t\t('int', ['bool'])            : 2 | ['holiday', 'workingday']\n",
      "\t\t('int', ['datetime_as_int']) : 5 | ['datetime', 'datetime.year', 'datetime.month', 'datetime.day', 'datetime.dayofweek']\n",
      "\t0.1s = Fit runtime\n",
      "\t9 features in original data used to generate 13 features in processed data.\n",
      "\tTrain Data (Processed) Memory Usage: 0.81 MB (0.0% of available memory)\n",
      "Data preprocessing and feature engineering runtime = 0.14s ...\n",
      "AutoGluon will gauge predictive performance using evaluation metric: 'root_mean_squared_error'\n",
      "\tThis metric's sign has been flipped to adhere to being higher_is_better. The metric score can be multiplied by -1 to get the metric value.\n",
      "\tTo change this, specify the eval_metric parameter of Predictor()\n",
      "AutoGluon will fit 2 stack levels (L1 to L2) ...\n",
      "Fitting 11 L1 models ...\n",
      "Fitting model: KNeighborsUnif_BAG_L1 ... Training model for up to 66.55s of the 99.85s of remaining time.\n",
      "\t-101.5882\t = Validation score   (-root_mean_squared_error)\n",
      "\t0.09s\t = Training   runtime\n",
      "\t0.03s\t = Validation runtime\n",
      "Fitting model: KNeighborsDist_BAG_L1 ... Training model for up to 66.33s of the 99.63s of remaining time.\n",
      "\t-84.1464\t = Validation score   (-root_mean_squared_error)\n",
      "\t0.07s\t = Training   runtime\n",
      "\t0.03s\t = Validation runtime\n",
      "Fitting model: LightGBMXT_BAG_L1 ... Training model for up to 66.16s of the 99.46s of remaining time.\n",
      "\tFitting 8 child models (S1F1 - S1F8) | Fitting with ParallelLocalFoldFittingStrategy\n",
      "\t-131.3767\t = Validation score   (-root_mean_squared_error)\n",
      "\t27.75s\t = Training   runtime\n",
      "\t15.01s\t = Validation runtime\n",
      "Fitting model: LightGBM_BAG_L1 ... Training model for up to 26.05s of the 59.35s of remaining time.\n",
      "\tFitting 8 child models (S1F1 - S1F8) | Fitting with ParallelLocalFoldFittingStrategy\n",
      "\t-131.0542\t = Validation score   (-root_mean_squared_error)\n",
      "\t9.19s\t = Training   runtime\n",
      "\t1.83s\t = Validation runtime\n",
      "Fitting model: RandomForestMSE_BAG_L1 ... Training model for up to 9.51s of the 42.81s of remaining time.\n",
      "\t-116.5359\t = Validation score   (-root_mean_squared_error)\n",
      "\t3.52s\t = Training   runtime\n",
      "\t0.78s\t = Validation runtime\n",
      "Fitting model: CatBoost_BAG_L1 ... Training model for up to 4.68s of the 37.98s of remaining time.\n",
      "\tFitting 8 child models (S1F1 - S1F8) | Fitting with ParallelLocalFoldFittingStrategy\n",
      "\t-137.27\t = Validation score   (-root_mean_squared_error)\n",
      "\t6.64s\t = Training   runtime\n",
      "\t0.03s\t = Validation runtime\n",
      "Completed 1/20 k-fold bagging repeats ...\n",
      "Fitting model: WeightedEnsemble_L2 ... Training model for up to 99.86s of the 24.61s of remaining time.\n",
      "\t-84.1464\t = Validation score   (-root_mean_squared_error)\n",
      "\t0.47s\t = Training   runtime\n",
      "\t0.0s\t = Validation runtime\n",
      "Fitting 9 L2 models ...\n",
      "Fitting model: LightGBMXT_BAG_L2 ... Training model for up to 24.11s of the 24.1s of remaining time.\n",
      "\tFitting 8 child models (S1F1 - S1F8) | Fitting with ParallelLocalFoldFittingStrategy\n",
      "\t-60.9128\t = Validation score   (-root_mean_squared_error)\n",
      "\t13.37s\t = Training   runtime\n",
      "\t3.86s\t = Validation runtime\n",
      "Fitting model: LightGBM_BAG_L2 ... Training model for up to 2.87s of the 2.85s of remaining time.\n",
      "\tFitting 8 child models (S1F1 - S1F8) | Fitting with ParallelLocalFoldFittingStrategy\n",
      "\t-54.6242\t = Validation score   (-root_mean_squared_error)\n",
      "\t5.64s\t = Training   runtime\n",
      "\t0.25s\t = Validation runtime\n",
      "Completed 1/20 k-fold bagging repeats ...\n",
      "Fitting model: WeightedEnsemble_L3 ... Training model for up to 99.86s of the -9.77s of remaining time.\n",
      "\t-54.6134\t = Validation score   (-root_mean_squared_error)\n",
      "\t0.17s\t = Training   runtime\n",
      "\t0.0s\t = Validation runtime\n",
      "AutoGluon training complete, total runtime = 109.97s ... Best model: \"WeightedEnsemble_L3\"\n",
      "TabularPredictor saved. To load, use: predictor = TabularPredictor.load(\"AutogluonModels/ag-20220718_220011\\\")\n"
     ]
    }
   ],
   "source": [
    "predictor_normalized = TabularPredictor(label=\"count\", problem_type=\"regression\", eval_metric=\"root_mean_squared_error\", learner_kwargs=learner_kwargs).fit(\n",
    "    train_data = train,\n",
    "    time_limit = 100,\n",
    "    presets = \"best_quality\"\n",
    ")"
   ],
   "metadata": {
    "collapsed": false,
    "pycharm": {
     "name": "#%%\n"
    }
   }
  },
  {
   "cell_type": "code",
   "execution_count": 102,
   "outputs": [
    {
     "name": "stdout",
     "output_type": "stream",
     "text": [
      "*** Summary of fit() ***\n",
      "Estimated performance of each model:\n",
      "                    model   score_val  pred_time_val   fit_time  pred_time_val_marginal  fit_time_marginal  stack_level  can_infer  fit_order\n",
      "0     WeightedEnsemble_L3  -54.613405      21.824050  66.442641                0.000000           0.168001            3       True         10\n",
      "1         LightGBM_BAG_L2  -54.624243      17.967371  52.900547                0.250231           5.640877            2       True          9\n",
      "2       LightGBMXT_BAG_L2  -60.912757      21.573819  60.633763                3.856679          13.374093            2       True          8\n",
      "3     WeightedEnsemble_L2  -84.146423       0.033482   0.539645                0.000000           0.466699            2       True          7\n",
      "4   KNeighborsDist_BAG_L1  -84.146423       0.033482   0.072946                0.033482           0.072946            1       True          2\n",
      "5   KNeighborsUnif_BAG_L1 -101.588176       0.030992   0.094839                0.030992           0.094839            1       True          1\n",
      "6  RandomForestMSE_BAG_L1 -116.535876       0.775033   3.516998                0.775033           3.516998            1       True          5\n",
      "7         LightGBM_BAG_L1 -131.054162       1.834506   9.188787                1.834506           9.188787            1       True          4\n",
      "8       LightGBMXT_BAG_L1 -131.376691      15.011061  27.750133               15.011061          27.750133            1       True          3\n",
      "9         CatBoost_BAG_L1 -137.270001       0.032066   6.635967                0.032066           6.635967            1       True          6\n",
      "Number of models trained: 10\n",
      "Types of models trained:\n",
      "{'StackerEnsembleModel_CatBoost', 'WeightedEnsembleModel', 'StackerEnsembleModel_LGB', 'StackerEnsembleModel_KNN', 'StackerEnsembleModel_RF'}\n",
      "Bagging used: True  (with 8 folds)\n",
      "Multi-layer stack-ensembling used: True  (with 3 levels)\n",
      "Feature Metadata (Processed):\n",
      "(raw dtype, special dtypes):\n",
      "('float', [])                : 4 | ['temp', 'atemp', 'humidity', 'windspeed']\n",
      "('int', [])                  : 2 | ['season', 'weather']\n",
      "('int', ['bool'])            : 2 | ['holiday', 'workingday']\n",
      "('int', ['datetime_as_int']) : 5 | ['datetime', 'datetime.year', 'datetime.month', 'datetime.day', 'datetime.dayofweek']\n",
      "Plot summary of models saved to file: AutogluonModels/ag-20220718_220011\\SummaryOfModels.html\n",
      "*** End of fit() summary ***\n"
     ]
    },
    {
     "data": {
      "text/plain": "{'model_types': {'KNeighborsUnif_BAG_L1': 'StackerEnsembleModel_KNN',\n  'KNeighborsDist_BAG_L1': 'StackerEnsembleModel_KNN',\n  'LightGBMXT_BAG_L1': 'StackerEnsembleModel_LGB',\n  'LightGBM_BAG_L1': 'StackerEnsembleModel_LGB',\n  'RandomForestMSE_BAG_L1': 'StackerEnsembleModel_RF',\n  'CatBoost_BAG_L1': 'StackerEnsembleModel_CatBoost',\n  'WeightedEnsemble_L2': 'WeightedEnsembleModel',\n  'LightGBMXT_BAG_L2': 'StackerEnsembleModel_LGB',\n  'LightGBM_BAG_L2': 'StackerEnsembleModel_LGB',\n  'WeightedEnsemble_L3': 'WeightedEnsembleModel'},\n 'model_performance': {'KNeighborsUnif_BAG_L1': -101.58817625927213,\n  'KNeighborsDist_BAG_L1': -84.14642264302962,\n  'LightGBMXT_BAG_L1': -131.376690801181,\n  'LightGBM_BAG_L1': -131.054161598899,\n  'RandomForestMSE_BAG_L1': -116.53587644360984,\n  'CatBoost_BAG_L1': -137.27000137760038,\n  'WeightedEnsemble_L2': -84.14642264302962,\n  'LightGBMXT_BAG_L2': -60.912757320283724,\n  'LightGBM_BAG_L2': -54.62424319028297,\n  'WeightedEnsemble_L3': -54.61340544288559},\n 'model_best': 'WeightedEnsemble_L3',\n 'model_paths': {'KNeighborsUnif_BAG_L1': 'AutogluonModels/ag-20220718_220011\\\\models\\\\KNeighborsUnif_BAG_L1\\\\',\n  'KNeighborsDist_BAG_L1': 'AutogluonModels/ag-20220718_220011\\\\models\\\\KNeighborsDist_BAG_L1\\\\',\n  'LightGBMXT_BAG_L1': 'AutogluonModels/ag-20220718_220011\\\\models\\\\LightGBMXT_BAG_L1\\\\',\n  'LightGBM_BAG_L1': 'AutogluonModels/ag-20220718_220011\\\\models\\\\LightGBM_BAG_L1\\\\',\n  'RandomForestMSE_BAG_L1': 'AutogluonModels/ag-20220718_220011\\\\models\\\\RandomForestMSE_BAG_L1\\\\',\n  'CatBoost_BAG_L1': 'AutogluonModels/ag-20220718_220011\\\\models\\\\CatBoost_BAG_L1\\\\',\n  'WeightedEnsemble_L2': 'AutogluonModels/ag-20220718_220011\\\\models\\\\WeightedEnsemble_L2\\\\',\n  'LightGBMXT_BAG_L2': 'AutogluonModels/ag-20220718_220011\\\\models\\\\LightGBMXT_BAG_L2\\\\',\n  'LightGBM_BAG_L2': 'AutogluonModels/ag-20220718_220011\\\\models\\\\LightGBM_BAG_L2\\\\',\n  'WeightedEnsemble_L3': 'AutogluonModels/ag-20220718_220011\\\\models\\\\WeightedEnsemble_L3\\\\'},\n 'model_fit_times': {'KNeighborsUnif_BAG_L1': 0.09483909606933594,\n  'KNeighborsDist_BAG_L1': 0.07294607162475586,\n  'LightGBMXT_BAG_L1': 27.75013256072998,\n  'LightGBM_BAG_L1': 9.188786745071411,\n  'RandomForestMSE_BAG_L1': 3.516998052597046,\n  'CatBoost_BAG_L1': 6.635967254638672,\n  'WeightedEnsemble_L2': 0.46669936180114746,\n  'LightGBMXT_BAG_L2': 13.374093294143677,\n  'LightGBM_BAG_L2': 5.64087700843811,\n  'WeightedEnsemble_L3': 0.16800141334533691},\n 'model_pred_times': {'KNeighborsUnif_BAG_L1': 0.03099226951599121,\n  'KNeighborsDist_BAG_L1': 0.03348231315612793,\n  'LightGBMXT_BAG_L1': 15.011061429977417,\n  'LightGBM_BAG_L1': 1.8345060348510742,\n  'RandomForestMSE_BAG_L1': 0.7750325202941895,\n  'CatBoost_BAG_L1': 0.032065629959106445,\n  'WeightedEnsemble_L2': 0.0,\n  'LightGBMXT_BAG_L2': 3.8566792011260986,\n  'LightGBM_BAG_L2': 0.2502305507659912,\n  'WeightedEnsemble_L3': 0.0},\n 'num_bag_folds': 8,\n 'max_stack_level': 3,\n 'model_hyperparams': {'KNeighborsUnif_BAG_L1': {'use_orig_features': True,\n   'max_base_models': 25,\n   'max_base_models_per_type': 5,\n   'save_bag_folds': True,\n   'use_child_oof': True},\n  'KNeighborsDist_BAG_L1': {'use_orig_features': True,\n   'max_base_models': 25,\n   'max_base_models_per_type': 5,\n   'save_bag_folds': True,\n   'use_child_oof': True},\n  'LightGBMXT_BAG_L1': {'use_orig_features': True,\n   'max_base_models': 25,\n   'max_base_models_per_type': 5,\n   'save_bag_folds': True},\n  'LightGBM_BAG_L1': {'use_orig_features': True,\n   'max_base_models': 25,\n   'max_base_models_per_type': 5,\n   'save_bag_folds': True},\n  'RandomForestMSE_BAG_L1': {'use_orig_features': True,\n   'max_base_models': 25,\n   'max_base_models_per_type': 5,\n   'save_bag_folds': True,\n   'use_child_oof': True},\n  'CatBoost_BAG_L1': {'use_orig_features': True,\n   'max_base_models': 25,\n   'max_base_models_per_type': 5,\n   'save_bag_folds': True},\n  'WeightedEnsemble_L2': {'use_orig_features': False,\n   'max_base_models': 25,\n   'max_base_models_per_type': 5,\n   'save_bag_folds': True},\n  'LightGBMXT_BAG_L2': {'use_orig_features': True,\n   'max_base_models': 25,\n   'max_base_models_per_type': 5,\n   'save_bag_folds': True},\n  'LightGBM_BAG_L2': {'use_orig_features': True,\n   'max_base_models': 25,\n   'max_base_models_per_type': 5,\n   'save_bag_folds': True},\n  'WeightedEnsemble_L3': {'use_orig_features': False,\n   'max_base_models': 25,\n   'max_base_models_per_type': 5,\n   'save_bag_folds': True}},\n 'leaderboard':                     model   score_val  pred_time_val   fit_time  \\\n 0     WeightedEnsemble_L3  -54.613405      21.824050  66.442641   \n 1         LightGBM_BAG_L2  -54.624243      17.967371  52.900547   \n 2       LightGBMXT_BAG_L2  -60.912757      21.573819  60.633763   \n 3     WeightedEnsemble_L2  -84.146423       0.033482   0.539645   \n 4   KNeighborsDist_BAG_L1  -84.146423       0.033482   0.072946   \n 5   KNeighborsUnif_BAG_L1 -101.588176       0.030992   0.094839   \n 6  RandomForestMSE_BAG_L1 -116.535876       0.775033   3.516998   \n 7         LightGBM_BAG_L1 -131.054162       1.834506   9.188787   \n 8       LightGBMXT_BAG_L1 -131.376691      15.011061  27.750133   \n 9         CatBoost_BAG_L1 -137.270001       0.032066   6.635967   \n \n    pred_time_val_marginal  fit_time_marginal  stack_level  can_infer  \\\n 0                0.000000           0.168001            3       True   \n 1                0.250231           5.640877            2       True   \n 2                3.856679          13.374093            2       True   \n 3                0.000000           0.466699            2       True   \n 4                0.033482           0.072946            1       True   \n 5                0.030992           0.094839            1       True   \n 6                0.775033           3.516998            1       True   \n 7                1.834506           9.188787            1       True   \n 8               15.011061          27.750133            1       True   \n 9                0.032066           6.635967            1       True   \n \n    fit_order  \n 0         10  \n 1          9  \n 2          8  \n 3          7  \n 4          2  \n 5          1  \n 6          5  \n 7          4  \n 8          3  \n 9          6  }"
     },
     "execution_count": 102,
     "metadata": {},
     "output_type": "execute_result"
    }
   ],
   "source": [
    "predictor_normalized.fit_summary()"
   ],
   "metadata": {
    "collapsed": false,
    "pycharm": {
     "name": "#%%\n"
    }
   }
  },
  {
   "cell_type": "code",
   "execution_count": 104,
   "outputs": [],
   "source": [
    "predictions_normalized = predictor_normalized.predict(test)"
   ],
   "metadata": {
    "collapsed": false,
    "pycharm": {
     "name": "#%%\n"
    }
   }
  },
  {
   "cell_type": "code",
   "execution_count": 137,
   "outputs": [
    {
     "data": {
      "text/plain": "0    32.821739\n1    42.544937\n2    46.057392\n3    49.508232\n4    50.222870\nName: count, dtype: float32"
     },
     "execution_count": 137,
     "metadata": {},
     "output_type": "execute_result"
    }
   ],
   "source": [
    "predictions_normalized.head()"
   ],
   "metadata": {
    "collapsed": false,
    "pycharm": {
     "name": "#%%\n"
    }
   }
  },
  {
   "cell_type": "code",
   "execution_count": 108,
   "outputs": [
    {
     "data": {
      "text/plain": "count    6493.000000\nmean      100.295258\nstd        89.984291\nmin        -6.651858\n25%        17.808601\n50%        63.910889\n75%       170.488876\nmax       369.346191\nName: count, dtype: float64"
     },
     "execution_count": 108,
     "metadata": {},
     "output_type": "execute_result"
    }
   ],
   "source": [
    "predictions_normalized.describe()"
   ],
   "metadata": {
    "collapsed": false,
    "pycharm": {
     "name": "#%%\n"
    }
   }
  },
  {
   "cell_type": "code",
   "execution_count": 114,
   "outputs": [
    {
     "data": {
      "text/plain": "5631   -6.651858\nName: count, dtype: float32"
     },
     "execution_count": 114,
     "metadata": {},
     "output_type": "execute_result"
    }
   ],
   "source": [
    "predictions_normalized[predictions_normalized < 0]"
   ],
   "metadata": {
    "collapsed": false,
    "pycharm": {
     "name": "#%%\n"
    }
   }
  },
  {
   "cell_type": "code",
   "execution_count": 143,
   "outputs": [],
   "source": [
    "predictions_normalized_n = pd.DataFrame(predictions_normalized)\n",
    "predictions_normalized = predictions_normalized_n.clip(lower=0)"
   ],
   "metadata": {
    "collapsed": false,
    "pycharm": {
     "name": "#%%\n"
    }
   }
  },
  {
   "cell_type": "code",
   "execution_count": 144,
   "outputs": [],
   "source": [
    "submission[\"count\"] = predictions_normalized\n",
    "submission.to_csv(\"submission_normalized.csv\", index=False)"
   ],
   "metadata": {
    "collapsed": false,
    "pycharm": {
     "name": "#%%\n"
    }
   }
  },
  {
   "cell_type": "code",
   "execution_count": 145,
   "outputs": [
    {
     "name": "stdout",
     "output_type": "stream",
     "text": [
      "Successfully submitted to Bike Sharing Demand\n"
     ]
    },
    {
     "name": "stderr",
     "output_type": "stream",
     "text": [
      "\n",
      "  0%|          | 0.00/195k [00:00<?, ?B/s]\n",
      " 94%|#########4| 184k/195k [00:00<00:00, 1.87MB/s]\n",
      "100%|##########| 195k/195k [00:00<00:00, 247kB/s] \n"
     ]
    }
   ],
   "source": [
    "!kaggle competitions submit -c bike-sharing-demand -f submission_normalized.csv -m \"try normalized features\""
   ],
   "metadata": {
    "collapsed": false,
    "pycharm": {
     "name": "#%%\n"
    }
   }
  },
  {
   "cell_type": "markdown",
   "source": [
    "## New score (with normalized features): 1.79863"
   ],
   "metadata": {
    "collapsed": false,
    "pycharm": {
     "name": "#%% md\n"
    }
   }
  },
  {
   "cell_type": "code",
   "execution_count": 146,
   "outputs": [],
   "source": [
    "# Now lets seperate date/month/time column"
   ],
   "metadata": {
    "collapsed": false,
    "pycharm": {
     "name": "#%%\n"
    }
   }
  },
  {
   "cell_type": "code",
   "execution_count": 22,
   "outputs": [],
   "source": [
    "train['year'] = pd.DatetimeIndex(train['datetime']).year\n",
    "train['month'] = pd.DatetimeIndex(train['datetime']).month\n",
    "train['day'] = pd.DatetimeIndex(train['datetime']).day\n",
    "train['hour'] = pd.DatetimeIndex(train['datetime']).hour\n",
    "\n",
    "test['year'] = pd.DatetimeIndex(test['datetime']).year\n",
    "test['month'] = pd.DatetimeIndex(test['datetime']).month\n",
    "test['day'] = pd.DatetimeIndex(test['datetime']).day\n",
    "test['hour'] = pd.DatetimeIndex(test['datetime']).hour"
   ],
   "metadata": {
    "collapsed": false,
    "pycharm": {
     "name": "#%%\n"
    }
   }
  },
  {
   "cell_type": "code",
   "execution_count": 23,
   "outputs": [],
   "source": [
    "# turn into categories\n",
    "train[\"season\"] = train.season.astype('category')\n",
    "train[\"weather\"] = train.weather.astype('category')\n",
    "test[\"season\"] = test.season.astype('category')\n",
    "test[\"weather\"] = test.season.astype('category')"
   ],
   "metadata": {
    "collapsed": false,
    "pycharm": {
     "name": "#%%\n"
    }
   }
  },
  {
   "cell_type": "code",
   "execution_count": 24,
   "outputs": [
    {
     "data": {
      "text/plain": "             datetime season  holiday  workingday weather      temp     atemp  \\\n0 2011-01-01 00:00:00      1        0           0       1  0.224490  0.305068   \n1 2011-01-01 01:00:00      1        0           0       1  0.204082  0.288064   \n2 2011-01-01 02:00:00      1        0           0       1  0.204082  0.288064   \n3 2011-01-01 03:00:00      1        0           0       1  0.224490  0.305068   \n4 2011-01-01 04:00:00      1        0           0       1  0.224490  0.305068   \n\n   humidity  windspeed  casual  registered  count  year  month  day  hour  \n0      0.81        0.0       3          13     16  2011      1    1     0  \n1      0.80        0.0       8          32     40  2011      1    1     1  \n2      0.80        0.0       5          27     32  2011      1    1     2  \n3      0.75        0.0       3          10     13  2011      1    1     3  \n4      0.75        0.0       0           1      1  2011      1    1     4  ",
      "text/html": "<div>\n<style scoped>\n    .dataframe tbody tr th:only-of-type {\n        vertical-align: middle;\n    }\n\n    .dataframe tbody tr th {\n        vertical-align: top;\n    }\n\n    .dataframe thead th {\n        text-align: right;\n    }\n</style>\n<table border=\"1\" class=\"dataframe\">\n  <thead>\n    <tr style=\"text-align: right;\">\n      <th></th>\n      <th>datetime</th>\n      <th>season</th>\n      <th>holiday</th>\n      <th>workingday</th>\n      <th>weather</th>\n      <th>temp</th>\n      <th>atemp</th>\n      <th>humidity</th>\n      <th>windspeed</th>\n      <th>casual</th>\n      <th>registered</th>\n      <th>count</th>\n      <th>year</th>\n      <th>month</th>\n      <th>day</th>\n      <th>hour</th>\n    </tr>\n  </thead>\n  <tbody>\n    <tr>\n      <th>0</th>\n      <td>2011-01-01 00:00:00</td>\n      <td>1</td>\n      <td>0</td>\n      <td>0</td>\n      <td>1</td>\n      <td>0.224490</td>\n      <td>0.305068</td>\n      <td>0.81</td>\n      <td>0.0</td>\n      <td>3</td>\n      <td>13</td>\n      <td>16</td>\n      <td>2011</td>\n      <td>1</td>\n      <td>1</td>\n      <td>0</td>\n    </tr>\n    <tr>\n      <th>1</th>\n      <td>2011-01-01 01:00:00</td>\n      <td>1</td>\n      <td>0</td>\n      <td>0</td>\n      <td>1</td>\n      <td>0.204082</td>\n      <td>0.288064</td>\n      <td>0.80</td>\n      <td>0.0</td>\n      <td>8</td>\n      <td>32</td>\n      <td>40</td>\n      <td>2011</td>\n      <td>1</td>\n      <td>1</td>\n      <td>1</td>\n    </tr>\n    <tr>\n      <th>2</th>\n      <td>2011-01-01 02:00:00</td>\n      <td>1</td>\n      <td>0</td>\n      <td>0</td>\n      <td>1</td>\n      <td>0.204082</td>\n      <td>0.288064</td>\n      <td>0.80</td>\n      <td>0.0</td>\n      <td>5</td>\n      <td>27</td>\n      <td>32</td>\n      <td>2011</td>\n      <td>1</td>\n      <td>1</td>\n      <td>2</td>\n    </tr>\n    <tr>\n      <th>3</th>\n      <td>2011-01-01 03:00:00</td>\n      <td>1</td>\n      <td>0</td>\n      <td>0</td>\n      <td>1</td>\n      <td>0.224490</td>\n      <td>0.305068</td>\n      <td>0.75</td>\n      <td>0.0</td>\n      <td>3</td>\n      <td>10</td>\n      <td>13</td>\n      <td>2011</td>\n      <td>1</td>\n      <td>1</td>\n      <td>3</td>\n    </tr>\n    <tr>\n      <th>4</th>\n      <td>2011-01-01 04:00:00</td>\n      <td>1</td>\n      <td>0</td>\n      <td>0</td>\n      <td>1</td>\n      <td>0.224490</td>\n      <td>0.305068</td>\n      <td>0.75</td>\n      <td>0.0</td>\n      <td>0</td>\n      <td>1</td>\n      <td>1</td>\n      <td>2011</td>\n      <td>1</td>\n      <td>1</td>\n      <td>4</td>\n    </tr>\n  </tbody>\n</table>\n</div>"
     },
     "execution_count": 24,
     "metadata": {},
     "output_type": "execute_result"
    }
   ],
   "source": [
    "train.head()"
   ],
   "metadata": {
    "collapsed": false,
    "pycharm": {
     "name": "#%%\n"
    }
   }
  },
  {
   "cell_type": "code",
   "execution_count": 25,
   "outputs": [],
   "source": [
    "learner_kwargs_new = {\n",
    "    'ignored_columns': ['casual', 'registered', 'datetime']\n",
    "}"
   ],
   "metadata": {
    "collapsed": false,
    "pycharm": {
     "name": "#%%\n"
    }
   }
  },
  {
   "cell_type": "code",
   "execution_count": 169,
   "outputs": [
    {
     "name": "stderr",
     "output_type": "stream",
     "text": [
      "No path specified. Models will be saved in: \"AutogluonModels/ag-20220719_212944\\\"\n",
      "Presets specified: ['best_quality']\n",
      "Beginning AutoGluon training ... Time limit = 600s\n",
      "AutoGluon will save models to \"AutogluonModels/ag-20220719_212944\\\"\n",
      "AutoGluon Version:  0.5.0\n",
      "Python Version:     3.9.12\n",
      "Operating System:   Windows\n",
      "Train Data Rows:    10886\n",
      "Train Data Columns: 13\n",
      "Label Column: count\n",
      "Preprocessing data ...\n",
      "Using Feature Generators to preprocess the data ...\n",
      "Dropping user-specified ignored columns: ['casual', 'registered', 'datetime']\n",
      "Fitting AutoMLPipelineFeatureGenerator...\n",
      "\tAvailable Memory:                    2599.6 MB\n",
      "\tTrain Data (Original)  Memory Usage: 0.89 MB (0.0% of available memory)\n",
      "\tInferring data type of each feature based on column values. Set feature_metadata_in to manually specify special dtypes of the features.\n",
      "\tStage 1 Generators:\n",
      "\t\tFitting AsTypeFeatureGenerator...\n",
      "\t\t\tNote: Converting 3 features to boolean dtype as they only contain 2 unique values.\n",
      "\tStage 2 Generators:\n",
      "\t\tFitting FillNaFeatureGenerator...\n",
      "\tStage 3 Generators:\n",
      "\t\tFitting IdentityFeatureGenerator...\n",
      "\t\tFitting CategoryFeatureGenerator...\n",
      "\t\t\tFitting CategoryMemoryMinimizeFeatureGenerator...\n",
      "\tStage 4 Generators:\n",
      "\t\tFitting DropUniqueFeatureGenerator...\n",
      "\tTypes of features in original data (raw dtype, special dtypes):\n",
      "\t\t('category', []) : 2 | ['season', 'weather']\n",
      "\t\t('float', [])    : 4 | ['temp', 'atemp', 'humidity', 'windspeed']\n",
      "\t\t('int', [])      : 6 | ['holiday', 'workingday', 'year', 'month', 'day', ...]\n",
      "\tTypes of features in processed data (raw dtype, special dtypes):\n",
      "\t\t('category', [])  : 2 | ['season', 'weather']\n",
      "\t\t('float', [])     : 4 | ['temp', 'atemp', 'humidity', 'windspeed']\n",
      "\t\t('int', [])       : 3 | ['month', 'day', 'hour']\n",
      "\t\t('int', ['bool']) : 3 | ['holiday', 'workingday', 'year']\n",
      "\t0.1s = Fit runtime\n",
      "\t12 features in original data used to generate 12 features in processed data.\n",
      "\tTrain Data (Processed) Memory Usage: 0.67 MB (0.0% of available memory)\n",
      "Data preprocessing and feature engineering runtime = 0.12s ...\n",
      "AutoGluon will gauge predictive performance using evaluation metric: 'root_mean_squared_error'\n",
      "\tThis metric's sign has been flipped to adhere to being higher_is_better. The metric score can be multiplied by -1 to get the metric value.\n",
      "\tTo change this, specify the eval_metric parameter of Predictor()\n",
      "AutoGluon will fit 2 stack levels (L1 to L2) ...\n",
      "Fitting 11 L1 models ...\n",
      "Fitting model: KNeighborsUnif_BAG_L1 ... Training model for up to 399.82s of the 599.87s of remaining time.\n",
      "\t-92.2527\t = Validation score   (-root_mean_squared_error)\n",
      "\t0.03s\t = Training   runtime\n",
      "\t0.04s\t = Validation runtime\n",
      "Fitting model: KNeighborsDist_BAG_L1 ... Training model for up to 399.69s of the 599.75s of remaining time.\n",
      "\t-117.1023\t = Validation score   (-root_mean_squared_error)\n",
      "\t0.03s\t = Training   runtime\n",
      "\t0.03s\t = Validation runtime\n",
      "Fitting model: LightGBMXT_BAG_L1 ... Training model for up to 399.6s of the 599.66s of remaining time.\n",
      "\tFitting 8 child models (S1F1 - S1F8) | Fitting with ParallelLocalFoldFittingStrategy\n",
      "\t-37.2664\t = Validation score   (-root_mean_squared_error)\n",
      "\t24.19s\t = Training   runtime\n",
      "\t22.05s\t = Validation runtime\n",
      "Fitting model: LightGBM_BAG_L1 ... Training model for up to 362.55s of the 562.61s of remaining time.\n",
      "\tFitting 8 child models (S1F1 - S1F8) | Fitting with ParallelLocalFoldFittingStrategy\n",
      "\t-37.6929\t = Validation score   (-root_mean_squared_error)\n",
      "\t12.51s\t = Training   runtime\n",
      "\t4.41s\t = Validation runtime\n",
      "Fitting model: RandomForestMSE_BAG_L1 ... Training model for up to 343.82s of the 543.88s of remaining time.\n",
      "\t-42.1613\t = Validation score   (-root_mean_squared_error)\n",
      "\t2.64s\t = Training   runtime\n",
      "\t0.49s\t = Validation runtime\n",
      "Fitting model: CatBoost_BAG_L1 ... Training model for up to 340.18s of the 540.24s of remaining time.\n",
      "\tFitting 8 child models (S1F1 - S1F8) | Fitting with ParallelLocalFoldFittingStrategy\n",
      "\t-40.2708\t = Validation score   (-root_mean_squared_error)\n",
      "\t273.95s\t = Training   runtime\n",
      "\t0.51s\t = Validation runtime\n",
      "Fitting model: ExtraTreesMSE_BAG_L1 ... Training model for up to 61.24s of the 261.3s of remaining time.\n",
      "\t-41.6203\t = Validation score   (-root_mean_squared_error)\n",
      "\t1.43s\t = Training   runtime\n",
      "\t0.63s\t = Validation runtime\n",
      "Fitting model: NeuralNetFastAI_BAG_L1 ... Training model for up to 58.68s of the 258.74s of remaining time.\n",
      "\tFitting 8 child models (S1F1 - S1F8) | Fitting with ParallelLocalFoldFittingStrategy\n",
      "\t-47.8445\t = Validation score   (-root_mean_squared_error)\n",
      "\t26.92s\t = Training   runtime\n",
      "\t0.44s\t = Validation runtime\n",
      "Fitting model: XGBoost_BAG_L1 ... Training model for up to 26.32s of the 226.38s of remaining time.\n",
      "\tFitting 8 child models (S1F1 - S1F8) | Fitting with ParallelLocalFoldFittingStrategy\n",
      "\t-39.3317\t = Validation score   (-root_mean_squared_error)\n",
      "\t7.64s\t = Training   runtime\n",
      "\t0.57s\t = Validation runtime\n",
      "Fitting model: NeuralNetTorch_BAG_L1 ... Training model for up to 13.54s of the 213.6s of remaining time.\n",
      "\tFitting 8 child models (S1F1 - S1F8) | Fitting with ParallelLocalFoldFittingStrategy\n",
      "\t-87.5948\t = Validation score   (-root_mean_squared_error)\n",
      "\t14.49s\t = Training   runtime\n",
      "\t0.64s\t = Validation runtime\n",
      "Completed 1/20 k-fold bagging repeats ...\n",
      "Fitting model: WeightedEnsemble_L2 ... Training model for up to 360.0s of the 193.76s of remaining time.\n",
      "\t-36.0107\t = Validation score   (-root_mean_squared_error)\n",
      "\t0.8s\t = Training   runtime\n",
      "\t0.0s\t = Validation runtime\n",
      "Fitting 9 L2 models ...\n",
      "Fitting model: LightGBMXT_BAG_L2 ... Training model for up to 192.92s of the 192.9s of remaining time.\n",
      "\tFitting 8 child models (S1F1 - S1F8) | Fitting with ParallelLocalFoldFittingStrategy\n",
      "\t-36.4113\t = Validation score   (-root_mean_squared_error)\n",
      "\t4.76s\t = Training   runtime\n",
      "\t0.42s\t = Validation runtime\n",
      "Fitting model: LightGBM_BAG_L2 ... Training model for up to 180.58s of the 180.56s of remaining time.\n",
      "\tFitting 8 child models (S1F1 - S1F8) | Fitting with ParallelLocalFoldFittingStrategy\n",
      "\t-35.9791\t = Validation score   (-root_mean_squared_error)\n",
      "\t4.5s\t = Training   runtime\n",
      "\t0.15s\t = Validation runtime\n",
      "Fitting model: RandomForestMSE_BAG_L2 ... Training model for up to 171.15s of the 171.14s of remaining time.\n",
      "\t-36.3174\t = Validation score   (-root_mean_squared_error)\n",
      "\t7.35s\t = Training   runtime\n",
      "\t0.52s\t = Validation runtime\n",
      "Fitting model: CatBoost_BAG_L2 ... Training model for up to 162.86s of the 162.84s of remaining time.\n",
      "\tFitting 8 child models (S1F1 - S1F8) | Fitting with ParallelLocalFoldFittingStrategy\n",
      "\t-35.8979\t = Validation score   (-root_mean_squared_error)\n",
      "\t131.51s\t = Training   runtime\n",
      "\t0.18s\t = Validation runtime\n",
      "Fitting model: ExtraTreesMSE_BAG_L2 ... Training model for up to 26.69s of the 26.67s of remaining time.\n",
      "\t-35.9141\t = Validation score   (-root_mean_squared_error)\n",
      "\t2.23s\t = Training   runtime\n",
      "\t0.49s\t = Validation runtime\n",
      "Fitting model: NeuralNetFastAI_BAG_L2 ... Training model for up to 23.62s of the 23.6s of remaining time.\n",
      "\tFitting 8 child models (S1F1 - S1F8) | Fitting with ParallelLocalFoldFittingStrategy\n",
      "\t-35.7697\t = Validation score   (-root_mean_squared_error)\n",
      "\t24.4s\t = Training   runtime\n",
      "\t0.39s\t = Validation runtime\n",
      "Completed 1/20 k-fold bagging repeats ...\n",
      "Fitting model: WeightedEnsemble_L3 ... Training model for up to 360.0s of the -5.49s of remaining time.\n",
      "\t-35.3276\t = Validation score   (-root_mean_squared_error)\n",
      "\t0.22s\t = Training   runtime\n",
      "\t0.0s\t = Validation runtime\n",
      "AutoGluon training complete, total runtime = 605.74s ... Best model: \"WeightedEnsemble_L3\"\n",
      "TabularPredictor saved. To load, use: predictor = TabularPredictor.load(\"AutogluonModels/ag-20220719_212944\\\")\n"
     ]
    }
   ],
   "source": [
    "predictor_new_features = TabularPredictor(label=\"count\", problem_type=\"regression\", eval_metric=\"root_mean_squared_error\", learner_kwargs=learner_kwargs_new).fit(\n",
    "    train_data = train,\n",
    "    time_limit = 600,\n",
    "    presets = \"best_quality\"\n",
    ")"
   ],
   "metadata": {
    "collapsed": false,
    "pycharm": {
     "name": "#%%\n"
    }
   }
  },
  {
   "cell_type": "code",
   "execution_count": 170,
   "outputs": [
    {
     "name": "stdout",
     "output_type": "stream",
     "text": [
      "*** Summary of fit() ***\n",
      "Estimated performance of each model:\n",
      "                     model   score_val  pred_time_val    fit_time  pred_time_val_marginal  fit_time_marginal  stack_level  can_infer  fit_order\n",
      "0      WeightedEnsemble_L3  -35.327567      31.525754  534.061895                0.000000           0.223697            3       True         18\n",
      "1   NeuralNetFastAI_BAG_L2  -35.769716      30.194975  388.239176                0.389047          24.398873            2       True         17\n",
      "2          CatBoost_BAG_L2  -35.897898      29.983325  495.353565                0.177397         131.513262            2       True         15\n",
      "3     ExtraTreesMSE_BAG_L2  -35.914085      30.291250  366.074793                0.485322           2.234490            2       True         16\n",
      "4          LightGBM_BAG_L2  -35.979121      29.956012  368.337570                0.150084           4.497268            2       True         13\n",
      "5      WeightedEnsemble_L2  -36.010718      27.488872  314.132912                0.001000           0.803499            2       True         11\n",
      "6   RandomForestMSE_BAG_L2  -36.317438      30.323904  371.194305                0.517976           7.354002            2       True         14\n",
      "7        LightGBMXT_BAG_L2  -36.411313      30.221500  368.595375                0.415572           4.755073            2       True         12\n",
      "8        LightGBMXT_BAG_L1  -37.266430      22.047643   24.192206               22.047643          24.192206            1       True          3\n",
      "9          LightGBM_BAG_L1  -37.692850       4.407962   12.513403                4.407962          12.513403            1       True          4\n",
      "10          XGBoost_BAG_L1  -39.331742       0.572032    7.643659                0.572032           7.643659            1       True          9\n",
      "11         CatBoost_BAG_L1  -40.270761       0.507289  273.949183                0.507289         273.949183            1       True          6\n",
      "12    ExtraTreesMSE_BAG_L1  -41.620331       0.626416    1.428163                0.626416           1.428163            1       True          7\n",
      "13  RandomForestMSE_BAG_L1  -42.161291       0.486702    2.640841                0.486702           2.640841            1       True          5\n",
      "14  NeuralNetFastAI_BAG_L1  -47.844524       0.440419   26.922270                0.440419          26.922270            1       True          8\n",
      "15   NeuralNetTorch_BAG_L1  -87.594822       0.644756   14.488279                0.644756          14.488279            1       True         10\n",
      "16   KNeighborsUnif_BAG_L1  -92.252668       0.038275    0.033781                0.038275           0.033781            1       True          1\n",
      "17   KNeighborsDist_BAG_L1 -117.102256       0.034433    0.028520                0.034433           0.028520            1       True          2\n",
      "Number of models trained: 18\n",
      "Types of models trained:\n",
      "{'StackerEnsembleModel_CatBoost', 'WeightedEnsembleModel', 'StackerEnsembleModel_XT', 'StackerEnsembleModel_LGB', 'StackerEnsembleModel_NNFastAiTabular', 'StackerEnsembleModel_TabularNeuralNetTorch', 'StackerEnsembleModel_KNN', 'StackerEnsembleModel_XGBoost', 'StackerEnsembleModel_RF'}\n",
      "Bagging used: True  (with 8 folds)\n",
      "Multi-layer stack-ensembling used: True  (with 3 levels)\n",
      "Feature Metadata (Processed):\n",
      "(raw dtype, special dtypes):\n",
      "('category', [])  : 2 | ['season', 'weather']\n",
      "('float', [])     : 4 | ['temp', 'atemp', 'humidity', 'windspeed']\n",
      "('int', [])       : 3 | ['month', 'day', 'hour']\n",
      "('int', ['bool']) : 3 | ['holiday', 'workingday', 'year']\n",
      "Plot summary of models saved to file: AutogluonModels/ag-20220719_212944\\SummaryOfModels.html\n",
      "*** End of fit() summary ***\n"
     ]
    },
    {
     "data": {
      "text/plain": "{'model_types': {'KNeighborsUnif_BAG_L1': 'StackerEnsembleModel_KNN',\n  'KNeighborsDist_BAG_L1': 'StackerEnsembleModel_KNN',\n  'LightGBMXT_BAG_L1': 'StackerEnsembleModel_LGB',\n  'LightGBM_BAG_L1': 'StackerEnsembleModel_LGB',\n  'RandomForestMSE_BAG_L1': 'StackerEnsembleModel_RF',\n  'CatBoost_BAG_L1': 'StackerEnsembleModel_CatBoost',\n  'ExtraTreesMSE_BAG_L1': 'StackerEnsembleModel_XT',\n  'NeuralNetFastAI_BAG_L1': 'StackerEnsembleModel_NNFastAiTabular',\n  'XGBoost_BAG_L1': 'StackerEnsembleModel_XGBoost',\n  'NeuralNetTorch_BAG_L1': 'StackerEnsembleModel_TabularNeuralNetTorch',\n  'WeightedEnsemble_L2': 'WeightedEnsembleModel',\n  'LightGBMXT_BAG_L2': 'StackerEnsembleModel_LGB',\n  'LightGBM_BAG_L2': 'StackerEnsembleModel_LGB',\n  'RandomForestMSE_BAG_L2': 'StackerEnsembleModel_RF',\n  'CatBoost_BAG_L2': 'StackerEnsembleModel_CatBoost',\n  'ExtraTreesMSE_BAG_L2': 'StackerEnsembleModel_XT',\n  'NeuralNetFastAI_BAG_L2': 'StackerEnsembleModel_NNFastAiTabular',\n  'WeightedEnsemble_L3': 'WeightedEnsembleModel'},\n 'model_performance': {'KNeighborsUnif_BAG_L1': -92.25266839425531,\n  'KNeighborsDist_BAG_L1': -117.1022561090847,\n  'LightGBMXT_BAG_L1': -37.266429951385966,\n  'LightGBM_BAG_L1': -37.69285008347106,\n  'RandomForestMSE_BAG_L1': -42.16129093920028,\n  'CatBoost_BAG_L1': -40.27076091460976,\n  'ExtraTreesMSE_BAG_L1': -41.62033122228671,\n  'NeuralNetFastAI_BAG_L1': -47.844523877367536,\n  'XGBoost_BAG_L1': -39.33174229777182,\n  'NeuralNetTorch_BAG_L1': -87.59482247807748,\n  'WeightedEnsemble_L2': -36.01071829386249,\n  'LightGBMXT_BAG_L2': -36.41131328886284,\n  'LightGBM_BAG_L2': -35.97912127965614,\n  'RandomForestMSE_BAG_L2': -36.317437854911894,\n  'CatBoost_BAG_L2': -35.89789776794781,\n  'ExtraTreesMSE_BAG_L2': -35.91408461271929,\n  'NeuralNetFastAI_BAG_L2': -35.76971557999246,\n  'WeightedEnsemble_L3': -35.3275668333642},\n 'model_best': 'WeightedEnsemble_L3',\n 'model_paths': {'KNeighborsUnif_BAG_L1': 'AutogluonModels/ag-20220719_212944\\\\models\\\\KNeighborsUnif_BAG_L1\\\\',\n  'KNeighborsDist_BAG_L1': 'AutogluonModels/ag-20220719_212944\\\\models\\\\KNeighborsDist_BAG_L1\\\\',\n  'LightGBMXT_BAG_L1': 'AutogluonModels/ag-20220719_212944\\\\models\\\\LightGBMXT_BAG_L1\\\\',\n  'LightGBM_BAG_L1': 'AutogluonModels/ag-20220719_212944\\\\models\\\\LightGBM_BAG_L1\\\\',\n  'RandomForestMSE_BAG_L1': 'AutogluonModels/ag-20220719_212944\\\\models\\\\RandomForestMSE_BAG_L1\\\\',\n  'CatBoost_BAG_L1': 'AutogluonModels/ag-20220719_212944\\\\models\\\\CatBoost_BAG_L1\\\\',\n  'ExtraTreesMSE_BAG_L1': 'AutogluonModels/ag-20220719_212944\\\\models\\\\ExtraTreesMSE_BAG_L1\\\\',\n  'NeuralNetFastAI_BAG_L1': 'AutogluonModels/ag-20220719_212944\\\\models\\\\NeuralNetFastAI_BAG_L1\\\\',\n  'XGBoost_BAG_L1': 'AutogluonModels/ag-20220719_212944\\\\models\\\\XGBoost_BAG_L1\\\\',\n  'NeuralNetTorch_BAG_L1': 'AutogluonModels/ag-20220719_212944\\\\models\\\\NeuralNetTorch_BAG_L1\\\\',\n  'WeightedEnsemble_L2': 'AutogluonModels/ag-20220719_212944\\\\models\\\\WeightedEnsemble_L2\\\\',\n  'LightGBMXT_BAG_L2': 'AutogluonModels/ag-20220719_212944\\\\models\\\\LightGBMXT_BAG_L2\\\\',\n  'LightGBM_BAG_L2': 'AutogluonModels/ag-20220719_212944\\\\models\\\\LightGBM_BAG_L2\\\\',\n  'RandomForestMSE_BAG_L2': 'AutogluonModels/ag-20220719_212944\\\\models\\\\RandomForestMSE_BAG_L2\\\\',\n  'CatBoost_BAG_L2': 'AutogluonModels/ag-20220719_212944\\\\models\\\\CatBoost_BAG_L2\\\\',\n  'ExtraTreesMSE_BAG_L2': 'AutogluonModels/ag-20220719_212944\\\\models\\\\ExtraTreesMSE_BAG_L2\\\\',\n  'NeuralNetFastAI_BAG_L2': 'AutogluonModels/ag-20220719_212944\\\\models\\\\NeuralNetFastAI_BAG_L2\\\\',\n  'WeightedEnsemble_L3': 'AutogluonModels/ag-20220719_212944\\\\models\\\\WeightedEnsemble_L3\\\\'},\n 'model_fit_times': {'KNeighborsUnif_BAG_L1': 0.033780813217163086,\n  'KNeighborsDist_BAG_L1': 0.028519630432128906,\n  'LightGBMXT_BAG_L1': 24.192205667495728,\n  'LightGBM_BAG_L1': 12.513402938842773,\n  'RandomForestMSE_BAG_L1': 2.640841484069824,\n  'CatBoost_BAG_L1': 273.949182510376,\n  'ExtraTreesMSE_BAG_L1': 1.4281625747680664,\n  'NeuralNetFastAI_BAG_L1': 26.922269582748413,\n  'XGBoost_BAG_L1': 7.643658638000488,\n  'NeuralNetTorch_BAG_L1': 14.488278865814209,\n  'WeightedEnsemble_L2': 0.8034989833831787,\n  'LightGBMXT_BAG_L2': 4.755072593688965,\n  'LightGBM_BAG_L2': 4.497267723083496,\n  'RandomForestMSE_BAG_L2': 7.354002475738525,\n  'CatBoost_BAG_L2': 131.51326179504395,\n  'ExtraTreesMSE_BAG_L2': 2.234490156173706,\n  'NeuralNetFastAI_BAG_L2': 24.39887285232544,\n  'WeightedEnsemble_L3': 0.22369718551635742},\n 'model_pred_times': {'KNeighborsUnif_BAG_L1': 0.03827524185180664,\n  'KNeighborsDist_BAG_L1': 0.03443312644958496,\n  'LightGBMXT_BAG_L1': 22.047642707824707,\n  'LightGBM_BAG_L1': 4.407962322235107,\n  'RandomForestMSE_BAG_L1': 0.48670220375061035,\n  'CatBoost_BAG_L1': 0.5072891712188721,\n  'ExtraTreesMSE_BAG_L1': 0.6264159679412842,\n  'NeuralNetFastAI_BAG_L1': 0.44041943550109863,\n  'XGBoost_BAG_L1': 0.5720322132110596,\n  'NeuralNetTorch_BAG_L1': 0.6447556018829346,\n  'WeightedEnsemble_L2': 0.0010001659393310547,\n  'LightGBMXT_BAG_L2': 0.4155721664428711,\n  'LightGBM_BAG_L2': 0.1500837802886963,\n  'RandomForestMSE_BAG_L2': 0.5179760456085205,\n  'CatBoost_BAG_L2': 0.1773972511291504,\n  'ExtraTreesMSE_BAG_L2': 0.4853217601776123,\n  'NeuralNetFastAI_BAG_L2': 0.38904738426208496,\n  'WeightedEnsemble_L3': 0.0},\n 'num_bag_folds': 8,\n 'max_stack_level': 3,\n 'model_hyperparams': {'KNeighborsUnif_BAG_L1': {'use_orig_features': True,\n   'max_base_models': 25,\n   'max_base_models_per_type': 5,\n   'save_bag_folds': True,\n   'use_child_oof': True},\n  'KNeighborsDist_BAG_L1': {'use_orig_features': True,\n   'max_base_models': 25,\n   'max_base_models_per_type': 5,\n   'save_bag_folds': True,\n   'use_child_oof': True},\n  'LightGBMXT_BAG_L1': {'use_orig_features': True,\n   'max_base_models': 25,\n   'max_base_models_per_type': 5,\n   'save_bag_folds': True},\n  'LightGBM_BAG_L1': {'use_orig_features': True,\n   'max_base_models': 25,\n   'max_base_models_per_type': 5,\n   'save_bag_folds': True},\n  'RandomForestMSE_BAG_L1': {'use_orig_features': True,\n   'max_base_models': 25,\n   'max_base_models_per_type': 5,\n   'save_bag_folds': True,\n   'use_child_oof': True},\n  'CatBoost_BAG_L1': {'use_orig_features': True,\n   'max_base_models': 25,\n   'max_base_models_per_type': 5,\n   'save_bag_folds': True},\n  'ExtraTreesMSE_BAG_L1': {'use_orig_features': True,\n   'max_base_models': 25,\n   'max_base_models_per_type': 5,\n   'save_bag_folds': True,\n   'use_child_oof': True},\n  'NeuralNetFastAI_BAG_L1': {'use_orig_features': True,\n   'max_base_models': 25,\n   'max_base_models_per_type': 5,\n   'save_bag_folds': True},\n  'XGBoost_BAG_L1': {'use_orig_features': True,\n   'max_base_models': 25,\n   'max_base_models_per_type': 5,\n   'save_bag_folds': True},\n  'NeuralNetTorch_BAG_L1': {'use_orig_features': True,\n   'max_base_models': 25,\n   'max_base_models_per_type': 5,\n   'save_bag_folds': True},\n  'WeightedEnsemble_L2': {'use_orig_features': False,\n   'max_base_models': 25,\n   'max_base_models_per_type': 5,\n   'save_bag_folds': True},\n  'LightGBMXT_BAG_L2': {'use_orig_features': True,\n   'max_base_models': 25,\n   'max_base_models_per_type': 5,\n   'save_bag_folds': True},\n  'LightGBM_BAG_L2': {'use_orig_features': True,\n   'max_base_models': 25,\n   'max_base_models_per_type': 5,\n   'save_bag_folds': True},\n  'RandomForestMSE_BAG_L2': {'use_orig_features': True,\n   'max_base_models': 25,\n   'max_base_models_per_type': 5,\n   'save_bag_folds': True,\n   'use_child_oof': True},\n  'CatBoost_BAG_L2': {'use_orig_features': True,\n   'max_base_models': 25,\n   'max_base_models_per_type': 5,\n   'save_bag_folds': True},\n  'ExtraTreesMSE_BAG_L2': {'use_orig_features': True,\n   'max_base_models': 25,\n   'max_base_models_per_type': 5,\n   'save_bag_folds': True,\n   'use_child_oof': True},\n  'NeuralNetFastAI_BAG_L2': {'use_orig_features': True,\n   'max_base_models': 25,\n   'max_base_models_per_type': 5,\n   'save_bag_folds': True},\n  'WeightedEnsemble_L3': {'use_orig_features': False,\n   'max_base_models': 25,\n   'max_base_models_per_type': 5,\n   'save_bag_folds': True}},\n 'leaderboard':                      model   score_val  pred_time_val    fit_time  \\\n 0      WeightedEnsemble_L3  -35.327567      31.525754  534.061895   \n 1   NeuralNetFastAI_BAG_L2  -35.769716      30.194975  388.239176   \n 2          CatBoost_BAG_L2  -35.897898      29.983325  495.353565   \n 3     ExtraTreesMSE_BAG_L2  -35.914085      30.291250  366.074793   \n 4          LightGBM_BAG_L2  -35.979121      29.956012  368.337570   \n 5      WeightedEnsemble_L2  -36.010718      27.488872  314.132912   \n 6   RandomForestMSE_BAG_L2  -36.317438      30.323904  371.194305   \n 7        LightGBMXT_BAG_L2  -36.411313      30.221500  368.595375   \n 8        LightGBMXT_BAG_L1  -37.266430      22.047643   24.192206   \n 9          LightGBM_BAG_L1  -37.692850       4.407962   12.513403   \n 10          XGBoost_BAG_L1  -39.331742       0.572032    7.643659   \n 11         CatBoost_BAG_L1  -40.270761       0.507289  273.949183   \n 12    ExtraTreesMSE_BAG_L1  -41.620331       0.626416    1.428163   \n 13  RandomForestMSE_BAG_L1  -42.161291       0.486702    2.640841   \n 14  NeuralNetFastAI_BAG_L1  -47.844524       0.440419   26.922270   \n 15   NeuralNetTorch_BAG_L1  -87.594822       0.644756   14.488279   \n 16   KNeighborsUnif_BAG_L1  -92.252668       0.038275    0.033781   \n 17   KNeighborsDist_BAG_L1 -117.102256       0.034433    0.028520   \n \n     pred_time_val_marginal  fit_time_marginal  stack_level  can_infer  \\\n 0                 0.000000           0.223697            3       True   \n 1                 0.389047          24.398873            2       True   \n 2                 0.177397         131.513262            2       True   \n 3                 0.485322           2.234490            2       True   \n 4                 0.150084           4.497268            2       True   \n 5                 0.001000           0.803499            2       True   \n 6                 0.517976           7.354002            2       True   \n 7                 0.415572           4.755073            2       True   \n 8                22.047643          24.192206            1       True   \n 9                 4.407962          12.513403            1       True   \n 10                0.572032           7.643659            1       True   \n 11                0.507289         273.949183            1       True   \n 12                0.626416           1.428163            1       True   \n 13                0.486702           2.640841            1       True   \n 14                0.440419          26.922270            1       True   \n 15                0.644756          14.488279            1       True   \n 16                0.038275           0.033781            1       True   \n 17                0.034433           0.028520            1       True   \n \n     fit_order  \n 0          18  \n 1          17  \n 2          15  \n 3          16  \n 4          13  \n 5          11  \n 6          14  \n 7          12  \n 8           3  \n 9           4  \n 10          9  \n 11          6  \n 12          7  \n 13          5  \n 14          8  \n 15         10  \n 16          1  \n 17          2  }"
     },
     "execution_count": 170,
     "metadata": {},
     "output_type": "execute_result"
    }
   ],
   "source": [
    "predictor_new_features.fit_summary()"
   ],
   "metadata": {
    "collapsed": false,
    "pycharm": {
     "name": "#%%\n"
    }
   }
  },
  {
   "cell_type": "code",
   "execution_count": 184,
   "outputs": [
    {
     "name": "stderr",
     "output_type": "stream",
     "text": [
      "Computing feature importance via permutation shuffling for 12 features using 5000 rows with 5 shuffle sets...\n",
      "\t1187.54s\t= Expected runtime (237.51s per shuffle set)\n",
      "\t1284.63s\t= Actual runtime (Completed 5 of 5 shuffle sets)\n"
     ]
    },
    {
     "data": {
      "text/plain": "            importance    stddev       p_value  n    p99_high     p99_low\nhour        193.668801  1.577970  5.288095e-10  5  196.917863  190.419738\nworkingday   84.778143  2.770675  1.367004e-07  5   90.483001   79.073284\nyear         63.676955  1.002541  7.370847e-09  5   65.741201   61.612709\nmonth        28.900114  0.541100  1.473971e-08  5   30.014246   27.785982\nhumidity     26.376269  0.905970  1.667634e-07  5   28.241675   24.510864\ntemp         22.825404  0.609219  6.083978e-08  5   24.079794   21.571014\nweather      13.688126  0.836918  1.668686e-06  5   15.411352   11.964901\natemp        13.082118  0.614873  5.838907e-07  5   14.348149   11.816087\nday          10.410867  0.390411  2.368691e-07  5   11.214729    9.607005\nseason        8.408513  0.217429  5.360260e-08  5    8.856202    7.960824\nwindspeed     4.466708  0.272235  1.647618e-06  5    5.027243    3.906173\nholiday       3.897608  0.747403  1.545997e-04  5    5.436520    2.358695",
      "text/html": "<div>\n<style scoped>\n    .dataframe tbody tr th:only-of-type {\n        vertical-align: middle;\n    }\n\n    .dataframe tbody tr th {\n        vertical-align: top;\n    }\n\n    .dataframe thead th {\n        text-align: right;\n    }\n</style>\n<table border=\"1\" class=\"dataframe\">\n  <thead>\n    <tr style=\"text-align: right;\">\n      <th></th>\n      <th>importance</th>\n      <th>stddev</th>\n      <th>p_value</th>\n      <th>n</th>\n      <th>p99_high</th>\n      <th>p99_low</th>\n    </tr>\n  </thead>\n  <tbody>\n    <tr>\n      <th>hour</th>\n      <td>193.668801</td>\n      <td>1.577970</td>\n      <td>5.288095e-10</td>\n      <td>5</td>\n      <td>196.917863</td>\n      <td>190.419738</td>\n    </tr>\n    <tr>\n      <th>workingday</th>\n      <td>84.778143</td>\n      <td>2.770675</td>\n      <td>1.367004e-07</td>\n      <td>5</td>\n      <td>90.483001</td>\n      <td>79.073284</td>\n    </tr>\n    <tr>\n      <th>year</th>\n      <td>63.676955</td>\n      <td>1.002541</td>\n      <td>7.370847e-09</td>\n      <td>5</td>\n      <td>65.741201</td>\n      <td>61.612709</td>\n    </tr>\n    <tr>\n      <th>month</th>\n      <td>28.900114</td>\n      <td>0.541100</td>\n      <td>1.473971e-08</td>\n      <td>5</td>\n      <td>30.014246</td>\n      <td>27.785982</td>\n    </tr>\n    <tr>\n      <th>humidity</th>\n      <td>26.376269</td>\n      <td>0.905970</td>\n      <td>1.667634e-07</td>\n      <td>5</td>\n      <td>28.241675</td>\n      <td>24.510864</td>\n    </tr>\n    <tr>\n      <th>temp</th>\n      <td>22.825404</td>\n      <td>0.609219</td>\n      <td>6.083978e-08</td>\n      <td>5</td>\n      <td>24.079794</td>\n      <td>21.571014</td>\n    </tr>\n    <tr>\n      <th>weather</th>\n      <td>13.688126</td>\n      <td>0.836918</td>\n      <td>1.668686e-06</td>\n      <td>5</td>\n      <td>15.411352</td>\n      <td>11.964901</td>\n    </tr>\n    <tr>\n      <th>atemp</th>\n      <td>13.082118</td>\n      <td>0.614873</td>\n      <td>5.838907e-07</td>\n      <td>5</td>\n      <td>14.348149</td>\n      <td>11.816087</td>\n    </tr>\n    <tr>\n      <th>day</th>\n      <td>10.410867</td>\n      <td>0.390411</td>\n      <td>2.368691e-07</td>\n      <td>5</td>\n      <td>11.214729</td>\n      <td>9.607005</td>\n    </tr>\n    <tr>\n      <th>season</th>\n      <td>8.408513</td>\n      <td>0.217429</td>\n      <td>5.360260e-08</td>\n      <td>5</td>\n      <td>8.856202</td>\n      <td>7.960824</td>\n    </tr>\n    <tr>\n      <th>windspeed</th>\n      <td>4.466708</td>\n      <td>0.272235</td>\n      <td>1.647618e-06</td>\n      <td>5</td>\n      <td>5.027243</td>\n      <td>3.906173</td>\n    </tr>\n    <tr>\n      <th>holiday</th>\n      <td>3.897608</td>\n      <td>0.747403</td>\n      <td>1.545997e-04</td>\n      <td>5</td>\n      <td>5.436520</td>\n      <td>2.358695</td>\n    </tr>\n  </tbody>\n</table>\n</div>"
     },
     "execution_count": 184,
     "metadata": {},
     "output_type": "execute_result"
    }
   ],
   "source": [
    "predictor_new_features.feature_importance(data=train)"
   ],
   "metadata": {
    "collapsed": false,
    "pycharm": {
     "name": "#%%\n"
    }
   }
  },
  {
   "cell_type": "code",
   "execution_count": 171,
   "outputs": [],
   "source": [
    "predictions_new_features = predictor_new_features.predict(test)"
   ],
   "metadata": {
    "collapsed": false,
    "pycharm": {
     "name": "#%%\n"
    }
   }
  },
  {
   "cell_type": "code",
   "execution_count": 172,
   "outputs": [
    {
     "data": {
      "text/plain": "0    12.982582\n1     6.399722\n2     4.766326\n3     3.452071\n4     3.687432\nName: count, dtype: float32"
     },
     "execution_count": 172,
     "metadata": {},
     "output_type": "execute_result"
    }
   ],
   "source": [
    "predictions_new_features.head()"
   ],
   "metadata": {
    "collapsed": false,
    "pycharm": {
     "name": "#%%\n"
    }
   }
  },
  {
   "cell_type": "code",
   "execution_count": 173,
   "outputs": [
    {
     "data": {
      "text/plain": "count    6493.000000\nmean      178.012970\nstd       161.528534\nmin        -1.681530\n25%        45.272964\n50%       140.856476\n75%       264.509888\nmax       864.865356\nName: count, dtype: float64"
     },
     "execution_count": 173,
     "metadata": {},
     "output_type": "execute_result"
    }
   ],
   "source": [
    "predictions_new_features.describe()"
   ],
   "metadata": {
    "collapsed": false,
    "pycharm": {
     "name": "#%%\n"
    }
   }
  },
  {
   "cell_type": "code",
   "execution_count": 177,
   "outputs": [
    {
     "data": {
      "text/plain": "6"
     },
     "execution_count": 177,
     "metadata": {},
     "output_type": "execute_result"
    }
   ],
   "source": [
    "predictions_new_features[predictions_new_features < 0].size"
   ],
   "metadata": {
    "collapsed": false,
    "pycharm": {
     "name": "#%%\n"
    }
   }
  },
  {
   "cell_type": "code",
   "execution_count": 178,
   "outputs": [],
   "source": [
    "predictions_new_features = predictions_new_features.clip(lower=0)"
   ],
   "metadata": {
    "collapsed": false,
    "pycharm": {
     "name": "#%%\n"
    }
   }
  },
  {
   "cell_type": "code",
   "execution_count": 179,
   "outputs": [],
   "source": [
    "submission[\"count\"] = predictions_new_features\n",
    "submission.to_csv(\"submission_new_features.csv\", index=False)"
   ],
   "metadata": {
    "collapsed": false,
    "pycharm": {
     "name": "#%%\n"
    }
   }
  },
  {
   "cell_type": "code",
   "execution_count": 181,
   "outputs": [
    {
     "name": "stdout",
     "output_type": "stream",
     "text": [
      "Successfully submitted to Bike Sharing Demand\n"
     ]
    },
    {
     "name": "stderr",
     "output_type": "stream",
     "text": [
      "\n",
      "  0%|          | 0.00/194k [00:00<?, ?B/s]\n",
      "  4%|4         | 8.00k/194k [00:01<00:25, 7.56kB/s]\n",
      " 41%|####1     | 80.0k/194k [00:01<00:01, 67.1kB/s]\n",
      " 49%|####9     | 96.0k/194k [00:01<00:01, 55.3kB/s]\n",
      " 58%|#####7    | 112k/194k [00:03<00:02, 30.6kB/s] \n",
      " 74%|#######4  | 144k/194k [00:03<00:01, 38.6kB/s]\n",
      " 82%|########2 | 160k/194k [00:06<00:01, 19.7kB/s]\n",
      " 90%|######### | 176k/194k [00:06<00:00, 21.5kB/s]\n",
      " 95%|#########4| 184k/194k [00:07<00:00, 20.3kB/s]\n",
      " 99%|#########8| 192k/194k [00:08<00:00, 16.3kB/s]\n",
      "100%|##########| 194k/194k [00:08<00:00, 14.8kB/s]\n",
      "100%|##########| 194k/194k [00:11<00:00, 17.4kB/s]\n"
     ]
    }
   ],
   "source": [
    "!kaggle competitions submit -c bike-sharing-demand -f submission_new_features.csv -m \"added new features (2)\""
   ],
   "metadata": {
    "collapsed": false,
    "pycharm": {
     "name": "#%%\n"
    }
   }
  },
  {
   "cell_type": "markdown",
   "source": [
    "## new score: 0.50277!"
   ],
   "metadata": {
    "collapsed": false,
    "pycharm": {
     "name": "#%% md\n"
    }
   }
  },
  {
   "cell_type": "markdown",
   "source": [
    "# Hyperparameter Optimization"
   ],
   "metadata": {
    "collapsed": false,
    "pycharm": {
     "name": "#%% md\n"
    }
   }
  },
  {
   "cell_type": "code",
   "execution_count": 3,
   "outputs": [],
   "source": [
    "# Autogluon only comes with random search, but now we will play with the parameters"
   ],
   "metadata": {
    "collapsed": false,
    "pycharm": {
     "name": "#%%\n"
    }
   }
  },
  {
   "cell_type": "code",
   "execution_count": 4,
   "outputs": [],
   "source": [
    "# First, play with higher level hyperparameters"
   ],
   "metadata": {
    "collapsed": false,
    "pycharm": {
     "name": "#%%\n"
    }
   }
  },
  {
   "cell_type": "code",
   "execution_count": 47,
   "outputs": [],
   "source": [
    "hyperparameter_tune_kwargs = {\n",
    "    'num_trials' : 5,\n",
    "    'searcher' : 'auto'\n",
    "}"
   ],
   "metadata": {
    "collapsed": false,
    "pycharm": {
     "name": "#%%\n"
    }
   }
  },
  {
   "cell_type": "code",
   "execution_count": 48,
   "outputs": [
    {
     "name": "stderr",
     "output_type": "stream",
     "text": [
      "No path specified. Models will be saved in: \"AutogluonModels/ag-20220725_214737\\\"\n",
      "Presets specified: ['best_quality']\n",
      "Beginning AutoGluon training ... Time limit = 600s\n",
      "AutoGluon will save models to \"AutogluonModels/ag-20220725_214737\\\"\n",
      "AutoGluon Version:  0.5.0\n",
      "Python Version:     3.9.12\n",
      "Operating System:   Windows\n",
      "Train Data Rows:    10886\n",
      "Train Data Columns: 15\n",
      "Label Column: count\n",
      "Preprocessing data ...\n",
      "Using Feature Generators to preprocess the data ...\n",
      "Dropping user-specified ignored columns: ['casual', 'registered', 'datetime']\n",
      "Fitting AutoMLPipelineFeatureGenerator...\n",
      "\tAvailable Memory:                    5928.62 MB\n",
      "\tTrain Data (Original)  Memory Usage: 0.89 MB (0.0% of available memory)\n",
      "\tInferring data type of each feature based on column values. Set feature_metadata_in to manually specify special dtypes of the features.\n",
      "\tStage 1 Generators:\n",
      "\t\tFitting AsTypeFeatureGenerator...\n",
      "\t\t\tNote: Converting 3 features to boolean dtype as they only contain 2 unique values.\n",
      "\tStage 2 Generators:\n",
      "\t\tFitting FillNaFeatureGenerator...\n",
      "\tStage 3 Generators:\n",
      "\t\tFitting IdentityFeatureGenerator...\n",
      "\t\tFitting CategoryFeatureGenerator...\n",
      "\t\t\tFitting CategoryMemoryMinimizeFeatureGenerator...\n",
      "\tStage 4 Generators:\n",
      "\t\tFitting DropUniqueFeatureGenerator...\n",
      "\tTypes of features in original data (raw dtype, special dtypes):\n",
      "\t\t('category', []) : 2 | ['season', 'weather']\n",
      "\t\t('float', [])    : 4 | ['temp', 'atemp', 'humidity', 'windspeed']\n",
      "\t\t('int', [])      : 6 | ['holiday', 'workingday', 'year', 'month', 'day', ...]\n",
      "\tTypes of features in processed data (raw dtype, special dtypes):\n",
      "\t\t('category', [])  : 2 | ['season', 'weather']\n",
      "\t\t('float', [])     : 4 | ['temp', 'atemp', 'humidity', 'windspeed']\n",
      "\t\t('int', [])       : 3 | ['month', 'day', 'hour']\n",
      "\t\t('int', ['bool']) : 3 | ['holiday', 'workingday', 'year']\n",
      "\t0.1s = Fit runtime\n",
      "\t12 features in original data used to generate 12 features in processed data.\n",
      "\tTrain Data (Processed) Memory Usage: 0.67 MB (0.0% of available memory)\n",
      "Data preprocessing and feature engineering runtime = 0.13s ...\n",
      "AutoGluon will gauge predictive performance using evaluation metric: 'root_mean_squared_error'\n",
      "\tThis metric's sign has been flipped to adhere to being higher_is_better. The metric score can be multiplied by -1 to get the metric value.\n",
      "\tTo change this, specify the eval_metric parameter of Predictor()\n",
      "AutoGluon will fit 4 stack levels (L1 to L4) ...\n",
      "Fitting 11 L1 models ...\n",
      "Fitting model: KNeighborsUnif_BAG_L1 ... Training model for up to 199.9s of the 599.87s of remaining time.\n",
      "\t-92.2527\t = Validation score   (-root_mean_squared_error)\n",
      "\t0.05s\t = Training   runtime\n",
      "\t0.07s\t = Validation runtime\n",
      "Fitting model: KNeighborsDist_BAG_L1 ... Training model for up to 199.7s of the 599.66s of remaining time.\n",
      "\t-117.1023\t = Validation score   (-root_mean_squared_error)\n",
      "\t0.03s\t = Training   runtime\n",
      "\t0.05s\t = Validation runtime\n",
      "Fitting model: LightGBMXT_BAG_L1 ... Training model for up to 199.56s of the 599.52s of remaining time.\n",
      "\tFitting 10 child models (S1F1 - S1F10) | Fitting with ParallelLocalFoldFittingStrategy\n",
      "\t-36.8665\t = Validation score   (-root_mean_squared_error)\n",
      "\t33.17s\t = Training   runtime\n",
      "\t20.96s\t = Validation runtime\n",
      "Fitting model: LightGBM_BAG_L1 ... Training model for up to 155.93s of the 555.9s of remaining time.\n",
      "\tFitting 10 child models (S1F1 - S1F10) | Fitting with ParallelLocalFoldFittingStrategy\n",
      "\t-37.5062\t = Validation score   (-root_mean_squared_error)\n",
      "\t17.16s\t = Training   runtime\n",
      "\t3.4s\t = Validation runtime\n",
      "Fitting model: RandomForestMSE_BAG_L1 ... Training model for up to 132.12s of the 532.08s of remaining time.\n",
      "\t-42.1613\t = Validation score   (-root_mean_squared_error)\n",
      "\t2.99s\t = Training   runtime\n",
      "\t0.68s\t = Validation runtime\n",
      "Fitting model: CatBoost_BAG_L1 ... Training model for up to 128.0s of the 527.97s of remaining time.\n",
      "\tFitting 10 child models (S1F1 - S1F10) | Fitting with ParallelLocalFoldFittingStrategy\n",
      "\t-40.2277\t = Validation score   (-root_mean_squared_error)\n",
      "\t107.25s\t = Training   runtime\n",
      "\t0.15s\t = Validation runtime\n",
      "Fitting model: ExtraTreesMSE_BAG_L1 ... Training model for up to 15.23s of the 415.2s of remaining time.\n",
      "\t-41.6203\t = Validation score   (-root_mean_squared_error)\n",
      "\t1.55s\t = Training   runtime\n",
      "\t0.58s\t = Validation runtime\n",
      "Fitting model: NeuralNetFastAI_BAG_L1 ... Training model for up to 12.6s of the 412.56s of remaining time.\n",
      "\tFitting 10 child models (S1F1 - S1F10) | Fitting with ParallelLocalFoldFittingStrategy\n",
      "\t-101.5218\t = Validation score   (-root_mean_squared_error)\n",
      "\t20.43s\t = Training   runtime\n",
      "\t0.5s\t = Validation runtime\n",
      "Completed 1/20 k-fold bagging repeats ...\n",
      "Fitting model: WeightedEnsemble_L2 ... Training model for up to 360.0s of the 386.21s of remaining time.\n",
      "\t-35.7872\t = Validation score   (-root_mean_squared_error)\n",
      "\t0.57s\t = Training   runtime\n",
      "\t0.0s\t = Validation runtime\n",
      "Fitting 9 L2 models ...\n",
      "Fitting model: LightGBMXT_BAG_L2 ... Training model for up to 171.34s of the 385.59s of remaining time.\n",
      "\tFitting 10 child models (S1F1 - S1F10) | Fitting with ParallelLocalFoldFittingStrategy\n",
      "\t-36.0269\t = Validation score   (-root_mean_squared_error)\n",
      "\t9.56s\t = Training   runtime\n",
      "\t0.45s\t = Validation runtime\n",
      "Fitting model: LightGBM_BAG_L2 ... Training model for up to 155.72s of the 369.98s of remaining time.\n",
      "\tFitting 10 child models (S1F1 - S1F10) | Fitting with ParallelLocalFoldFittingStrategy\n",
      "\t-35.7525\t = Validation score   (-root_mean_squared_error)\n",
      "\t9.45s\t = Training   runtime\n",
      "\t0.17s\t = Validation runtime\n",
      "Fitting model: RandomForestMSE_BAG_L2 ... Training model for up to 140.65s of the 354.9s of remaining time.\n",
      "\t-36.2466\t = Validation score   (-root_mean_squared_error)\n",
      "\t7.29s\t = Training   runtime\n",
      "\t0.69s\t = Validation runtime\n",
      "Fitting model: CatBoost_BAG_L2 ... Training model for up to 132.13s of the 346.38s of remaining time.\n",
      "\tFitting 10 child models (S1F1 - S1F10) | Fitting with ParallelLocalFoldFittingStrategy\n",
      "\t-35.7112\t = Validation score   (-root_mean_squared_error)\n",
      "\t83.78s\t = Training   runtime\n",
      "\t0.09s\t = Validation runtime\n",
      "Fitting model: ExtraTreesMSE_BAG_L2 ... Training model for up to 42.95s of the 257.19s of remaining time.\n",
      "\t-35.8785\t = Validation score   (-root_mean_squared_error)\n",
      "\t2.42s\t = Training   runtime\n",
      "\t0.68s\t = Validation runtime\n",
      "Fitting model: NeuralNetFastAI_BAG_L2 ... Training model for up to 39.36s of the 253.61s of remaining time.\n",
      "\tFitting 10 child models (S1F1 - S1F10) | Fitting with ParallelLocalFoldFittingStrategy\n",
      "\t-35.4882\t = Validation score   (-root_mean_squared_error)\n",
      "\t40.27s\t = Training   runtime\n",
      "\t0.62s\t = Validation runtime\n",
      "Completed 1/20 k-fold bagging repeats ...\n",
      "Fitting model: WeightedEnsemble_L3 ... Training model for up to 359.98s of the 207.74s of remaining time.\n",
      "\t-35.1021\t = Validation score   (-root_mean_squared_error)\n",
      "\t0.54s\t = Training   runtime\n",
      "\t0.0s\t = Validation runtime\n",
      "Fitting 9 L3 models ...\n",
      "Fitting model: LightGBMXT_BAG_L3 ... Training model for up to 138.07s of the 207.14s of remaining time.\n",
      "\tFitting 10 child models (S1F1 - S1F10) | Fitting with ParallelLocalFoldFittingStrategy\n",
      "\t-36.5562\t = Validation score   (-root_mean_squared_error)\n",
      "\t8.76s\t = Training   runtime\n",
      "\t0.21s\t = Validation runtime\n",
      "Fitting model: LightGBM_BAG_L3 ... Training model for up to 123.78s of the 192.85s of remaining time.\n",
      "\tFitting 10 child models (S1F1 - S1F10) | Fitting with ParallelLocalFoldFittingStrategy\n",
      "\t-36.2886\t = Validation score   (-root_mean_squared_error)\n",
      "\t9.16s\t = Training   runtime\n",
      "\t0.09s\t = Validation runtime\n",
      "Fitting model: RandomForestMSE_BAG_L3 ... Training model for up to 108.99s of the 178.07s of remaining time.\n",
      "\t-36.6595\t = Validation score   (-root_mean_squared_error)\n",
      "\t6.79s\t = Training   runtime\n",
      "\t0.71s\t = Validation runtime\n",
      "Fitting model: CatBoost_BAG_L3 ... Training model for up to 101.01s of the 170.07s of remaining time.\n",
      "\tFitting 10 child models (S1F1 - S1F10) | Fitting with ParallelLocalFoldFittingStrategy\n",
      "\t-35.6368\t = Validation score   (-root_mean_squared_error)\n",
      "\t52.66s\t = Training   runtime\n",
      "\t0.09s\t = Validation runtime\n",
      "Fitting model: ExtraTreesMSE_BAG_L3 ... Training model for up to 42.63s of the 111.7s of remaining time.\n",
      "\t-36.2714\t = Validation score   (-root_mean_squared_error)\n",
      "\t2.25s\t = Training   runtime\n",
      "\t0.76s\t = Validation runtime\n",
      "Fitting model: NeuralNetFastAI_BAG_L3 ... Training model for up to 39.2s of the 108.27s of remaining time.\n",
      "\tFitting 10 child models (S1F1 - S1F10) | Fitting with ParallelLocalFoldFittingStrategy\n",
      "\t-35.8325\t = Validation score   (-root_mean_squared_error)\n",
      "\t39.9s\t = Training   runtime\n",
      "\t0.56s\t = Validation runtime\n",
      "Completed 1/20 k-fold bagging repeats ...\n",
      "Fitting model: WeightedEnsemble_L4 ... Training model for up to 360.0s of the 62.71s of remaining time.\n",
      "\t-35.5445\t = Validation score   (-root_mean_squared_error)\n",
      "\t0.34s\t = Training   runtime\n",
      "\t0.0s\t = Validation runtime\n",
      "Fitting 9 L4 models ...\n",
      "Fitting model: LightGBMXT_BAG_L4 ... Training model for up to 62.34s of the 62.32s of remaining time.\n",
      "\tFitting 10 child models (S1F1 - S1F10) | Fitting with ParallelLocalFoldFittingStrategy\n",
      "\t-37.0867\t = Validation score   (-root_mean_squared_error)\n",
      "\t8.82s\t = Training   runtime\n",
      "\t0.23s\t = Validation runtime\n",
      "Fitting model: LightGBM_BAG_L4 ... Training model for up to 47.92s of the 47.92s of remaining time.\n",
      "\tFitting 10 child models (S1F1 - S1F10) | Fitting with ParallelLocalFoldFittingStrategy\n",
      "\t-36.5675\t = Validation score   (-root_mean_squared_error)\n",
      "\t8.57s\t = Training   runtime\n",
      "\t0.14s\t = Validation runtime\n",
      "Fitting model: RandomForestMSE_BAG_L4 ... Training model for up to 33.72s of the 33.72s of remaining time.\n",
      "\t-36.9362\t = Validation score   (-root_mean_squared_error)\n",
      "\t6.37s\t = Training   runtime\n",
      "\t0.68s\t = Validation runtime\n",
      "Fitting model: CatBoost_BAG_L4 ... Training model for up to 26.26s of the 26.25s of remaining time.\n",
      "\tFitting 10 child models (S1F1 - S1F10) | Fitting with ParallelLocalFoldFittingStrategy\n",
      "\t-36.1663\t = Validation score   (-root_mean_squared_error)\n",
      "\t25.4s\t = Training   runtime\n",
      "\t0.15s\t = Validation runtime\n",
      "Completed 1/20 k-fold bagging repeats ...\n",
      "Fitting model: WeightedEnsemble_L5 ... Training model for up to 360.0s of the -4.72s of remaining time.\n",
      "\t-36.0577\t = Validation score   (-root_mean_squared_error)\n",
      "\t0.3s\t = Training   runtime\n",
      "\t0.0s\t = Validation runtime\n",
      "AutoGluon training complete, total runtime = 605.09s ... Best model: \"WeightedEnsemble_L3\"\n",
      "TabularPredictor saved. To load, use: predictor = TabularPredictor.load(\"AutogluonModels/ag-20220725_214737\\\")\n"
     ]
    }
   ],
   "source": [
    "predictor_hpo_tune = TabularPredictor(label=\"count\", problem_type=\"regression\", eval_metric=\"root_mean_squared_error\", learner_kwargs=learner_kwargs_new).fit(\n",
    "    train_data = train,\n",
    "    time_limit = 600,\n",
    "    presets = \"best_quality\",\n",
    "    num_stack_levels = 3, # set stacking, bagging to highest levels\n",
    "    num_bag_folds = 10,\n",
    "    auto_stack = False\n",
    ")"
   ],
   "metadata": {
    "collapsed": false,
    "pycharm": {
     "name": "#%%\n"
    }
   }
  },
  {
   "cell_type": "code",
   "execution_count": 49,
   "outputs": [
    {
     "name": "stdout",
     "output_type": "stream",
     "text": [
      "*** Summary of fit() ***\n",
      "Estimated performance of each model:\n",
      "                     model   score_val  pred_time_val    fit_time  pred_time_val_marginal  fit_time_marginal  stack_level  can_infer  fit_order\n",
      "0      WeightedEnsemble_L3  -35.102103      29.084932  335.933551                0.001497           0.536280            3       True         16\n",
      "1   NeuralNetFastAI_BAG_L2  -35.488157      27.001436  222.892599                0.615378          40.266329            2       True         15\n",
      "2      WeightedEnsemble_L4  -35.544452      31.194001  437.341902                0.000000           0.340467            4       True         23\n",
      "3          CatBoost_BAG_L3  -35.636764      29.174720  388.059837                0.091285          52.662566            3       True         20\n",
      "4          CatBoost_BAG_L2  -35.711171      26.472473  266.404090                0.086415          83.777820            2       True         13\n",
      "5          LightGBM_BAG_L2  -35.752457      26.558913  192.075283                0.172855           9.449013            2       True         11\n",
      "6      WeightedEnsemble_L2  -35.787189      25.258563  161.177623                0.000000           0.565341            2       True          9\n",
      "7   NeuralNetFastAI_BAG_L3  -35.832489      29.639249  375.296506                0.555814          39.899235            3       True         22\n",
      "8     ExtraTreesMSE_BAG_L2  -35.878472      27.063392  185.051265                0.677335           2.424995            2       True         14\n",
      "9        LightGBMXT_BAG_L2  -36.026934      26.840291  192.185021                0.454234           9.558751            2       True         10\n",
      "10     WeightedEnsemble_L5  -36.057724      32.466288  495.571904                0.000500           0.298889            5       True         28\n",
      "11         CatBoost_BAG_L4  -36.166338      31.646800  480.323980                0.146310          25.402469            4       True         27\n",
      "12  RandomForestMSE_BAG_L2  -36.246560      27.077218  189.920364                0.691161           7.294093            2       True         12\n",
      "13    ExtraTreesMSE_BAG_L3  -36.271418      29.838549  337.646358                0.755114           2.249087            3       True         21\n",
      "14         LightGBM_BAG_L3  -36.288621      29.175818  344.560150                0.092383           9.162879            3       True         18\n",
      "15       LightGBMXT_BAG_L3  -36.556213      29.297541  344.154468                0.214106           8.757197            3       True         17\n",
      "16         LightGBM_BAG_L4  -36.567484      31.643215  463.496277                0.142725           8.574766            4       True         25\n",
      "17  RandomForestMSE_BAG_L3  -36.659478      29.791789  342.190546                0.708354           6.793275            3       True         19\n",
      "18       LightGBMXT_BAG_L1  -36.866510      20.958888   33.165450               20.958888          33.165450            1       True          3\n",
      "19  RandomForestMSE_BAG_L4  -36.936216      32.176753  461.295780                0.676263           6.374269            4       True         26\n",
      "20       LightGBMXT_BAG_L4  -37.086719      31.732940  463.740558                0.232450           8.819047            4       True         24\n",
      "21         LightGBM_BAG_L1  -37.506205       3.402415   17.162203                3.402415          17.162203            1       True          4\n",
      "22         CatBoost_BAG_L1  -40.227678       0.145753  107.248569                0.145753         107.248569            1       True          6\n",
      "23    ExtraTreesMSE_BAG_L1  -41.620331       0.576278    1.550524                0.576278           1.550524            1       True          7\n",
      "24  RandomForestMSE_BAG_L1  -42.161291       0.683338    2.990489                0.683338           2.990489            1       True          5\n",
      "25   KNeighborsUnif_BAG_L1  -92.252668       0.068169    0.045569                0.068169           0.045569            1       True          1\n",
      "26  NeuralNetFastAI_BAG_L1 -101.521836       0.500109   20.429203                0.500109          20.429203            1       True          8\n",
      "27   KNeighborsDist_BAG_L1 -117.102256       0.051108    0.034262                0.051108           0.034262            1       True          2\n",
      "Number of models trained: 28\n",
      "Types of models trained:\n",
      "{'StackerEnsembleModel_XT', 'StackerEnsembleModel_RF', 'StackerEnsembleModel_CatBoost', 'WeightedEnsembleModel', 'StackerEnsembleModel_NNFastAiTabular', 'StackerEnsembleModel_KNN', 'StackerEnsembleModel_LGB'}\n",
      "Bagging used: True  (with 10 folds)\n",
      "Multi-layer stack-ensembling used: True  (with 5 levels)\n",
      "Feature Metadata (Processed):\n",
      "(raw dtype, special dtypes):\n",
      "('category', [])  : 2 | ['season', 'weather']\n",
      "('float', [])     : 4 | ['temp', 'atemp', 'humidity', 'windspeed']\n",
      "('int', [])       : 3 | ['month', 'day', 'hour']\n",
      "('int', ['bool']) : 3 | ['holiday', 'workingday', 'year']\n",
      "Plot summary of models saved to file: AutogluonModels/ag-20220725_214737\\SummaryOfModels.html\n",
      "*** End of fit() summary ***\n"
     ]
    },
    {
     "data": {
      "text/plain": "{'model_types': {'KNeighborsUnif_BAG_L1': 'StackerEnsembleModel_KNN',\n  'KNeighborsDist_BAG_L1': 'StackerEnsembleModel_KNN',\n  'LightGBMXT_BAG_L1': 'StackerEnsembleModel_LGB',\n  'LightGBM_BAG_L1': 'StackerEnsembleModel_LGB',\n  'RandomForestMSE_BAG_L1': 'StackerEnsembleModel_RF',\n  'CatBoost_BAG_L1': 'StackerEnsembleModel_CatBoost',\n  'ExtraTreesMSE_BAG_L1': 'StackerEnsembleModel_XT',\n  'NeuralNetFastAI_BAG_L1': 'StackerEnsembleModel_NNFastAiTabular',\n  'WeightedEnsemble_L2': 'WeightedEnsembleModel',\n  'LightGBMXT_BAG_L2': 'StackerEnsembleModel_LGB',\n  'LightGBM_BAG_L2': 'StackerEnsembleModel_LGB',\n  'RandomForestMSE_BAG_L2': 'StackerEnsembleModel_RF',\n  'CatBoost_BAG_L2': 'StackerEnsembleModel_CatBoost',\n  'ExtraTreesMSE_BAG_L2': 'StackerEnsembleModel_XT',\n  'NeuralNetFastAI_BAG_L2': 'StackerEnsembleModel_NNFastAiTabular',\n  'WeightedEnsemble_L3': 'WeightedEnsembleModel',\n  'LightGBMXT_BAG_L3': 'StackerEnsembleModel_LGB',\n  'LightGBM_BAG_L3': 'StackerEnsembleModel_LGB',\n  'RandomForestMSE_BAG_L3': 'StackerEnsembleModel_RF',\n  'CatBoost_BAG_L3': 'StackerEnsembleModel_CatBoost',\n  'ExtraTreesMSE_BAG_L3': 'StackerEnsembleModel_XT',\n  'NeuralNetFastAI_BAG_L3': 'StackerEnsembleModel_NNFastAiTabular',\n  'WeightedEnsemble_L4': 'WeightedEnsembleModel',\n  'LightGBMXT_BAG_L4': 'StackerEnsembleModel_LGB',\n  'LightGBM_BAG_L4': 'StackerEnsembleModel_LGB',\n  'RandomForestMSE_BAG_L4': 'StackerEnsembleModel_RF',\n  'CatBoost_BAG_L4': 'StackerEnsembleModel_CatBoost',\n  'WeightedEnsemble_L5': 'WeightedEnsembleModel'},\n 'model_performance': {'KNeighborsUnif_BAG_L1': -92.25266839425531,\n  'KNeighborsDist_BAG_L1': -117.1022561090847,\n  'LightGBMXT_BAG_L1': -36.86651009100448,\n  'LightGBM_BAG_L1': -37.50620503694218,\n  'RandomForestMSE_BAG_L1': -42.16129093920028,\n  'CatBoost_BAG_L1': -40.22767789220645,\n  'ExtraTreesMSE_BAG_L1': -41.62033122228671,\n  'NeuralNetFastAI_BAG_L1': -101.52183630717546,\n  'WeightedEnsemble_L2': -35.78718872434113,\n  'LightGBMXT_BAG_L2': -36.02693405586652,\n  'LightGBM_BAG_L2': -35.752456995899834,\n  'RandomForestMSE_BAG_L2': -36.24655998321858,\n  'CatBoost_BAG_L2': -35.711171167624805,\n  'ExtraTreesMSE_BAG_L2': -35.878472454988376,\n  'NeuralNetFastAI_BAG_L2': -35.48815677918838,\n  'WeightedEnsemble_L3': -35.10210254238989,\n  'LightGBMXT_BAG_L3': -36.55621309652519,\n  'LightGBM_BAG_L3': -36.28862101337853,\n  'RandomForestMSE_BAG_L3': -36.65947777135252,\n  'CatBoost_BAG_L3': -35.63676425858739,\n  'ExtraTreesMSE_BAG_L3': -36.271418278568774,\n  'NeuralNetFastAI_BAG_L3': -35.832488897519134,\n  'WeightedEnsemble_L4': -35.544451632807814,\n  'LightGBMXT_BAG_L4': -37.086719006048575,\n  'LightGBM_BAG_L4': -36.56748351664223,\n  'RandomForestMSE_BAG_L4': -36.93621599544454,\n  'CatBoost_BAG_L4': -36.16633844645677,\n  'WeightedEnsemble_L5': -36.05772427158959},\n 'model_best': 'WeightedEnsemble_L3',\n 'model_paths': {'KNeighborsUnif_BAG_L1': 'AutogluonModels/ag-20220725_214737\\\\models\\\\KNeighborsUnif_BAG_L1\\\\',\n  'KNeighborsDist_BAG_L1': 'AutogluonModels/ag-20220725_214737\\\\models\\\\KNeighborsDist_BAG_L1\\\\',\n  'LightGBMXT_BAG_L1': 'AutogluonModels/ag-20220725_214737\\\\models\\\\LightGBMXT_BAG_L1\\\\',\n  'LightGBM_BAG_L1': 'AutogluonModels/ag-20220725_214737\\\\models\\\\LightGBM_BAG_L1\\\\',\n  'RandomForestMSE_BAG_L1': 'AutogluonModels/ag-20220725_214737\\\\models\\\\RandomForestMSE_BAG_L1\\\\',\n  'CatBoost_BAG_L1': 'AutogluonModels/ag-20220725_214737\\\\models\\\\CatBoost_BAG_L1\\\\',\n  'ExtraTreesMSE_BAG_L1': 'AutogluonModels/ag-20220725_214737\\\\models\\\\ExtraTreesMSE_BAG_L1\\\\',\n  'NeuralNetFastAI_BAG_L1': 'AutogluonModels/ag-20220725_214737\\\\models\\\\NeuralNetFastAI_BAG_L1\\\\',\n  'WeightedEnsemble_L2': 'AutogluonModels/ag-20220725_214737\\\\models\\\\WeightedEnsemble_L2\\\\',\n  'LightGBMXT_BAG_L2': 'AutogluonModels/ag-20220725_214737\\\\models\\\\LightGBMXT_BAG_L2\\\\',\n  'LightGBM_BAG_L2': 'AutogluonModels/ag-20220725_214737\\\\models\\\\LightGBM_BAG_L2\\\\',\n  'RandomForestMSE_BAG_L2': 'AutogluonModels/ag-20220725_214737\\\\models\\\\RandomForestMSE_BAG_L2\\\\',\n  'CatBoost_BAG_L2': 'AutogluonModels/ag-20220725_214737\\\\models\\\\CatBoost_BAG_L2\\\\',\n  'ExtraTreesMSE_BAG_L2': 'AutogluonModels/ag-20220725_214737\\\\models\\\\ExtraTreesMSE_BAG_L2\\\\',\n  'NeuralNetFastAI_BAG_L2': 'AutogluonModels/ag-20220725_214737\\\\models\\\\NeuralNetFastAI_BAG_L2\\\\',\n  'WeightedEnsemble_L3': 'AutogluonModels/ag-20220725_214737\\\\models\\\\WeightedEnsemble_L3\\\\',\n  'LightGBMXT_BAG_L3': 'AutogluonModels/ag-20220725_214737\\\\models\\\\LightGBMXT_BAG_L3\\\\',\n  'LightGBM_BAG_L3': 'AutogluonModels/ag-20220725_214737\\\\models\\\\LightGBM_BAG_L3\\\\',\n  'RandomForestMSE_BAG_L3': 'AutogluonModels/ag-20220725_214737\\\\models\\\\RandomForestMSE_BAG_L3\\\\',\n  'CatBoost_BAG_L3': 'AutogluonModels/ag-20220725_214737\\\\models\\\\CatBoost_BAG_L3\\\\',\n  'ExtraTreesMSE_BAG_L3': 'AutogluonModels/ag-20220725_214737\\\\models\\\\ExtraTreesMSE_BAG_L3\\\\',\n  'NeuralNetFastAI_BAG_L3': 'AutogluonModels/ag-20220725_214737\\\\models\\\\NeuralNetFastAI_BAG_L3\\\\',\n  'WeightedEnsemble_L4': 'AutogluonModels/ag-20220725_214737\\\\models\\\\WeightedEnsemble_L4\\\\',\n  'LightGBMXT_BAG_L4': 'AutogluonModels/ag-20220725_214737\\\\models\\\\LightGBMXT_BAG_L4\\\\',\n  'LightGBM_BAG_L4': 'AutogluonModels/ag-20220725_214737\\\\models\\\\LightGBM_BAG_L4\\\\',\n  'RandomForestMSE_BAG_L4': 'AutogluonModels/ag-20220725_214737\\\\models\\\\RandomForestMSE_BAG_L4\\\\',\n  'CatBoost_BAG_L4': 'AutogluonModels/ag-20220725_214737\\\\models\\\\CatBoost_BAG_L4\\\\',\n  'WeightedEnsemble_L5': 'AutogluonModels/ag-20220725_214737\\\\models\\\\WeightedEnsemble_L5\\\\'},\n 'model_fit_times': {'KNeighborsUnif_BAG_L1': 0.04556918144226074,\n  'KNeighborsDist_BAG_L1': 0.03426241874694824,\n  'LightGBMXT_BAG_L1': 33.16545033454895,\n  'LightGBM_BAG_L1': 17.162203311920166,\n  'RandomForestMSE_BAG_L1': 2.9904894828796387,\n  'CatBoost_BAG_L1': 107.24856901168823,\n  'ExtraTreesMSE_BAG_L1': 1.5505235195159912,\n  'NeuralNetFastAI_BAG_L1': 20.429203033447266,\n  'WeightedEnsemble_L2': 0.5653414726257324,\n  'LightGBMXT_BAG_L2': 9.558750629425049,\n  'LightGBM_BAG_L2': 9.449012994766235,\n  'RandomForestMSE_BAG_L2': 7.294093370437622,\n  'CatBoost_BAG_L2': 83.77781987190247,\n  'ExtraTreesMSE_BAG_L2': 2.424995183944702,\n  'NeuralNetFastAI_BAG_L2': 40.26632857322693,\n  'WeightedEnsemble_L3': 0.5362796783447266,\n  'LightGBMXT_BAG_L3': 8.75719690322876,\n  'LightGBM_BAG_L3': 9.162879467010498,\n  'RandomForestMSE_BAG_L3': 6.793275356292725,\n  'CatBoost_BAG_L3': 52.66256594657898,\n  'ExtraTreesMSE_BAG_L3': 2.249087333679199,\n  'NeuralNetFastAI_BAG_L3': 39.899235248565674,\n  'WeightedEnsemble_L4': 0.3404669761657715,\n  'LightGBMXT_BAG_L4': 8.819047212600708,\n  'LightGBM_BAG_L4': 8.574765920639038,\n  'RandomForestMSE_BAG_L4': 6.374269008636475,\n  'CatBoost_BAG_L4': 25.40246868133545,\n  'WeightedEnsemble_L5': 0.29888916015625},\n 'model_pred_times': {'KNeighborsUnif_BAG_L1': 0.06816935539245605,\n  'KNeighborsDist_BAG_L1': 0.05110812187194824,\n  'LightGBMXT_BAG_L1': 20.958888053894043,\n  'LightGBM_BAG_L1': 3.4024147987365723,\n  'RandomForestMSE_BAG_L1': 0.6833376884460449,\n  'CatBoost_BAG_L1': 0.1457531452178955,\n  'ExtraTreesMSE_BAG_L1': 0.5762777328491211,\n  'NeuralNetFastAI_BAG_L1': 0.5001087188720703,\n  'WeightedEnsemble_L2': 0.0,\n  'LightGBMXT_BAG_L2': 0.45423364639282227,\n  'LightGBM_BAG_L2': 0.17285537719726562,\n  'RandomForestMSE_BAG_L2': 0.6911606788635254,\n  'CatBoost_BAG_L2': 0.08641505241394043,\n  'ExtraTreesMSE_BAG_L2': 0.6773347854614258,\n  'NeuralNetFastAI_BAG_L2': 0.6153779029846191,\n  'WeightedEnsemble_L3': 0.001497030258178711,\n  'LightGBMXT_BAG_L3': 0.21410560607910156,\n  'LightGBM_BAG_L3': 0.09238314628601074,\n  'RandomForestMSE_BAG_L3': 0.7083535194396973,\n  'CatBoost_BAG_L3': 0.09128475189208984,\n  'ExtraTreesMSE_BAG_L3': 0.7551138401031494,\n  'NeuralNetFastAI_BAG_L3': 0.5558140277862549,\n  'WeightedEnsemble_L4': 0.0,\n  'LightGBMXT_BAG_L4': 0.23244976997375488,\n  'LightGBM_BAG_L4': 0.14272546768188477,\n  'RandomForestMSE_BAG_L4': 0.6762628555297852,\n  'CatBoost_BAG_L4': 0.14631009101867676,\n  'WeightedEnsemble_L5': 0.0004999637603759766},\n 'num_bag_folds': 10,\n 'max_stack_level': 5,\n 'model_hyperparams': {'KNeighborsUnif_BAG_L1': {'use_orig_features': True,\n   'max_base_models': 25,\n   'max_base_models_per_type': 5,\n   'save_bag_folds': True,\n   'use_child_oof': True},\n  'KNeighborsDist_BAG_L1': {'use_orig_features': True,\n   'max_base_models': 25,\n   'max_base_models_per_type': 5,\n   'save_bag_folds': True,\n   'use_child_oof': True},\n  'LightGBMXT_BAG_L1': {'use_orig_features': True,\n   'max_base_models': 25,\n   'max_base_models_per_type': 5,\n   'save_bag_folds': True},\n  'LightGBM_BAG_L1': {'use_orig_features': True,\n   'max_base_models': 25,\n   'max_base_models_per_type': 5,\n   'save_bag_folds': True},\n  'RandomForestMSE_BAG_L1': {'use_orig_features': True,\n   'max_base_models': 25,\n   'max_base_models_per_type': 5,\n   'save_bag_folds': True,\n   'use_child_oof': True},\n  'CatBoost_BAG_L1': {'use_orig_features': True,\n   'max_base_models': 25,\n   'max_base_models_per_type': 5,\n   'save_bag_folds': True},\n  'ExtraTreesMSE_BAG_L1': {'use_orig_features': True,\n   'max_base_models': 25,\n   'max_base_models_per_type': 5,\n   'save_bag_folds': True,\n   'use_child_oof': True},\n  'NeuralNetFastAI_BAG_L1': {'use_orig_features': True,\n   'max_base_models': 25,\n   'max_base_models_per_type': 5,\n   'save_bag_folds': True},\n  'WeightedEnsemble_L2': {'use_orig_features': False,\n   'max_base_models': 25,\n   'max_base_models_per_type': 5,\n   'save_bag_folds': True},\n  'LightGBMXT_BAG_L2': {'use_orig_features': True,\n   'max_base_models': 25,\n   'max_base_models_per_type': 5,\n   'save_bag_folds': True},\n  'LightGBM_BAG_L2': {'use_orig_features': True,\n   'max_base_models': 25,\n   'max_base_models_per_type': 5,\n   'save_bag_folds': True},\n  'RandomForestMSE_BAG_L2': {'use_orig_features': True,\n   'max_base_models': 25,\n   'max_base_models_per_type': 5,\n   'save_bag_folds': True,\n   'use_child_oof': True},\n  'CatBoost_BAG_L2': {'use_orig_features': True,\n   'max_base_models': 25,\n   'max_base_models_per_type': 5,\n   'save_bag_folds': True},\n  'ExtraTreesMSE_BAG_L2': {'use_orig_features': True,\n   'max_base_models': 25,\n   'max_base_models_per_type': 5,\n   'save_bag_folds': True,\n   'use_child_oof': True},\n  'NeuralNetFastAI_BAG_L2': {'use_orig_features': True,\n   'max_base_models': 25,\n   'max_base_models_per_type': 5,\n   'save_bag_folds': True},\n  'WeightedEnsemble_L3': {'use_orig_features': False,\n   'max_base_models': 25,\n   'max_base_models_per_type': 5,\n   'save_bag_folds': True},\n  'LightGBMXT_BAG_L3': {'use_orig_features': True,\n   'max_base_models': 25,\n   'max_base_models_per_type': 5,\n   'save_bag_folds': True},\n  'LightGBM_BAG_L3': {'use_orig_features': True,\n   'max_base_models': 25,\n   'max_base_models_per_type': 5,\n   'save_bag_folds': True},\n  'RandomForestMSE_BAG_L3': {'use_orig_features': True,\n   'max_base_models': 25,\n   'max_base_models_per_type': 5,\n   'save_bag_folds': True,\n   'use_child_oof': True},\n  'CatBoost_BAG_L3': {'use_orig_features': True,\n   'max_base_models': 25,\n   'max_base_models_per_type': 5,\n   'save_bag_folds': True},\n  'ExtraTreesMSE_BAG_L3': {'use_orig_features': True,\n   'max_base_models': 25,\n   'max_base_models_per_type': 5,\n   'save_bag_folds': True,\n   'use_child_oof': True},\n  'NeuralNetFastAI_BAG_L3': {'use_orig_features': True,\n   'max_base_models': 25,\n   'max_base_models_per_type': 5,\n   'save_bag_folds': True},\n  'WeightedEnsemble_L4': {'use_orig_features': False,\n   'max_base_models': 25,\n   'max_base_models_per_type': 5,\n   'save_bag_folds': True},\n  'LightGBMXT_BAG_L4': {'use_orig_features': True,\n   'max_base_models': 25,\n   'max_base_models_per_type': 5,\n   'save_bag_folds': True},\n  'LightGBM_BAG_L4': {'use_orig_features': True,\n   'max_base_models': 25,\n   'max_base_models_per_type': 5,\n   'save_bag_folds': True},\n  'RandomForestMSE_BAG_L4': {'use_orig_features': True,\n   'max_base_models': 25,\n   'max_base_models_per_type': 5,\n   'save_bag_folds': True,\n   'use_child_oof': True},\n  'CatBoost_BAG_L4': {'use_orig_features': True,\n   'max_base_models': 25,\n   'max_base_models_per_type': 5,\n   'save_bag_folds': True},\n  'WeightedEnsemble_L5': {'use_orig_features': False,\n   'max_base_models': 25,\n   'max_base_models_per_type': 5,\n   'save_bag_folds': True}},\n 'leaderboard':                      model   score_val  pred_time_val    fit_time  \\\n 0      WeightedEnsemble_L3  -35.102103      29.084932  335.933551   \n 1   NeuralNetFastAI_BAG_L2  -35.488157      27.001436  222.892599   \n 2      WeightedEnsemble_L4  -35.544452      31.194001  437.341902   \n 3          CatBoost_BAG_L3  -35.636764      29.174720  388.059837   \n 4          CatBoost_BAG_L2  -35.711171      26.472473  266.404090   \n 5          LightGBM_BAG_L2  -35.752457      26.558913  192.075283   \n 6      WeightedEnsemble_L2  -35.787189      25.258563  161.177623   \n 7   NeuralNetFastAI_BAG_L3  -35.832489      29.639249  375.296506   \n 8     ExtraTreesMSE_BAG_L2  -35.878472      27.063392  185.051265   \n 9        LightGBMXT_BAG_L2  -36.026934      26.840291  192.185021   \n 10     WeightedEnsemble_L5  -36.057724      32.466288  495.571904   \n 11         CatBoost_BAG_L4  -36.166338      31.646800  480.323980   \n 12  RandomForestMSE_BAG_L2  -36.246560      27.077218  189.920364   \n 13    ExtraTreesMSE_BAG_L3  -36.271418      29.838549  337.646358   \n 14         LightGBM_BAG_L3  -36.288621      29.175818  344.560150   \n 15       LightGBMXT_BAG_L3  -36.556213      29.297541  344.154468   \n 16         LightGBM_BAG_L4  -36.567484      31.643215  463.496277   \n 17  RandomForestMSE_BAG_L3  -36.659478      29.791789  342.190546   \n 18       LightGBMXT_BAG_L1  -36.866510      20.958888   33.165450   \n 19  RandomForestMSE_BAG_L4  -36.936216      32.176753  461.295780   \n 20       LightGBMXT_BAG_L4  -37.086719      31.732940  463.740558   \n 21         LightGBM_BAG_L1  -37.506205       3.402415   17.162203   \n 22         CatBoost_BAG_L1  -40.227678       0.145753  107.248569   \n 23    ExtraTreesMSE_BAG_L1  -41.620331       0.576278    1.550524   \n 24  RandomForestMSE_BAG_L1  -42.161291       0.683338    2.990489   \n 25   KNeighborsUnif_BAG_L1  -92.252668       0.068169    0.045569   \n 26  NeuralNetFastAI_BAG_L1 -101.521836       0.500109   20.429203   \n 27   KNeighborsDist_BAG_L1 -117.102256       0.051108    0.034262   \n \n     pred_time_val_marginal  fit_time_marginal  stack_level  can_infer  \\\n 0                 0.001497           0.536280            3       True   \n 1                 0.615378          40.266329            2       True   \n 2                 0.000000           0.340467            4       True   \n 3                 0.091285          52.662566            3       True   \n 4                 0.086415          83.777820            2       True   \n 5                 0.172855           9.449013            2       True   \n 6                 0.000000           0.565341            2       True   \n 7                 0.555814          39.899235            3       True   \n 8                 0.677335           2.424995            2       True   \n 9                 0.454234           9.558751            2       True   \n 10                0.000500           0.298889            5       True   \n 11                0.146310          25.402469            4       True   \n 12                0.691161           7.294093            2       True   \n 13                0.755114           2.249087            3       True   \n 14                0.092383           9.162879            3       True   \n 15                0.214106           8.757197            3       True   \n 16                0.142725           8.574766            4       True   \n 17                0.708354           6.793275            3       True   \n 18               20.958888          33.165450            1       True   \n 19                0.676263           6.374269            4       True   \n 20                0.232450           8.819047            4       True   \n 21                3.402415          17.162203            1       True   \n 22                0.145753         107.248569            1       True   \n 23                0.576278           1.550524            1       True   \n 24                0.683338           2.990489            1       True   \n 25                0.068169           0.045569            1       True   \n 26                0.500109          20.429203            1       True   \n 27                0.051108           0.034262            1       True   \n \n     fit_order  \n 0          16  \n 1          15  \n 2          23  \n 3          20  \n 4          13  \n 5          11  \n 6           9  \n 7          22  \n 8          14  \n 9          10  \n 10         28  \n 11         27  \n 12         12  \n 13         21  \n 14         18  \n 15         17  \n 16         25  \n 17         19  \n 18          3  \n 19         26  \n 20         24  \n 21          4  \n 22          6  \n 23          7  \n 24          5  \n 25          1  \n 26          8  \n 27          2  }"
     },
     "execution_count": 49,
     "metadata": {},
     "output_type": "execute_result"
    }
   ],
   "source": [
    "predictor_hpo_tune.fit_summary()"
   ],
   "metadata": {
    "collapsed": false,
    "pycharm": {
     "name": "#%%\n"
    }
   }
  },
  {
   "cell_type": "code",
   "execution_count": 161,
   "outputs": [
    {
     "name": "stderr",
     "output_type": "stream",
     "text": [
      "\n",
      "KeyboardInterrupt\n",
      "\n"
     ]
    }
   ],
   "source": [
    "predictions_hpo_tune = predictor_hpo_tune.predict(test)"
   ],
   "metadata": {
    "collapsed": false,
    "pycharm": {
     "name": "#%%\n"
    }
   }
  },
  {
   "cell_type": "code",
   "execution_count": 51,
   "outputs": [
    {
     "data": {
      "text/plain": "0    14.031633\n1     4.218542\n2     2.839131\n3     3.180840\n4     3.024372\nName: count, dtype: float32"
     },
     "execution_count": 51,
     "metadata": {},
     "output_type": "execute_result"
    }
   ],
   "source": [
    "predictions_hpo_tune.head()"
   ],
   "metadata": {
    "collapsed": false,
    "pycharm": {
     "name": "#%%\n"
    }
   }
  },
  {
   "cell_type": "code",
   "execution_count": 52,
   "outputs": [
    {
     "data": {
      "text/plain": "count    6493.000000\nmean      178.917221\nstd       161.929672\nmin        -1.292561\n25%        45.639431\n50%       141.956512\n75%       262.864410\nmax       850.173950\nName: count, dtype: float64"
     },
     "execution_count": 52,
     "metadata": {},
     "output_type": "execute_result"
    }
   ],
   "source": [
    "predictions_hpo_tune.describe()"
   ],
   "metadata": {
    "collapsed": false,
    "pycharm": {
     "name": "#%%\n"
    }
   }
  },
  {
   "cell_type": "code",
   "execution_count": 53,
   "outputs": [],
   "source": [
    "predictions_hpo_tune = predictions_hpo_tune.clip(lower=0)"
   ],
   "metadata": {
    "collapsed": false,
    "pycharm": {
     "name": "#%%\n"
    }
   }
  },
  {
   "cell_type": "code",
   "execution_count": 54,
   "outputs": [],
   "source": [
    "submission[\"count\"] = predictions_hpo_tune\n",
    "submission.to_csv(\"submission_hpo_tune.csv\", index=False)"
   ],
   "metadata": {
    "collapsed": false,
    "pycharm": {
     "name": "#%%\n"
    }
   }
  },
  {
   "cell_type": "code",
   "execution_count": 55,
   "outputs": [
    {
     "name": "stdout",
     "output_type": "stream",
     "text": [
      "Successfully submitted to Bike Sharing Demand\n"
     ]
    },
    {
     "name": "stderr",
     "output_type": "stream",
     "text": [
      "\n",
      "  0%|          | 0.00/194k [00:00<?, ?B/s]\n",
      "  4%|4         | 8.00k/194k [00:00<00:02, 64.9kB/s]\n",
      "100%|##########| 194k/194k [00:01<00:00, 189kB/s]  \n"
     ]
    }
   ],
   "source": [
    "!kaggle competitions submit -c bike-sharing-demand -f submission_hpo_tune.csv -m \"hpo tuning\""
   ],
   "metadata": {
    "collapsed": false,
    "pycharm": {
     "name": "#%%\n"
    }
   }
  },
  {
   "cell_type": "code",
   "execution_count": 162,
   "outputs": [
    {
     "name": "stderr",
     "output_type": "stream",
     "text": [
      "No path specified. Models will be saved in: \"AutogluonModels/ag-20220725_233347\\\"\n",
      "Presets specified: ['best_quality']\n",
      "Beginning AutoGluon training ... Time limit = 600s\n",
      "AutoGluon will save models to \"AutogluonModels/ag-20220725_233347\\\"\n",
      "AutoGluon Version:  0.5.0\n",
      "Python Version:     3.9.12\n",
      "Operating System:   Windows\n",
      "Train Data Rows:    10886\n",
      "Train Data Columns: 15\n",
      "Label Column: count\n",
      "Preprocessing data ...\n",
      "Using Feature Generators to preprocess the data ...\n",
      "Dropping user-specified ignored columns: ['casual', 'registered', 'datetime']\n",
      "Fitting AutoMLPipelineFeatureGenerator...\n",
      "\tAvailable Memory:                    4997.82 MB\n",
      "\tTrain Data (Original)  Memory Usage: 0.89 MB (0.0% of available memory)\n",
      "\tInferring data type of each feature based on column values. Set feature_metadata_in to manually specify special dtypes of the features.\n",
      "\tStage 1 Generators:\n",
      "\t\tFitting AsTypeFeatureGenerator...\n",
      "\t\t\tNote: Converting 3 features to boolean dtype as they only contain 2 unique values.\n",
      "\tStage 2 Generators:\n",
      "\t\tFitting FillNaFeatureGenerator...\n",
      "\tStage 3 Generators:\n",
      "\t\tFitting IdentityFeatureGenerator...\n",
      "\t\tFitting CategoryFeatureGenerator...\n",
      "\t\t\tFitting CategoryMemoryMinimizeFeatureGenerator...\n",
      "\tStage 4 Generators:\n",
      "\t\tFitting DropUniqueFeatureGenerator...\n",
      "\tTypes of features in original data (raw dtype, special dtypes):\n",
      "\t\t('category', []) : 2 | ['season', 'weather']\n",
      "\t\t('float', [])    : 4 | ['temp', 'atemp', 'humidity', 'windspeed']\n",
      "\t\t('int', [])      : 6 | ['holiday', 'workingday', 'year', 'month', 'day', ...]\n",
      "\tTypes of features in processed data (raw dtype, special dtypes):\n",
      "\t\t('category', [])  : 2 | ['season', 'weather']\n",
      "\t\t('float', [])     : 4 | ['temp', 'atemp', 'humidity', 'windspeed']\n",
      "\t\t('int', [])       : 3 | ['month', 'day', 'hour']\n",
      "\t\t('int', ['bool']) : 3 | ['holiday', 'workingday', 'year']\n",
      "\t0.2s = Fit runtime\n",
      "\t12 features in original data used to generate 12 features in processed data.\n",
      "\tTrain Data (Processed) Memory Usage: 0.67 MB (0.0% of available memory)\n",
      "Data preprocessing and feature engineering runtime = 0.2s ...\n",
      "AutoGluon will gauge predictive performance using evaluation metric: 'root_mean_squared_error'\n",
      "\tThis metric's sign has been flipped to adhere to being higher_is_better. The metric score can be multiplied by -1 to get the metric value.\n",
      "\tTo change this, specify the eval_metric parameter of Predictor()\n",
      "AutoGluon will fit 3 stack levels (L1 to L3) ...\n",
      "Fitting 11 L1 models ...\n",
      "Fitting model: KNeighborsUnif_BAG_L1 ... Training model for up to 266.51s of the 599.79s of remaining time.\n",
      "\t-92.2527\t = Validation score   (-root_mean_squared_error)\n",
      "\t0.05s\t = Training   runtime\n",
      "\t0.21s\t = Validation runtime\n",
      "Fitting model: KNeighborsDist_BAG_L1 ... Training model for up to 265.95s of the 599.23s of remaining time.\n",
      "\t-117.1023\t = Validation score   (-root_mean_squared_error)\n",
      "\t0.05s\t = Training   runtime\n",
      "\t0.05s\t = Validation runtime\n",
      "Fitting model: LightGBMXT_BAG_L1 ... Training model for up to 265.8s of the 599.08s of remaining time.\n",
      "\tFitting 5 child models (S1F1 - S1F5) | Fitting with ParallelLocalFoldFittingStrategy\n",
      "\t-37.6951\t = Validation score   (-root_mean_squared_error)\n",
      "\t39.91s\t = Training   runtime\n",
      "\t24.72s\t = Validation runtime\n",
      "Fitting model: LightGBM_BAG_L1 ... Training model for up to 215.87s of the 549.15s of remaining time.\n",
      "\tFitting 5 child models (S1F1 - S1F5) | Fitting with ParallelLocalFoldFittingStrategy\n",
      "\t-38.0621\t = Validation score   (-root_mean_squared_error)\n",
      "\t17.13s\t = Training   runtime\n",
      "\t3.88s\t = Validation runtime\n",
      "Fitting model: RandomForestMSE_BAG_L1 ... Training model for up to 192.6s of the 525.88s of remaining time.\n",
      "\t-42.1613\t = Validation score   (-root_mean_squared_error)\n",
      "\t3.24s\t = Training   runtime\n",
      "\t0.76s\t = Validation runtime\n",
      "Fitting model: CatBoost_BAG_L1 ... Training model for up to 187.88s of the 521.17s of remaining time.\n",
      "\tFitting 5 child models (S1F1 - S1F5) | Fitting with ParallelLocalFoldFittingStrategy\n",
      "\t-38.4256\t = Validation score   (-root_mean_squared_error)\n",
      "\t170.13s\t = Training   runtime\n",
      "\t0.07s\t = Validation runtime\n",
      "Fitting model: ExtraTreesMSE_BAG_L1 ... Training model for up to 12.64s of the 345.92s of remaining time.\n",
      "\t-41.6203\t = Validation score   (-root_mean_squared_error)\n",
      "\t1.47s\t = Training   runtime\n",
      "\t0.5s\t = Validation runtime\n",
      "Fitting model: NeuralNetFastAI_BAG_L1 ... Training model for up to 10.29s of the 343.57s of remaining time.\n",
      "\tFitting 5 child models (S1F1 - S1F5) | Fitting with ParallelLocalFoldFittingStrategy\n",
      "\t-59.7204\t = Validation score   (-root_mean_squared_error)\n",
      "\t9.71s\t = Training   runtime\n",
      "\t0.21s\t = Validation runtime\n",
      "Completed 1/20 k-fold bagging repeats ...\n",
      "Fitting model: WeightedEnsemble_L2 ... Training model for up to 360.0s of the 330.8s of remaining time.\n",
      "\t-36.2231\t = Validation score   (-root_mean_squared_error)\n",
      "\t0.57s\t = Training   runtime\n",
      "\t0.0s\t = Validation runtime\n",
      "Fitting 9 L2 models ...\n",
      "Fitting model: LightGBMXT_BAG_L2 ... Training model for up to 220.08s of the 330.18s of remaining time.\n",
      "\tFitting 5 child models (S1F1 - S1F5) | Fitting with ParallelLocalFoldFittingStrategy\n",
      "\t-36.4739\t = Validation score   (-root_mean_squared_error)\n",
      "\t3.32s\t = Training   runtime\n",
      "\t0.3s\t = Validation runtime\n",
      "Fitting model: LightGBM_BAG_L2 ... Training model for up to 214.22s of the 324.31s of remaining time.\n",
      "\tFitting 5 child models (S1F1 - S1F5) | Fitting with ParallelLocalFoldFittingStrategy\n",
      "\t-36.4572\t = Validation score   (-root_mean_squared_error)\n",
      "\t3.14s\t = Training   runtime\n",
      "\t0.08s\t = Validation runtime\n",
      "Fitting model: RandomForestMSE_BAG_L2 ... Training model for up to 208.89s of the 318.97s of remaining time.\n",
      "\t-36.7192\t = Validation score   (-root_mean_squared_error)\n",
      "\t6.93s\t = Training   runtime\n",
      "\t0.66s\t = Validation runtime\n",
      "Fitting model: CatBoost_BAG_L2 ... Training model for up to 200.88s of the 310.97s of remaining time.\n",
      "\tFitting 5 child models (S1F1 - S1F5) | Fitting with ParallelLocalFoldFittingStrategy\n",
      "\t-35.9893\t = Validation score   (-root_mean_squared_error)\n",
      "\t53.52s\t = Training   runtime\n",
      "\t0.03s\t = Validation runtime\n",
      "Fitting model: ExtraTreesMSE_BAG_L2 ... Training model for up to 145.19s of the 255.28s of remaining time.\n",
      "\t-36.1457\t = Validation score   (-root_mean_squared_error)\n",
      "\t2.31s\t = Training   runtime\n",
      "\t0.64s\t = Validation runtime\n",
      "Fitting model: NeuralNetFastAI_BAG_L2 ... Training model for up to 141.79s of the 251.88s of remaining time.\n",
      "\tFitting 5 child models (S1F1 - S1F5) | Fitting with ParallelLocalFoldFittingStrategy\n",
      "\t-35.9596\t = Validation score   (-root_mean_squared_error)\n",
      "\t16.24s\t = Training   runtime\n",
      "\t0.35s\t = Validation runtime\n",
      "Fitting model: XGBoost_BAG_L2 ... Training model for up to 123.18s of the 233.27s of remaining time.\n",
      "\tFitting 5 child models (S1F1 - S1F5) | Fitting with ParallelLocalFoldFittingStrategy\n",
      "\t-36.5501\t = Validation score   (-root_mean_squared_error)\n",
      "\t3.65s\t = Training   runtime\n",
      "\t0.09s\t = Validation runtime\n",
      "Fitting model: NeuralNetTorch_BAG_L2 ... Training model for up to 117.06s of the 227.16s of remaining time.\n",
      "\tFitting 5 child models (S1F1 - S1F5) | Fitting with ParallelLocalFoldFittingStrategy\n",
      "\t-36.85\t = Validation score   (-root_mean_squared_error)\n",
      "\t31.75s\t = Training   runtime\n",
      "\t0.16s\t = Validation runtime\n",
      "Fitting model: LightGBMLarge_BAG_L2 ... Training model for up to 83.11s of the 193.21s of remaining time.\n",
      "\tFitting 5 child models (S1F1 - S1F5) | Fitting with ParallelLocalFoldFittingStrategy\n",
      "\t-37.0251\t = Validation score   (-root_mean_squared_error)\n",
      "\t4.01s\t = Training   runtime\n",
      "\t0.2s\t = Validation runtime\n",
      "Completed 1/20 k-fold bagging repeats ...\n",
      "Fitting model: WeightedEnsemble_L3 ... Training model for up to 360.0s of the 186.85s of remaining time.\n",
      "\t-35.4557\t = Validation score   (-root_mean_squared_error)\n",
      "\t0.56s\t = Training   runtime\n",
      "\t0.0s\t = Validation runtime\n",
      "Fitting 9 L3 models ...\n",
      "Fitting model: LightGBMXT_BAG_L3 ... Training model for up to 186.26s of the 186.26s of remaining time.\n",
      "\tFitting 5 child models (S1F1 - S1F5) | Fitting with ParallelLocalFoldFittingStrategy\n",
      "\t-36.5564\t = Validation score   (-root_mean_squared_error)\n",
      "\t2.29s\t = Training   runtime\n",
      "\t0.11s\t = Validation runtime\n",
      "Fitting model: LightGBM_BAG_L3 ... Training model for up to 181.76s of the 181.76s of remaining time.\n",
      "\tFitting 5 child models (S1F1 - S1F5) | Fitting with ParallelLocalFoldFittingStrategy\n",
      "\t-36.5109\t = Validation score   (-root_mean_squared_error)\n",
      "\t2.44s\t = Training   runtime\n",
      "\t0.08s\t = Validation runtime\n",
      "Fitting model: RandomForestMSE_BAG_L3 ... Training model for up to 177.12s of the 177.12s of remaining time.\n",
      "\t-36.7884\t = Validation score   (-root_mean_squared_error)\n",
      "\t6.66s\t = Training   runtime\n",
      "\t0.6s\t = Validation runtime\n",
      "Fitting model: CatBoost_BAG_L3 ... Training model for up to 169.44s of the 169.44s of remaining time.\n",
      "\tFitting 5 child models (S1F1 - S1F5) | Fitting with ParallelLocalFoldFittingStrategy\n",
      "\t-35.9635\t = Validation score   (-root_mean_squared_error)\n",
      "\t39.84s\t = Training   runtime\n",
      "\t0.03s\t = Validation runtime\n",
      "Fitting model: ExtraTreesMSE_BAG_L3 ... Training model for up to 127.4s of the 127.39s of remaining time.\n",
      "\t-36.5283\t = Validation score   (-root_mean_squared_error)\n",
      "\t2.3s\t = Training   runtime\n",
      "\t0.57s\t = Validation runtime\n",
      "Fitting model: NeuralNetFastAI_BAG_L3 ... Training model for up to 124.08s of the 124.08s of remaining time.\n",
      "\tFitting 5 child models (S1F1 - S1F5) | Fitting with ParallelLocalFoldFittingStrategy\n",
      "\t-36.3496\t = Validation score   (-root_mean_squared_error)\n",
      "\t14.35s\t = Training   runtime\n",
      "\t0.17s\t = Validation runtime\n",
      "Fitting model: XGBoost_BAG_L3 ... Training model for up to 107.65s of the 107.65s of remaining time.\n",
      "\tFitting 5 child models (S1F1 - S1F5) | Fitting with ParallelLocalFoldFittingStrategy\n",
      "\t-36.5343\t = Validation score   (-root_mean_squared_error)\n",
      "\t3.19s\t = Training   runtime\n",
      "\t0.08s\t = Validation runtime\n",
      "Fitting model: NeuralNetTorch_BAG_L3 ... Training model for up to 102.18s of the 102.16s of remaining time.\n",
      "\tFitting 5 child models (S1F1 - S1F5) | Fitting with ParallelLocalFoldFittingStrategy\n",
      "\t-37.058\t = Validation score   (-root_mean_squared_error)\n",
      "\t23.29s\t = Training   runtime\n",
      "\t0.2s\t = Validation runtime\n",
      "Fitting model: LightGBMLarge_BAG_L3 ... Training model for up to 76.6s of the 76.6s of remaining time.\n",
      "\tFitting 5 child models (S1F1 - S1F5) | Fitting with ParallelLocalFoldFittingStrategy\n",
      "\t-37.3369\t = Validation score   (-root_mean_squared_error)\n",
      "\t4.16s\t = Training   runtime\n",
      "\t0.16s\t = Validation runtime\n",
      "Completed 1/20 k-fold bagging repeats ...\n",
      "Fitting model: WeightedEnsemble_L4 ... Training model for up to 360.0s of the 70.0s of remaining time.\n",
      "\t-35.8543\t = Validation score   (-root_mean_squared_error)\n",
      "\t0.54s\t = Training   runtime\n",
      "\t0.0s\t = Validation runtime\n",
      "AutoGluon training complete, total runtime = 530.6s ... Best model: \"WeightedEnsemble_L3\"\n",
      "TabularPredictor saved. To load, use: predictor = TabularPredictor.load(\"AutogluonModels/ag-20220725_233347\\\")\n"
     ]
    }
   ],
   "source": [
    "predictor_hpo_tune_2 = TabularPredictor(label=\"count\", problem_type=\"regression\", eval_metric=\"root_mean_squared_error\", learner_kwargs=learner_kwargs_new).fit(\n",
    "    train_data = train,\n",
    "    time_limit = 600,\n",
    "    presets = \"best_quality\",\n",
    "    num_stack_levels = 2, # set stacking, bagging to highest levels\n",
    "    num_bag_folds = 5,\n",
    "    auto_stack = False\n",
    ")"
   ],
   "metadata": {
    "collapsed": false,
    "pycharm": {
     "name": "#%%\n"
    }
   }
  },
  {
   "cell_type": "code",
   "execution_count": 163,
   "outputs": [],
   "source": [
    "predictions_hpo_tune_2 = predictor_hpo_tune_2.predict(test)"
   ],
   "metadata": {
    "collapsed": false,
    "pycharm": {
     "name": "#%%\n"
    }
   }
  },
  {
   "cell_type": "code",
   "execution_count": 164,
   "outputs": [],
   "source": [
    "predictions_hpo_tune_2.describe()\n",
    "predictions_hpo_tune_2 = predictions_hpo_tune_2.clip(lower=0)"
   ],
   "metadata": {
    "collapsed": false,
    "pycharm": {
     "name": "#%%\n"
    }
   }
  },
  {
   "cell_type": "code",
   "execution_count": 165,
   "outputs": [],
   "source": [
    "submission[\"count\"] = predictions_hpo_tune_2\n",
    "submission.to_csv(\"submission_hpo_tune_2.csv\", index=False)"
   ],
   "metadata": {
    "collapsed": false,
    "pycharm": {
     "name": "#%%\n"
    }
   }
  },
  {
   "cell_type": "code",
   "execution_count": 166,
   "outputs": [
    {
     "name": "stdout",
     "output_type": "stream",
     "text": [
      "Successfully submitted to Bike Sharing Demand\n"
     ]
    },
    {
     "name": "stderr",
     "output_type": "stream",
     "text": [
      "\n",
      "  0%|          | 0.00/194k [00:00<?, ?B/s]\n",
      "  4%|4         | 8.00k/194k [00:00<00:03, 57.6kB/s]\n",
      "100%|##########| 194k/194k [00:00<00:00, 974kB/s]  \n",
      "100%|##########| 194k/194k [00:00<00:00, 268kB/s]\n"
     ]
    }
   ],
   "source": [
    "!kaggle competitions submit -c bike-sharing-demand -f submission_hpo_tune_2.csv -m \"hpo tuning 2\""
   ],
   "metadata": {
    "collapsed": false,
    "pycharm": {
     "name": "#%%\n"
    }
   }
  },
  {
   "cell_type": "markdown",
   "source": [
    "## Score of 0.50987"
   ],
   "metadata": {
    "collapsed": false,
    "pycharm": {
     "name": "#%% md\n"
    }
   }
  },
  {
   "cell_type": "markdown",
   "source": [],
   "metadata": {
    "collapsed": false,
    "pycharm": {
     "name": "#%% md\n"
    }
   }
  },
  {
   "cell_type": "code",
   "execution_count": 125,
   "outputs": [],
   "source": [
    "# Try XGBoost"
   ],
   "metadata": {
    "collapsed": false,
    "pycharm": {
     "name": "#%%\n"
    }
   }
  },
  {
   "cell_type": "code",
   "execution_count": 98,
   "outputs": [],
   "source": [
    "import xgboost as xgb\n",
    "from sklearn.metrics import mean_squared_error as MSE\n",
    "import numpy as np"
   ],
   "metadata": {
    "collapsed": false,
    "pycharm": {
     "name": "#%%\n"
    }
   }
  },
  {
   "cell_type": "code",
   "execution_count": 88,
   "outputs": [],
   "source": [
    "train_d = pd.read_csv(\"./Data/train.csv\")\n",
    "train_d['datetime'] = pd.to_datetime(train_d['datetime'])\n",
    "train_d['year'] = pd.DatetimeIndex(train_d['datetime']).year\n",
    "train_d['month'] = pd.DatetimeIndex(train_d['datetime']).month\n",
    "train_d['day'] = pd.DatetimeIndex(train_d['datetime']).day\n",
    "train_d['hour'] = pd.DatetimeIndex(train_d['datetime']).hour\n",
    "columns = ['datetime', 'casual', 'registered']\n",
    "train_d = train_d.drop(columns, axis=1)"
   ],
   "metadata": {
    "collapsed": false,
    "pycharm": {
     "name": "#%%\n"
    }
   }
  },
  {
   "cell_type": "code",
   "execution_count": 143,
   "outputs": [],
   "source": [
    "X_train = train_d.loc[:, train_d.columns != \"count\"]\n",
    "y_train = train_d['count']"
   ],
   "metadata": {
    "collapsed": false,
    "pycharm": {
     "name": "#%%\n"
    }
   }
  },
  {
   "cell_type": "code",
   "execution_count": 92,
   "outputs": [],
   "source": [
    "test_d = pd.read_csv(\"./Data/test.csv\")\n",
    "test_d['datetime'] = pd.to_datetime(test_d['datetime'])\n",
    "test_d['year'] = pd.DatetimeIndex(test_d['datetime']).year\n",
    "test_d['month'] = pd.DatetimeIndex(test_d['datetime']).month\n",
    "test_d['day'] = pd.DatetimeIndex(test_d['datetime']).day\n",
    "test_d['hour'] = pd.DatetimeIndex(test_d['datetime']).hour\n",
    "test_d = test_d.drop('datetime', axis=1)"
   ],
   "metadata": {
    "collapsed": false,
    "pycharm": {
     "name": "#%%\n"
    }
   }
  },
  {
   "cell_type": "code",
   "execution_count": 93,
   "outputs": [
    {
     "name": "stderr",
     "output_type": "stream",
     "text": [
      "C:\\Users\\grace\\anaconda3\\envs\\myenv\\lib\\site-packages\\xgboost\\data.py:208: FutureWarning: pandas.Int64Index is deprecated and will be removed from pandas in a future version. Use pandas.Index with the appropriate dtype instead.\n",
      "  from pandas import MultiIndex, Int64Index\n"
     ]
    }
   ],
   "source": [
    "dtrain = xgb.DMatrix(train_d.loc[:, train_d.columns != \"count\"], train_d['count'],  enable_categorical=True )\n",
    "dtest = xgb.DMatrix(test_d.loc[:, test_d.columns != \"count\"], enable_categorical = True)"
   ],
   "metadata": {
    "collapsed": false,
    "pycharm": {
     "name": "#%%\n"
    }
   }
  },
  {
   "cell_type": "code",
   "execution_count": 133,
   "outputs": [],
   "source": [
    "# How does the model perform on the training dataset and default model parameters?\n",
    "# Using the hyperparameters in the requirements, is there improvement?\n",
    "# Remember we use the test dataset to score the model\n",
    "param = {\n",
    "    \"max_depth\": 10,\n",
    "    \"eta\": 0.03,\n",
    "    \"gamma\": 0.09,\n",
    "    \"colsample_bytree\": 0.5,\n",
    "    \"objective\": \"reg:squarederror\",\n",
    "    \"eval_metric\": \"rmse\"\n",
    "}\n",
    "num_round=1000\n",
    "bst = xgb.train(param, dtrain, num_round)"
   ],
   "metadata": {
    "collapsed": false,
    "pycharm": {
     "name": "#%%\n"
    }
   }
  },
  {
   "cell_type": "code",
   "execution_count": 134,
   "outputs": [],
   "source": [
    "prediction_xgb = bst.predict(dtest)"
   ],
   "metadata": {
    "collapsed": false,
    "pycharm": {
     "name": "#%%\n"
    }
   }
  },
  {
   "cell_type": "code",
   "execution_count": 135,
   "outputs": [],
   "source": [
    "prediction_xgb = prediction_xgb.clip(min=0)"
   ],
   "metadata": {
    "collapsed": false,
    "pycharm": {
     "name": "#%%\n"
    }
   }
  },
  {
   "cell_type": "code",
   "execution_count": 136,
   "outputs": [],
   "source": [
    "submission[\"count\"] = prediction_xgb\n",
    "submission.to_csv(\"submission_xgb.csv\", index=False)"
   ],
   "metadata": {
    "collapsed": false,
    "pycharm": {
     "name": "#%%\n"
    }
   }
  },
  {
   "cell_type": "code",
   "execution_count": 137,
   "outputs": [
    {
     "name": "stdout",
     "output_type": "stream",
     "text": [
      "Successfully submitted to Bike Sharing Demand\n"
     ]
    },
    {
     "name": "stderr",
     "output_type": "stream",
     "text": [
      "\n",
      "  0%|          | 0.00/194k [00:00<?, ?B/s]\n",
      "  4%|4         | 8.00k/194k [00:00<00:03, 60.7kB/s]\n",
      "100%|##########| 194k/194k [00:00<00:00, 1.01MB/s] \n",
      "100%|##########| 194k/194k [00:00<00:00, 265kB/s] \n"
     ]
    }
   ],
   "source": [
    "!kaggle competitions submit -c bike-sharing-demand -f submission_xgb.csv -m \"xgb only\""
   ],
   "metadata": {
    "collapsed": false,
    "pycharm": {
     "name": "#%%\n"
    }
   }
  },
  {
   "cell_type": "markdown",
   "source": [
    "## Score of 0.69663"
   ],
   "metadata": {
    "collapsed": false,
    "pycharm": {
     "name": "#%% md\n"
    }
   }
  },
  {
   "cell_type": "code",
   "execution_count": 126,
   "outputs": [],
   "source": [
    "# Try neural network"
   ],
   "metadata": {
    "collapsed": false,
    "pycharm": {
     "name": "#%%\n"
    }
   }
  },
  {
   "cell_type": "code",
   "execution_count": 140,
   "outputs": [],
   "source": [
    "from sklearn.neural_network import MLPRegressor"
   ],
   "metadata": {
    "collapsed": false,
    "pycharm": {
     "name": "#%%\n"
    }
   }
  },
  {
   "cell_type": "code",
   "execution_count": 145,
   "outputs": [],
   "source": [
    "regr = MLPRegressor(random_state=0, max_iter=500).fit(X_train, y_train)"
   ],
   "metadata": {
    "collapsed": false,
    "pycharm": {
     "name": "#%%\n"
    }
   }
  },
  {
   "cell_type": "code",
   "execution_count": 147,
   "outputs": [],
   "source": [
    "predictions_mlp = regr.predict(test_d)"
   ],
   "metadata": {
    "collapsed": false,
    "pycharm": {
     "name": "#%%\n"
    }
   }
  },
  {
   "cell_type": "code",
   "execution_count": 149,
   "outputs": [],
   "source": [
    "predictions_mlp = predictions_mlp.clip(min=0)"
   ],
   "metadata": {
    "collapsed": false,
    "pycharm": {
     "name": "#%%\n"
    }
   }
  },
  {
   "cell_type": "code",
   "execution_count": 150,
   "outputs": [],
   "source": [
    "submission[\"count\"] = predictions_mlp\n",
    "submission.to_csv(\"submission_mlp.csv\", index=False)"
   ],
   "metadata": {
    "collapsed": false,
    "pycharm": {
     "name": "#%%\n"
    }
   }
  },
  {
   "cell_type": "code",
   "execution_count": 151,
   "outputs": [
    {
     "name": "stdout",
     "output_type": "stream",
     "text": [
      "Successfully submitted to Bike Sharing Demand\n"
     ]
    },
    {
     "name": "stderr",
     "output_type": "stream",
     "text": [
      "\n",
      "  0%|          | 0.00/246k [00:00<?, ?B/s]\n",
      "  3%|3         | 8.00k/246k [00:00<00:04, 58.5kB/s]\n",
      " 91%|######### | 224k/246k [00:00<00:00, 1.14MB/s] \n",
      "100%|##########| 246k/246k [00:03<00:00, 65.0kB/s]\n"
     ]
    }
   ],
   "source": [
    "!kaggle competitions submit -c bike-sharing-demand -f submission_mlp.csv -m \"mlp only\""
   ],
   "metadata": {
    "collapsed": false,
    "pycharm": {
     "name": "#%%\n"
    }
   }
  },
  {
   "cell_type": "markdown",
   "source": [
    "## Score of 1.34434"
   ],
   "metadata": {
    "collapsed": false,
    "pycharm": {
     "name": "#%% md\n"
    }
   }
  },
  {
   "cell_type": "markdown",
   "source": [
    "# Summary"
   ],
   "metadata": {
    "collapsed": false,
    "pycharm": {
     "name": "#%% md\n"
    }
   }
  },
  {
   "cell_type": "code",
   "execution_count": 155,
   "outputs": [
    {
     "data": {
      "text/plain": "<Figure size 576x432 with 1 Axes>",
      "image/png": "[encoded data removed]"
     },
     "metadata": {
      "needs_background": "light"
     },
     "output_type": "display_data"
    }
   ],
   "source": [
    "fig = pd.DataFrame(\n",
    "    {\n",
    "        \"model\": [\"initial\", \"normalization\", \"add_features\", \"hpo 1\", \"hpo 2\", \"xgb only\", \"mlp only\"],\n",
    "        \"score\": [1.80763, 1.79863, 0.50277, 0.50987, ? , 0.69663 , 01.34434]\n",
    "    }\n",
    ").plot(x=\"model\", y=\"score\", title = \"RMSE Scores\", figsize=(8, 6)).get_figure()\n",
    "fig.savefig('model_train_score.png')"
   ],
   "metadata": {
    "collapsed": false,
    "pycharm": {
     "name": "#%%\n"
    }
   }
  },
  {
   "cell_type": "code",
   "execution_count": 159,
   "outputs": [
    {
     "data": {
      "text/plain": "          model  time  num_bag_folds  num_stack_levels    score\n0       initial   600              0                 0  1.80763\n1  add_features   600              0                 0  0.50277\n2           hpo   600             10                 3  0.50987",
      "text/html": "<div>\n<style scoped>\n    .dataframe tbody tr th:only-of-type {\n        vertical-align: middle;\n    }\n\n    .dataframe tbody tr th {\n        vertical-align: top;\n    }\n\n    .dataframe thead th {\n        text-align: right;\n    }\n</style>\n<table border=\"1\" class=\"dataframe\">\n  <thead>\n    <tr style=\"text-align: right;\">\n      <th></th>\n      <th>model</th>\n      <th>time</th>\n      <th>num_bag_folds</th>\n      <th>num_stack_levels</th>\n      <th>score</th>\n    </tr>\n  </thead>\n  <tbody>\n    <tr>\n      <th>0</th>\n      <td>initial</td>\n      <td>600</td>\n      <td>0</td>\n      <td>0</td>\n      <td>1.80763</td>\n    </tr>\n    <tr>\n      <th>1</th>\n      <td>add_features</td>\n      <td>600</td>\n      <td>0</td>\n      <td>0</td>\n      <td>0.50277</td>\n    </tr>\n    <tr>\n      <th>2</th>\n      <td>hpo</td>\n      <td>600</td>\n      <td>10</td>\n      <td>3</td>\n      <td>0.50987</td>\n    </tr>\n  </tbody>\n</table>\n</div>"
     },
     "execution_count": 159,
     "metadata": {},
     "output_type": "execute_result"
    }
   ],
   "source": [
    "pd.DataFrame({\n",
    "    \"model\": [\"initial\", \"add_features\", \"hpo 1\", \"hpo 2\"],\n",
    "    \"time\": [600, 600, 600, 600],\n",
    "    \"num_bag_folds\": [0, 0, 10, 5],\n",
    "    \"num_stack_levels\": [0, 0, 3, 2],\n",
    "    \"score\": [1.80763, 0.50277, 0.50987, ?]\n",
    "})"
   ],
   "metadata": {
    "collapsed": false,
    "pycharm": {
     "name": "#%%\n"
    }
   }
  }
 ],
 "metadata": {
  "kernelspec": {
   "display_name": "Python 3",
   "language": "python",
   "name": "python3"
  },
  "language_info": {
   "codemirror_mode": {
    "name": "ipython",
    "version": 2
   },
   "file_extension": ".py",
   "mimetype": "text/x-python",
   "name": "python",
   "nbconvert_exporter": "python",
   "pygments_lexer": "ipython2",
   "version": "2.7.6"
  }
 },
 "nbformat": 4,
 "nbformat_minor": 0
}